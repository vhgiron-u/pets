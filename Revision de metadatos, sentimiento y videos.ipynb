{
 "cells": [
  {
   "cell_type": "code",
   "execution_count": 1,
   "metadata": {},
   "outputs": [],
   "source": [
    "import pandas as pd"
   ]
  },
  {
   "cell_type": "code",
   "execution_count": 2,
   "metadata": {},
   "outputs": [
    {
     "name": "stdout",
     "output_type": "stream",
     "text": [
      "^C\n"
     ]
    }
   ],
   "source": [
    "#!pip install pandas"
   ]
  },
  {
   "cell_type": "code",
   "execution_count": 2,
   "metadata": {},
   "outputs": [],
   "source": [
    "import json"
   ]
  },
  {
   "cell_type": "code",
   "execution_count": 21,
   "metadata": {},
   "outputs": [],
   "source": [
    "with open('test_metadata/000aa306a-2.json') as f:\n",
    "    data = json.load(f)"
   ]
  },
  {
   "cell_type": "code",
   "execution_count": 22,
   "metadata": {},
   "outputs": [
    {
     "data": {
      "text/plain": [
       "{'labelAnnotations': [{'mid': '/m/0bt9lr',\n",
       "   'description': 'dog',\n",
       "   'score': 0.9573608,\n",
       "   'topicality': 0.9573608},\n",
       "  {'mid': '/m/0kpmf',\n",
       "   'description': 'dog breed',\n",
       "   'score': 0.9426798,\n",
       "   'topicality': 0.9426798},\n",
       "  {'mid': '/m/01z5f',\n",
       "   'description': 'dog like mammal',\n",
       "   'score': 0.91074276,\n",
       "   'topicality': 0.91074276},\n",
       "  {'mid': '/m/02xl47d',\n",
       "   'description': 'dog breed group',\n",
       "   'score': 0.8326152,\n",
       "   'topicality': 0.8326152},\n",
       "  {'mid': '/m/0286819',\n",
       "   'description': 'formosan mountain dog',\n",
       "   'score': 0.70330393,\n",
       "   'topicality': 0.70330393},\n",
       "  {'mid': '/m/05zmzn1',\n",
       "   'description': 'street dog',\n",
       "   'score': 0.68682766,\n",
       "   'topicality': 0.68682766},\n",
       "  {'mid': '/m/01sc6y',\n",
       "   'description': 'patterdale terrier',\n",
       "   'score': 0.61113423,\n",
       "   'topicality': 0.61113423},\n",
       "  {'mid': '/m/01lrl',\n",
       "   'description': 'carnivoran',\n",
       "   'score': 0.55805874,\n",
       "   'topicality': 0.55805874},\n",
       "  {'mid': '/m/0265rtm',\n",
       "   'description': 'sporting group',\n",
       "   'score': 0.5531718,\n",
       "   'topicality': 0.5531718},\n",
       "  {'mid': '/m/03d12',\n",
       "   'description': 'greyhound',\n",
       "   'score': 0.53903836,\n",
       "   'topicality': 0.53903836}],\n",
       " 'imagePropertiesAnnotation': {'dominantColors': {'colors': [{'color': {'red': 26,\n",
       "      'green': 25,\n",
       "      'blue': 32},\n",
       "     'score': 0.30287305,\n",
       "     'pixelFraction': 0.13643089},\n",
       "    {'color': {'red': 248, 'green': 248, 'blue': 250},\n",
       "     'score': 0.05335993,\n",
       "     'pixelFraction': 0.02929861},\n",
       "    {'color': {'red': 53, 'green': 48, 'blue': 57},\n",
       "     'score': 0.24281983,\n",
       "     'pixelFraction': 0.12607281},\n",
       "    {'color': {'red': 85, 'green': 77, 'blue': 87},\n",
       "     'score': 0.08198271,\n",
       "     'pixelFraction': 0.079091445},\n",
       "    {'color': {'red': 49, 'green': 47, 'blue': 65},\n",
       "     'score': 0.08079594,\n",
       "     'pixelFraction': 0.034921575},\n",
       "    {'color': {'red': 28, 'green': 27, 'blue': 43},\n",
       "     'score': 0.05435279,\n",
       "     'pixelFraction': 0.03847292},\n",
       "    {'color': {'red': 123, 'green': 115, 'blue': 125},\n",
       "     'score': 0.04757137,\n",
       "     'pixelFraction': 0.1043208},\n",
       "    {'color': {'red': 202, 'green': 189, 'blue': 195},\n",
       "     'score': 0.03131365,\n",
       "     'pixelFraction': 0.13450725},\n",
       "    {'color': {'red': 166, 'green': 155, 'blue': 163},\n",
       "     'score': 0.026429024,\n",
       "     'pixelFraction': 0.1668393},\n",
       "    {'color': {'red': 82, 'green': 77, 'blue': 97},\n",
       "     'score': 0.02598433,\n",
       "     'pixelFraction': 0.024267536}]}},\n",
       " 'cropHintsAnnotation': {'cropHints': [{'boundingPoly': {'vertices': [{},\n",
       "      {'x': 350},\n",
       "      {'x': 350, 'y': 399},\n",
       "      {'y': 399}]},\n",
       "    'confidence': 0.79999995,\n",
       "    'importanceFraction': 1}]}}"
      ]
     },
     "execution_count": 22,
     "metadata": {},
     "output_type": "execute_result"
    }
   ],
   "source": [
    "data"
   ]
  },
  {
   "cell_type": "code",
   "execution_count": 12,
   "metadata": {},
   "outputs": [],
   "source": [
    "with open('test_sentiment/000aa306a.json') as f:\n",
    "    data_sentiment = json.load(f)#['labelAnnotations']"
   ]
  },
  {
   "cell_type": "code",
   "execution_count": 13,
   "metadata": {},
   "outputs": [
    {
     "data": {
      "text/plain": [
       "['sentences',\n",
       " 'tokens',\n",
       " 'entities',\n",
       " 'documentSentiment',\n",
       " 'language',\n",
       " 'categories']"
      ]
     },
     "execution_count": 13,
     "metadata": {},
     "output_type": "execute_result"
    }
   ],
   "source": [
    "[k for k in data_sentiment]"
   ]
  },
  {
   "cell_type": "code",
   "execution_count": 26,
   "metadata": {},
   "outputs": [
    {
     "data": {
      "text/plain": [
       "{'sentences': [{'text': {'content': 'Cherry was a stray dog we rescued from the streets.',\n",
       "    'beginOffset': -1},\n",
       "   'sentiment': {'magnitude': 0, 'score': 0}},\n",
       "  {'text': {'content': 'She behaves like a total house pet, who would believe she used to stray for a year plus!',\n",
       "    'beginOffset': -1},\n",
       "   'sentiment': {'magnitude': 0, 'score': 0}},\n",
       "  {'text': {'content': 'Cherry loves to be indoor, loves to be near human, loves human touches, loves other dogs.',\n",
       "    'beginOffset': -1},\n",
       "   'sentiment': {'magnitude': 0.8, 'score': 0.8}},\n",
       "  {'text': {'content': 'We are looking for a forever home that could continue letting Cherry do all that she loves.',\n",
       "    'beginOffset': -1},\n",
       "   'sentiment': {'magnitude': 0.8, 'score': 0.8}},\n",
       "  {'text': {'content': 'We want to find Cherry a home which will treat her as a house pet and stays indoor.',\n",
       "    'beginOffset': -1},\n",
       "   'sentiment': {'magnitude': 0.5, 'score': 0.5}},\n",
       "  {'text': {'content': \"Don't be mistaken, Cherry is very alert at strangers and noises at the gate, but being a watch dog should not be her full time 'job'.\",\n",
       "    'beginOffset': -1},\n",
       "   'sentiment': {'magnitude': 0.5, 'score': -0.5}},\n",
       "  {'text': {'content': 'If you love a dog who loves to manja, pls call us.',\n",
       "    'beginOffset': -1},\n",
       "   'sentiment': {'magnitude': 0.7, 'score': 0.7}},\n",
       "  {'text': {'content': 'Home visits will be arranged with potential adopter, and adopter to reimburse spaying n vaccination costs.',\n",
       "    'beginOffset': -1},\n",
       "   'sentiment': {'magnitude': 0.8, 'score': 0.8}},\n",
       "  {'text': {'content': 'TQ. :)', 'beginOffset': -1},\n",
       "   'sentiment': {'magnitude': 0.3, 'score': 0.3}}],\n",
       " 'tokens': [],\n",
       " 'entities': [{'name': 'Cherry',\n",
       "   'type': 'PERSON',\n",
       "   'metadata': {},\n",
       "   'salience': 0.703432,\n",
       "   'mentions': [{'text': {'content': 'Cherry', 'beginOffset': -1},\n",
       "     'type': 'PROPER'},\n",
       "    {'text': {'content': 'Cherry', 'beginOffset': -1}, 'type': 'PROPER'},\n",
       "    {'text': {'content': 'Cherry', 'beginOffset': -1}, 'type': 'PROPER'},\n",
       "    {'text': {'content': 'Cherry', 'beginOffset': -1}, 'type': 'PROPER'},\n",
       "    {'text': {'content': 'Cherry', 'beginOffset': -1}, 'type': 'PROPER'}]},\n",
       "  {'name': 'dog',\n",
       "   'type': 'OTHER',\n",
       "   'metadata': {},\n",
       "   'salience': 0.06889684,\n",
       "   'mentions': [{'text': {'content': 'dog', 'beginOffset': -1},\n",
       "     'type': 'COMMON'}]},\n",
       "  {'name': 'streets',\n",
       "   'type': 'LOCATION',\n",
       "   'metadata': {},\n",
       "   'salience': 0.051402573,\n",
       "   'mentions': [{'text': {'content': 'streets', 'beginOffset': -1},\n",
       "     'type': 'COMMON'}]},\n",
       "  {'name': 'home',\n",
       "   'type': 'LOCATION',\n",
       "   'metadata': {},\n",
       "   'salience': 0.039520532,\n",
       "   'mentions': [{'text': {'content': 'home', 'beginOffset': -1},\n",
       "     'type': 'COMMON'}]},\n",
       "  {'name': 'home',\n",
       "   'type': 'LOCATION',\n",
       "   'metadata': {},\n",
       "   'salience': 0.031784207,\n",
       "   'mentions': [{'text': {'content': 'home', 'beginOffset': -1},\n",
       "     'type': 'COMMON'}]},\n",
       "  {'name': 'house pet',\n",
       "   'type': 'OTHER',\n",
       "   'metadata': {},\n",
       "   'salience': 0.028612027,\n",
       "   'mentions': [{'text': {'content': 'house pet', 'beginOffset': -1},\n",
       "     'type': 'COMMON'}]},\n",
       "  {'name': 'all',\n",
       "   'type': 'OTHER',\n",
       "   'metadata': {},\n",
       "   'salience': 0.022199122,\n",
       "   'mentions': [{'text': {'content': 'all', 'beginOffset': -1},\n",
       "     'type': 'COMMON'}]},\n",
       "  {'name': 'human touches',\n",
       "   'type': 'OTHER',\n",
       "   'metadata': {},\n",
       "   'salience': 0.006900303,\n",
       "   'mentions': [{'text': {'content': 'human touches', 'beginOffset': -1},\n",
       "     'type': 'COMMON'}]},\n",
       "  {'name': 'dogs',\n",
       "   'type': 'OTHER',\n",
       "   'metadata': {},\n",
       "   'salience': 0.006900303,\n",
       "   'mentions': [{'text': {'content': 'dogs', 'beginOffset': -1},\n",
       "     'type': 'COMMON'}]},\n",
       "  {'name': 'house pet',\n",
       "   'type': 'OTHER',\n",
       "   'metadata': {},\n",
       "   'salience': 0.0068189153,\n",
       "   'mentions': [{'text': {'content': 'house pet', 'beginOffset': -1},\n",
       "     'type': 'COMMON'}]},\n",
       "  {'name': 'human',\n",
       "   'type': 'PERSON',\n",
       "   'metadata': {},\n",
       "   'salience': 0.0064903563,\n",
       "   'mentions': [{'text': {'content': 'human', 'beginOffset': -1},\n",
       "     'type': 'COMMON'}]},\n",
       "  {'name': 'dog',\n",
       "   'type': 'OTHER',\n",
       "   'metadata': {},\n",
       "   'salience': 0.0059695737,\n",
       "   'mentions': [{'text': {'content': 'dog', 'beginOffset': -1},\n",
       "     'type': 'COMMON'}]},\n",
       "  {'name': 'job',\n",
       "   'type': 'OTHER',\n",
       "   'metadata': {},\n",
       "   'salience': 0.0045095966,\n",
       "   'mentions': [{'text': {'content': 'job', 'beginOffset': -1},\n",
       "     'type': 'COMMON'}]},\n",
       "  {'name': 'Home visits',\n",
       "   'type': 'EVENT',\n",
       "   'metadata': {},\n",
       "   'salience': 0.003147394,\n",
       "   'mentions': [{'text': {'content': 'Home visits', 'beginOffset': -1},\n",
       "     'type': 'COMMON'}]},\n",
       "  {'name': 'spaying n vaccination costs',\n",
       "   'type': 'OTHER',\n",
       "   'metadata': {},\n",
       "   'salience': 0.003147394,\n",
       "   'mentions': [{'text': {'content': 'spaying n vaccination costs',\n",
       "      'beginOffset': -1},\n",
       "     'type': 'COMMON'}]},\n",
       "  {'name': 'watch dog',\n",
       "   'type': 'OTHER',\n",
       "   'metadata': {},\n",
       "   'salience': 0.002470916,\n",
       "   'mentions': [{'text': {'content': 'watch dog', 'beginOffset': -1},\n",
       "     'type': 'COMMON'}]},\n",
       "  {'name': 'strangers',\n",
       "   'type': 'PERSON',\n",
       "   'metadata': {},\n",
       "   'salience': 0.0019798146,\n",
       "   'mentions': [{'text': {'content': 'strangers', 'beginOffset': -1},\n",
       "     'type': 'COMMON'}]},\n",
       "  {'name': 'noises',\n",
       "   'type': 'OTHER',\n",
       "   'metadata': {},\n",
       "   'salience': 0.0019798146,\n",
       "   'mentions': [{'text': {'content': 'noises', 'beginOffset': -1},\n",
       "     'type': 'COMMON'}]},\n",
       "  {'name': 'gate',\n",
       "   'type': 'OTHER',\n",
       "   'metadata': {},\n",
       "   'salience': 0.0019798146,\n",
       "   'mentions': [{'text': {'content': 'gate', 'beginOffset': -1},\n",
       "     'type': 'COMMON'}]},\n",
       "  {'name': 'TQ.',\n",
       "   'type': 'OTHER',\n",
       "   'metadata': {},\n",
       "   'salience': 0.0018584842,\n",
       "   'mentions': [{'text': {'content': 'TQ.', 'beginOffset': -1},\n",
       "     'type': 'PROPER'}]}],\n",
       " 'documentSentiment': {'magnitude': 4.8, 'score': 0.4},\n",
       " 'language': 'en',\n",
       " 'categories': []}"
      ]
     },
     "execution_count": 26,
     "metadata": {},
     "output_type": "execute_result"
    }
   ],
   "source": [
    "data_sentiment"
   ]
  },
  {
   "cell_type": "code",
   "execution_count": 15,
   "metadata": {},
   "outputs": [
    {
     "data": {
      "text/plain": [
       "(3972, 23)"
      ]
     },
     "execution_count": 15,
     "metadata": {},
     "output_type": "execute_result"
    }
   ],
   "source": [
    "df_test = pd.read_csv('test/test.csv')\n",
    "df_test.shape"
   ]
  },
  {
   "cell_type": "code",
   "execution_count": 16,
   "metadata": {},
   "outputs": [
    {
     "data": {
      "text/plain": [
       "Index(['Type', 'Name', 'Age', 'Breed1', 'Breed2', 'Gender', 'Color1', 'Color2',\n",
       "       'Color3', 'MaturitySize', 'FurLength', 'Vaccinated', 'Dewormed',\n",
       "       'Sterilized', 'Health', 'Quantity', 'Fee', 'State', 'RescuerID',\n",
       "       'VideoAmt', 'Description', 'PetID', 'PhotoAmt'],\n",
       "      dtype='object')"
      ]
     },
     "execution_count": 16,
     "metadata": {},
     "output_type": "execute_result"
    }
   ],
   "source": [
    "df_test.columns"
   ]
  },
  {
   "cell_type": "code",
   "execution_count": 17,
   "metadata": {},
   "outputs": [
    {
     "data": {
      "text/plain": [
       "Type              int64\n",
       "Name             object\n",
       "Age               int64\n",
       "Breed1            int64\n",
       "Breed2            int64\n",
       "Gender            int64\n",
       "Color1            int64\n",
       "Color2            int64\n",
       "Color3            int64\n",
       "MaturitySize      int64\n",
       "FurLength         int64\n",
       "Vaccinated        int64\n",
       "Dewormed          int64\n",
       "Sterilized        int64\n",
       "Health            int64\n",
       "Quantity          int64\n",
       "Fee               int64\n",
       "State             int64\n",
       "RescuerID        object\n",
       "VideoAmt          int64\n",
       "Description      object\n",
       "PetID            object\n",
       "PhotoAmt        float64\n",
       "dtype: object"
      ]
     },
     "execution_count": 17,
     "metadata": {},
     "output_type": "execute_result"
    }
   ],
   "source": [
    "df_test.dtypes"
   ]
  },
  {
   "cell_type": "code",
   "execution_count": 23,
   "metadata": {},
   "outputs": [
    {
     "data": {
      "text/html": [
       "<div>\n",
       "<style scoped>\n",
       "    .dataframe tbody tr th:only-of-type {\n",
       "        vertical-align: middle;\n",
       "    }\n",
       "\n",
       "    .dataframe tbody tr th {\n",
       "        vertical-align: top;\n",
       "    }\n",
       "\n",
       "    .dataframe thead th {\n",
       "        text-align: right;\n",
       "    }\n",
       "</style>\n",
       "<table border=\"1\" class=\"dataframe\">\n",
       "  <thead>\n",
       "    <tr style=\"text-align: right;\">\n",
       "      <th></th>\n",
       "      <th>Type</th>\n",
       "      <th>Name</th>\n",
       "      <th>Age</th>\n",
       "      <th>Breed1</th>\n",
       "      <th>Breed2</th>\n",
       "      <th>Gender</th>\n",
       "      <th>Color1</th>\n",
       "      <th>Color2</th>\n",
       "      <th>Color3</th>\n",
       "      <th>MaturitySize</th>\n",
       "      <th>...</th>\n",
       "      <th>Sterilized</th>\n",
       "      <th>Health</th>\n",
       "      <th>Quantity</th>\n",
       "      <th>Fee</th>\n",
       "      <th>State</th>\n",
       "      <th>RescuerID</th>\n",
       "      <th>VideoAmt</th>\n",
       "      <th>Description</th>\n",
       "      <th>PetID</th>\n",
       "      <th>PhotoAmt</th>\n",
       "    </tr>\n",
       "  </thead>\n",
       "  <tbody>\n",
       "    <tr>\n",
       "      <th>1238</th>\n",
       "      <td>1</td>\n",
       "      <td>Cherry</td>\n",
       "      <td>24</td>\n",
       "      <td>307</td>\n",
       "      <td>0</td>\n",
       "      <td>2</td>\n",
       "      <td>1</td>\n",
       "      <td>0</td>\n",
       "      <td>0</td>\n",
       "      <td>2</td>\n",
       "      <td>...</td>\n",
       "      <td>1</td>\n",
       "      <td>1</td>\n",
       "      <td>1</td>\n",
       "      <td>0</td>\n",
       "      <td>41401</td>\n",
       "      <td>3d4289bff821c72d07901d644383b6da</td>\n",
       "      <td>0</td>\n",
       "      <td>Cherry was a stray dog we rescued from the str...</td>\n",
       "      <td>000aa306a</td>\n",
       "      <td>9.0</td>\n",
       "    </tr>\n",
       "  </tbody>\n",
       "</table>\n",
       "<p>1 rows × 23 columns</p>\n",
       "</div>"
      ],
      "text/plain": [
       "      Type    Name  Age  Breed1  Breed2  Gender  Color1  Color2  Color3  \\\n",
       "1238     1  Cherry   24     307       0       2       1       0       0   \n",
       "\n",
       "      MaturitySize  ...  Sterilized  Health  Quantity  Fee  State  \\\n",
       "1238             2  ...           1       1         1    0  41401   \n",
       "\n",
       "                             RescuerID  VideoAmt  \\\n",
       "1238  3d4289bff821c72d07901d644383b6da         0   \n",
       "\n",
       "                                            Description      PetID  PhotoAmt  \n",
       "1238  Cherry was a stray dog we rescued from the str...  000aa306a       9.0  \n",
       "\n",
       "[1 rows x 23 columns]"
      ]
     },
     "execution_count": 23,
     "metadata": {},
     "output_type": "execute_result"
    }
   ],
   "source": [
    "df_test[df_test['PetID']==\"000aa306a\"]"
   ]
  },
  {
   "cell_type": "code",
   "execution_count": 25,
   "metadata": {},
   "outputs": [
    {
     "data": {
      "text/plain": [
       "\"Cherry was a stray dog we rescued from the streets. She behaves like a total house pet, who would believe she used to stray for a year plus! Cherry loves to be indoor, loves to be near human, loves human touches, loves other dogs. We are looking for a forever home that could continue letting Cherry do all that she loves. We want to find Cherry a home which will treat her as a house pet and stays indoor. Don't be mistaken, Cherry is very alert at strangers and noises at the gate, but being a watch dog should not be her full time 'job'. If you love a dog who loves to manja, pls call us. Home visits will be arranged with potential adopter, and adopter to reimburse spaying n vaccination costs. TQ. :)\""
      ]
     },
     "execution_count": 25,
     "metadata": {},
     "output_type": "execute_result"
    }
   ],
   "source": [
    "df_test[df_test['PetID']==\"000aa306a\"].iloc[0]['Description']"
   ]
  },
  {
   "cell_type": "code",
   "execution_count": 27,
   "metadata": {},
   "outputs": [
    {
     "data": {
      "text/plain": [
       "0       2\n",
       "1       1\n",
       "2       1\n",
       "3       2\n",
       "4       1\n",
       "5       1\n",
       "6       1\n",
       "7       4\n",
       "8       2\n",
       "9       1\n",
       "10      1\n",
       "11      2\n",
       "12      1\n",
       "13      1\n",
       "14      2\n",
       "15      1\n",
       "16      1\n",
       "17      2\n",
       "18      1\n",
       "19      1\n",
       "20      1\n",
       "21      1\n",
       "22      1\n",
       "23      1\n",
       "24      1\n",
       "25      1\n",
       "26      1\n",
       "27      1\n",
       "28      6\n",
       "29      7\n",
       "       ..\n",
       "3942    3\n",
       "3943    6\n",
       "3944    7\n",
       "3945    1\n",
       "3946    5\n",
       "3947    1\n",
       "3948    2\n",
       "3949    1\n",
       "3950    1\n",
       "3951    2\n",
       "3952    2\n",
       "3953    1\n",
       "3954    1\n",
       "3955    5\n",
       "3956    1\n",
       "3957    1\n",
       "3958    4\n",
       "3959    1\n",
       "3960    1\n",
       "3961    1\n",
       "3962    1\n",
       "3963    1\n",
       "3964    3\n",
       "3965    1\n",
       "3966    3\n",
       "3967    2\n",
       "3968    1\n",
       "3969    6\n",
       "3970    1\n",
       "3971    6\n",
       "Name: Quantity, Length: 3972, dtype: int64"
      ]
     },
     "execution_count": 27,
     "metadata": {},
     "output_type": "execute_result"
    }
   ],
   "source": [
    "df_test.Quantity"
   ]
  },
  {
   "cell_type": "code",
   "execution_count": 34,
   "metadata": {},
   "outputs": [],
   "source": [
    "pd.DataFrame(df_test.columns).to_excel('columnas.xlsx',engine='xlsxwriter')"
   ]
  },
  {
   "cell_type": "code",
   "execution_count": 33,
   "metadata": {},
   "outputs": [
    {
     "name": "stdout",
     "output_type": "stream",
     "text": [
      "Collecting xlsxwriter\n",
      "  Downloading https://files.pythonhosted.org/packages/15/d0/73a90dd23b044f05ae758db51920f8f235ab4a6d8cc357d84743acc0099b/XlsxWriter-1.1.6-py2.py3-none-any.whl (139kB)\n",
      "Installing collected packages: xlsxwriter\n",
      "Successfully installed xlsxwriter-1.1.6\n"
     ]
    }
   ],
   "source": [
    "!pip install xlsxwriter"
   ]
  },
  {
   "cell_type": "code",
   "execution_count": 39,
   "metadata": {},
   "outputs": [
    {
     "data": {
      "text/plain": [
       "0    3854\n",
       "1      90\n",
       "2      18\n",
       "3       4\n",
       "4       3\n",
       "5       1\n",
       "8       1\n",
       "6       1\n",
       "Name: VideoAmt, dtype: int64"
      ]
     },
     "execution_count": 39,
     "metadata": {},
     "output_type": "execute_result"
    }
   ],
   "source": [
    "df_test.VideoAmt.value_counts()"
   ]
  },
  {
   "cell_type": "code",
   "execution_count": null,
   "metadata": {},
   "outputs": [],
   "source": [
    "pd.read_"
   ]
  }
 ],
 "metadata": {
  "kernelspec": {
   "display_name": "Python 3",
   "language": "python",
   "name": "python3"
  },
  "language_info": {
   "codemirror_mode": {
    "name": "ipython",
    "version": 3
   },
   "file_extension": ".py",
   "mimetype": "text/x-python",
   "name": "python",
   "nbconvert_exporter": "python",
   "pygments_lexer": "ipython3",
   "version": "3.7.2"
  }
 },
 "nbformat": 4,
 "nbformat_minor": 2
}
