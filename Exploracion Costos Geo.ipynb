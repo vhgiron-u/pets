{
 "cells": [
  {
   "cell_type": "code",
   "execution_count": 1,
   "metadata": {},
   "outputs": [],
   "source": [
    "import pandas as pd\n",
    "import seaborn as sns\n",
    "import matplotlib.pyplot as plt"
   ]
  },
  {
   "cell_type": "markdown",
   "metadata": {},
   "source": [
    "##### Cargamos los datos"
   ]
  },
  {
   "cell_type": "code",
   "execution_count": 4,
   "metadata": {},
   "outputs": [
    {
     "data": {
      "text/plain": [
       "(3972, 23)"
      ]
     },
     "execution_count": 4,
     "metadata": {},
     "output_type": "execute_result"
    }
   ],
   "source": [
    "test = pd.read_csv('data/test/test.csv')\n",
    "test.shape"
   ]
  },
  {
   "cell_type": "code",
   "execution_count": 3,
   "metadata": {},
   "outputs": [
    {
     "data": {
      "text/plain": [
       "(14993, 24)"
      ]
     },
     "execution_count": 3,
     "metadata": {},
     "output_type": "execute_result"
    }
   ],
   "source": [
    "train = pd.read_csv('data/train/train.csv')\n",
    "train.shape"
   ]
  },
  {
   "cell_type": "code",
   "execution_count": 5,
   "metadata": {},
   "outputs": [
    {
     "data": {
      "text/plain": [
       "{'AdoptionSpeed'}"
      ]
     },
     "execution_count": 5,
     "metadata": {},
     "output_type": "execute_result"
    }
   ],
   "source": [
    "set(train.columns) ^ set(test.columns) # ^ es diferencia simetrica"
   ]
  },
  {
   "cell_type": "markdown",
   "metadata": {},
   "source": [
    "##### Observamos que State es un numero, por ello cargaremos luego la tabla<br>de equivalencias para State para facilitar legibilidad\n"
   ]
  },
  {
   "cell_type": "code",
   "execution_count": 6,
   "metadata": {},
   "outputs": [
    {
     "data": {
      "text/plain": [
       "41326    1833\n",
       "41401    1072\n",
       "41327     510\n",
       "41330     147\n",
       "41336     127\n",
       "41332     101\n",
       "41324      73\n",
       "41325      63\n",
       "41335      17\n",
       "41367       7\n",
       "41345       7\n",
       "41342       5\n",
       "41415       4\n",
       "41361       3\n",
       "41380       3\n",
       "Name: State, dtype: int64"
      ]
     },
     "execution_count": 6,
     "metadata": {},
     "output_type": "execute_result"
    }
   ],
   "source": [
    "test.State.value_counts()"
   ]
  },
  {
   "cell_type": "code",
   "execution_count": 7,
   "metadata": {},
   "outputs": [
    {
     "data": {
      "text/plain": [
       "41326    8714\n",
       "41401    3845\n",
       "41327     843\n",
       "41336     507\n",
       "41330     420\n",
       "41332     253\n",
       "41324     137\n",
       "41325     110\n",
       "41335      85\n",
       "41361      26\n",
       "41345      22\n",
       "41367      15\n",
       "41342      13\n",
       "41415       3\n",
       "Name: State, dtype: int64"
      ]
     },
     "execution_count": 7,
     "metadata": {},
     "output_type": "execute_result"
    }
   ],
   "source": [
    "train.State.value_counts()"
   ]
  },
  {
   "cell_type": "markdown",
   "metadata": {},
   "source": [
    "##### Cargamos tabla de equivalencias de estados y la agregamos a train y test"
   ]
  },
  {
   "cell_type": "code",
   "execution_count": 4,
   "metadata": {},
   "outputs": [
    {
     "data": {
      "text/html": [
       "<div>\n",
       "<style scoped>\n",
       "    .dataframe tbody tr th:only-of-type {\n",
       "        vertical-align: middle;\n",
       "    }\n",
       "\n",
       "    .dataframe tbody tr th {\n",
       "        vertical-align: top;\n",
       "    }\n",
       "\n",
       "    .dataframe thead th {\n",
       "        text-align: right;\n",
       "    }\n",
       "</style>\n",
       "<table border=\"1\" class=\"dataframe\">\n",
       "  <thead>\n",
       "    <tr style=\"text-align: right;\">\n",
       "      <th></th>\n",
       "      <th>State</th>\n",
       "      <th>StateName</th>\n",
       "    </tr>\n",
       "  </thead>\n",
       "  <tbody>\n",
       "    <tr>\n",
       "      <th>0</th>\n",
       "      <td>41336</td>\n",
       "      <td>Johor</td>\n",
       "    </tr>\n",
       "    <tr>\n",
       "      <th>1</th>\n",
       "      <td>41325</td>\n",
       "      <td>Kedah</td>\n",
       "    </tr>\n",
       "    <tr>\n",
       "      <th>2</th>\n",
       "      <td>41367</td>\n",
       "      <td>Kelantan</td>\n",
       "    </tr>\n",
       "    <tr>\n",
       "      <th>3</th>\n",
       "      <td>41401</td>\n",
       "      <td>Kuala Lumpur</td>\n",
       "    </tr>\n",
       "    <tr>\n",
       "      <th>4</th>\n",
       "      <td>41415</td>\n",
       "      <td>Labuan</td>\n",
       "    </tr>\n",
       "    <tr>\n",
       "      <th>5</th>\n",
       "      <td>41324</td>\n",
       "      <td>Melaka</td>\n",
       "    </tr>\n",
       "    <tr>\n",
       "      <th>6</th>\n",
       "      <td>41332</td>\n",
       "      <td>Negeri Sembilan</td>\n",
       "    </tr>\n",
       "    <tr>\n",
       "      <th>7</th>\n",
       "      <td>41335</td>\n",
       "      <td>Pahang</td>\n",
       "    </tr>\n",
       "    <tr>\n",
       "      <th>8</th>\n",
       "      <td>41330</td>\n",
       "      <td>Perak</td>\n",
       "    </tr>\n",
       "    <tr>\n",
       "      <th>9</th>\n",
       "      <td>41380</td>\n",
       "      <td>Perlis</td>\n",
       "    </tr>\n",
       "    <tr>\n",
       "      <th>10</th>\n",
       "      <td>41327</td>\n",
       "      <td>Pulau Pinang</td>\n",
       "    </tr>\n",
       "    <tr>\n",
       "      <th>11</th>\n",
       "      <td>41345</td>\n",
       "      <td>Sabah</td>\n",
       "    </tr>\n",
       "    <tr>\n",
       "      <th>12</th>\n",
       "      <td>41342</td>\n",
       "      <td>Sarawak</td>\n",
       "    </tr>\n",
       "    <tr>\n",
       "      <th>13</th>\n",
       "      <td>41326</td>\n",
       "      <td>Selangor</td>\n",
       "    </tr>\n",
       "    <tr>\n",
       "      <th>14</th>\n",
       "      <td>41361</td>\n",
       "      <td>Terengganu</td>\n",
       "    </tr>\n",
       "  </tbody>\n",
       "</table>\n",
       "</div>"
      ],
      "text/plain": [
       "    State        StateName\n",
       "0   41336            Johor\n",
       "1   41325            Kedah\n",
       "2   41367         Kelantan\n",
       "3   41401     Kuala Lumpur\n",
       "4   41415           Labuan\n",
       "5   41324           Melaka\n",
       "6   41332  Negeri Sembilan\n",
       "7   41335           Pahang\n",
       "8   41330            Perak\n",
       "9   41380           Perlis\n",
       "10  41327     Pulau Pinang\n",
       "11  41345            Sabah\n",
       "12  41342          Sarawak\n",
       "13  41326         Selangor\n",
       "14  41361       Terengganu"
      ]
     },
     "execution_count": 4,
     "metadata": {},
     "output_type": "execute_result"
    }
   ],
   "source": [
    "df_state = pd.read_csv('data/state_labels.csv')\n",
    "df_state.rename(columns={\"StateID\":\"State\"}, inplace=True)\n",
    "df_state"
   ]
  },
  {
   "cell_type": "code",
   "execution_count": 5,
   "metadata": {},
   "outputs": [],
   "source": [
    "train = pd.merge(train, df_state)\n",
    "#test = pd.merge(test, df_state)"
   ]
  },
  {
   "cell_type": "markdown",
   "metadata": {},
   "source": [
    "### Quantity\n",
    "Eventualmente nos encontramos con varias mascotas en un solo anuncio"
   ]
  },
  {
   "cell_type": "code",
   "execution_count": 7,
   "metadata": {},
   "outputs": [
    {
     "data": {
      "text/html": [
       "<div>\n",
       "<style scoped>\n",
       "    .dataframe tbody tr th:only-of-type {\n",
       "        vertical-align: middle;\n",
       "    }\n",
       "\n",
       "    .dataframe tbody tr th {\n",
       "        vertical-align: top;\n",
       "    }\n",
       "\n",
       "    .dataframe thead th {\n",
       "        text-align: right;\n",
       "    }\n",
       "</style>\n",
       "<table border=\"1\" class=\"dataframe\">\n",
       "  <thead>\n",
       "    <tr style=\"text-align: right;\">\n",
       "      <th></th>\n",
       "      <th>Freq</th>\n",
       "      <th>CumulativeFreq</th>\n",
       "      <th>RelFreq</th>\n",
       "      <th>CumulativeRelFreq</th>\n",
       "    </tr>\n",
       "  </thead>\n",
       "  <tbody>\n",
       "    <tr>\n",
       "      <th>1</th>\n",
       "      <td>11565</td>\n",
       "      <td>11565</td>\n",
       "      <td>0.771360</td>\n",
       "      <td>0.771360</td>\n",
       "    </tr>\n",
       "    <tr>\n",
       "      <th>2</th>\n",
       "      <td>1422</td>\n",
       "      <td>12987</td>\n",
       "      <td>0.094844</td>\n",
       "      <td>0.866204</td>\n",
       "    </tr>\n",
       "    <tr>\n",
       "      <th>3</th>\n",
       "      <td>726</td>\n",
       "      <td>13713</td>\n",
       "      <td>0.048423</td>\n",
       "      <td>0.914627</td>\n",
       "    </tr>\n",
       "    <tr>\n",
       "      <th>4</th>\n",
       "      <td>531</td>\n",
       "      <td>14244</td>\n",
       "      <td>0.035417</td>\n",
       "      <td>0.950043</td>\n",
       "    </tr>\n",
       "    <tr>\n",
       "      <th>5</th>\n",
       "      <td>333</td>\n",
       "      <td>14577</td>\n",
       "      <td>0.022210</td>\n",
       "      <td>0.972254</td>\n",
       "    </tr>\n",
       "    <tr>\n",
       "      <th>6</th>\n",
       "      <td>185</td>\n",
       "      <td>14762</td>\n",
       "      <td>0.012339</td>\n",
       "      <td>0.984593</td>\n",
       "    </tr>\n",
       "    <tr>\n",
       "      <th>7</th>\n",
       "      <td>84</td>\n",
       "      <td>14846</td>\n",
       "      <td>0.005603</td>\n",
       "      <td>0.990195</td>\n",
       "    </tr>\n",
       "    <tr>\n",
       "      <th>8</th>\n",
       "      <td>52</td>\n",
       "      <td>14898</td>\n",
       "      <td>0.003468</td>\n",
       "      <td>0.993664</td>\n",
       "    </tr>\n",
       "    <tr>\n",
       "      <th>9</th>\n",
       "      <td>33</td>\n",
       "      <td>14931</td>\n",
       "      <td>0.002201</td>\n",
       "      <td>0.995865</td>\n",
       "    </tr>\n",
       "    <tr>\n",
       "      <th>10</th>\n",
       "      <td>19</td>\n",
       "      <td>14950</td>\n",
       "      <td>0.001267</td>\n",
       "      <td>0.997132</td>\n",
       "    </tr>\n",
       "    <tr>\n",
       "      <th>20</th>\n",
       "      <td>12</td>\n",
       "      <td>14962</td>\n",
       "      <td>0.000800</td>\n",
       "      <td>0.997932</td>\n",
       "    </tr>\n",
       "    <tr>\n",
       "      <th>11</th>\n",
       "      <td>10</td>\n",
       "      <td>14972</td>\n",
       "      <td>0.000667</td>\n",
       "      <td>0.998599</td>\n",
       "    </tr>\n",
       "    <tr>\n",
       "      <th>12</th>\n",
       "      <td>6</td>\n",
       "      <td>14978</td>\n",
       "      <td>0.000400</td>\n",
       "      <td>0.999000</td>\n",
       "    </tr>\n",
       "    <tr>\n",
       "      <th>15</th>\n",
       "      <td>4</td>\n",
       "      <td>14982</td>\n",
       "      <td>0.000267</td>\n",
       "      <td>0.999266</td>\n",
       "    </tr>\n",
       "    <tr>\n",
       "      <th>17</th>\n",
       "      <td>3</td>\n",
       "      <td>14985</td>\n",
       "      <td>0.000200</td>\n",
       "      <td>0.999466</td>\n",
       "    </tr>\n",
       "    <tr>\n",
       "      <th>16</th>\n",
       "      <td>3</td>\n",
       "      <td>14988</td>\n",
       "      <td>0.000200</td>\n",
       "      <td>0.999667</td>\n",
       "    </tr>\n",
       "    <tr>\n",
       "      <th>13</th>\n",
       "      <td>2</td>\n",
       "      <td>14990</td>\n",
       "      <td>0.000133</td>\n",
       "      <td>0.999800</td>\n",
       "    </tr>\n",
       "    <tr>\n",
       "      <th>14</th>\n",
       "      <td>2</td>\n",
       "      <td>14992</td>\n",
       "      <td>0.000133</td>\n",
       "      <td>0.999933</td>\n",
       "    </tr>\n",
       "    <tr>\n",
       "      <th>18</th>\n",
       "      <td>1</td>\n",
       "      <td>14993</td>\n",
       "      <td>0.000067</td>\n",
       "      <td>1.000000</td>\n",
       "    </tr>\n",
       "  </tbody>\n",
       "</table>\n",
       "</div>"
      ],
      "text/plain": [
       "     Freq  CumulativeFreq   RelFreq  CumulativeRelFreq\n",
       "1   11565           11565  0.771360           0.771360\n",
       "2    1422           12987  0.094844           0.866204\n",
       "3     726           13713  0.048423           0.914627\n",
       "4     531           14244  0.035417           0.950043\n",
       "5     333           14577  0.022210           0.972254\n",
       "6     185           14762  0.012339           0.984593\n",
       "7      84           14846  0.005603           0.990195\n",
       "8      52           14898  0.003468           0.993664\n",
       "9      33           14931  0.002201           0.995865\n",
       "10     19           14950  0.001267           0.997132\n",
       "20     12           14962  0.000800           0.997932\n",
       "11     10           14972  0.000667           0.998599\n",
       "12      6           14978  0.000400           0.999000\n",
       "15      4           14982  0.000267           0.999266\n",
       "17      3           14985  0.000200           0.999466\n",
       "16      3           14988  0.000200           0.999667\n",
       "13      2           14990  0.000133           0.999800\n",
       "14      2           14992  0.000133           0.999933\n",
       "18      1           14993  0.000067           1.000000"
      ]
     },
     "execution_count": 7,
     "metadata": {},
     "output_type": "execute_result"
    }
   ],
   "source": [
    "df_quantcum = pd.DataFrame(train.Quantity.value_counts())\n",
    "df_quantcum.rename(columns={'Quantity':'Freq'}, inplace=True)\n",
    "df_quantcum['CumulativeFreq'] = df_quantcum.Freq.cumsum()\n",
    "df_quantcum['RelFreq'] = df_quantcum.Freq / df_quantcum.Freq.sum()\n",
    "df_quantcum['CumulativeRelFreq'] = df_quantcum.RelFreq.cumsum()\n",
    "df_quantcum"
   ]
  },
  {
   "cell_type": "code",
   "execution_count": 55,
   "metadata": {},
   "outputs": [
    {
     "data": {
      "text/plain": [
       "0.004135"
      ]
     },
     "execution_count": 55,
     "metadata": {},
     "output_type": "execute_result"
    }
   ],
   "source": [
    "1 - 0.995865 #anuncios con 10 mascotas o mas"
   ]
  },
  {
   "cell_type": "code",
   "execution_count": 118,
   "metadata": {
    "scrolled": true
   },
   "outputs": [
    {
     "data": {
      "text/plain": [
       "Text(0.5, 1.0, 'Presencia de anuncios por cantidad de mascotas ofrecidas')"
      ]
     },
     "execution_count": 118,
     "metadata": {},
     "output_type": "execute_result"
    },
    {
     "data": {
      "image/png": "[encoded data removed]",
      "text/plain": [
       "<Figure size 720x432 with 1 Axes>"
      ]
     },
     "metadata": {
      "needs_background": "light"
     },
     "output_type": "display_data"
    }
   ],
   "source": [
    "#ax = df_quantcum[df_quantcum.Freq > 100]['Freq'].plot.pie()\n",
    "\n",
    "ax = df_quantcum['Freq'].iloc[1:].plot.bar(figsize=(10, 6))\n",
    "ax.set_title(\"Presencia de anuncios por cantidad de mascotas ofrecidas\")"
   ]
  },
  {
   "cell_type": "code",
   "execution_count": 100,
   "metadata": {},
   "outputs": [],
   "source": [
    "#se observa que el grupo mayoritario es el de anuncios con 1 mascota\n",
    "#luego separaremos en dos grupos menores: anuncios con 2 o 3 mascotas y\n",
    "#                                         anuncios con 4 o mas mascotas"
   ]
  },
  {
   "cell_type": "code",
   "execution_count": 34,
   "metadata": {},
   "outputs": [],
   "source": [
    "def assign_group_quantity(original_quantity):\n",
    "    if original_quantity <= 0:\n",
    "        raise ValueError(\"Expected quantity > 0\")\n",
    "    if original_quantity == 1:\n",
    "        return \"Single pet\"\n",
    "    elif original_quantity <= 3:\n",
    "        return \"2 - 3 pets\"\n",
    "    else:\n",
    "        return \"> 3 pets\""
   ]
  },
  {
   "cell_type": "code",
   "execution_count": 35,
   "metadata": {},
   "outputs": [],
   "source": [
    "train['QuantityGroup'] = train.Quantity.apply(assign_group_quantity)\n",
    "#test['QuantityGroup']  = test.Quantity.apply(assign_group_quantity)"
   ]
  },
  {
   "cell_type": "markdown",
   "metadata": {},
   "source": [
    "Observamos que los anuncios de mascotas solas ocupan más del 77% del total. <br>Asimismo, notamos que los anuncios con 10 mascotas o más representan menos del 0.5% del total, podríamos darle una revisión rápida"
   ]
  },
  {
   "cell_type": "code",
   "execution_count": 11,
   "metadata": {},
   "outputs": [],
   "source": [
    "#pd.set_option('display.max_info_rows',-1)\n",
    "pd.set_option('display.max_colwidth',-1)\n"
   ]
  },
  {
   "cell_type": "code",
   "execution_count": 12,
   "metadata": {
    "scrolled": false
   },
   "outputs": [
    {
     "data": {
      "text/html": [
       "<div>\n",
       "<style scoped>\n",
       "    .dataframe tbody tr th:only-of-type {\n",
       "        vertical-align: middle;\n",
       "    }\n",
       "\n",
       "    .dataframe tbody tr th {\n",
       "        vertical-align: top;\n",
       "    }\n",
       "\n",
       "    .dataframe thead th {\n",
       "        text-align: right;\n",
       "    }\n",
       "</style>\n",
       "<table border=\"1\" class=\"dataframe\">\n",
       "  <thead>\n",
       "    <tr style=\"text-align: right;\">\n",
       "      <th></th>\n",
       "      <th>Name</th>\n",
       "      <th>Description</th>\n",
       "      <th>Quantity</th>\n",
       "      <th>AdoptionSpeed</th>\n",
       "    </tr>\n",
       "  </thead>\n",
       "  <tbody>\n",
       "    <tr>\n",
       "      <th>480</th>\n",
       "      <td>Pancho &amp; Tita</td>\n",
       "      <td>Pancho and Tita are 2 adorable, playful kittens. They can be shy at first but once they get to know you they are the sweetest pets anyone could ask for. Available for adoption now. They are very, very close so we are looking for someone who can take them both.</td>\n",
       "      <td>12</td>\n",
       "      <td>2</td>\n",
       "    </tr>\n",
       "    <tr>\n",
       "      <th>10295</th>\n",
       "      <td>Mayo</td>\n",
       "      <td>Very cuddly and loves to be pampered. Will drool during sleep just like some people do 😅 Loves to sleep in your arms or lap (which will result drooling on you) Very playful.</td>\n",
       "      <td>10</td>\n",
       "      <td>0</td>\n",
       "    </tr>\n",
       "    <tr>\n",
       "      <th>11155</th>\n",
       "      <td>Sunway 17 Puppies</td>\n",
       "      <td>These 11 puppies were rescued from a Sunway development site. At least one puppy was crushed to death instantly. Another fom shock &amp; truma after its tiny limb was crushed to bits too. All are very young around 6 weeks of age.Some have stumpy tails others are long. One is cream in colour, another brown, some black &amp; tan and the rest white with brown markings. All were infested with worms but they are cleared now AND has started putting on weigh &amp; becomes lively as the food ate are all utilize by their very own little bodies &amp; not goppled by nasty worms as before. They are very active and playful now &amp; \"quarrel \" over heirarchy. They are most delightful when all are yapping away in that lovely puppy voices of theirs. 2 others joined in on the 30 Sept.The small one with bunny tail &amp; one eye patch together with another baby whose tail was tied with rubber band ( Cruel people tried docking its tail. It didn't dropped but turned infected with sore &amp; maggots worms !) have gone home to a granny in Seremban on 4 Sept.The other of these 2 is an Alpha.He is just 6 weeks old but he refused to stay in cages or playpen &amp; must run with the big boys.And that he indded does &amp; we called him Morgan. There is another smart Alexis. She Is VERY SMART. Only 6 weeks old but learned she has GREAT magical power by pushing her snout between the playpen bars &amp; pushed. \"By Golly., I can push this fences \". She pushes the pent to &amp; fro to the delights of her fellow buddies this way daily. Quite a sight to behold. Come, these bunch of survivors from the construction site are some characters like their human kind. Thank God, they haven't acquire their language though. 8/9/09 Latest on our Alpha 6 wks old MORGAN Yes. 6 wks old Morgan climbed into our shallow watering bowl &amp; stood in it to cool himself down. He immerse his tiny head into the water next &amp; swings it about before pulling his head out.He shakes the water off next. Only then, will he climds out of the tub. My goodness, he is only 6 wks old. What will he do next ? He actually tried to steal sonme of Loke's ( ahigh ranking adult male )dinner tonight. Loke snarled aggressively &amp; pretended to nap him ;only then did he scrurried away with a scream. Never ever have I seen such alphaness in such a tiny pup before. It is must be the construction environmental factor that spured such genes. 15/9/09 4 more 1mth+ Sunways joined us on the 9/9/09.Small little bunnies they are. Infact two of them have a two inches wide darkened strip running down from its head right down to the base of its tails.Their photos would be out soon but one of the Chipmunk looking pup is already adopted by Aunty Ann &amp; Uncle Clement. They adopted another white Sunway with brown markings &amp; bunny tails.Both are very blessed pups; Aunty Ann loves them to bits &amp; she is expecting her own baby too in March next year. Do contact should you wish to see them in person</td>\n",
       "      <td>11</td>\n",
       "      <td>4</td>\n",
       "    </tr>\n",
       "    <tr>\n",
       "      <th>1500</th>\n",
       "      <td>( 0 Puppies Left  )14+2 Puppies</td>\n",
       "      <td>They are 2 stray mother dogs gave birth 14 puppies at car park lot hidden place. So, I bring all puppies back to my condo temporary take care and for adopters. Please help and give them 2nd chance. Only serious adopters welcome. Someone who will give the pups a loving home. Please call , SMS or Email , if you are interested to adopt. Thank you.</td>\n",
       "      <td>16</td>\n",
       "      <td>2</td>\n",
       "    </tr>\n",
       "    <tr>\n",
       "      <th>11099</th>\n",
       "      <td>9 Puppies + 1 Mama Dog</td>\n",
       "      <td>We urgently seek help for fosterer who can help us to rescue this 9 innocent pups that was delivered in a market in Old Klang Road. Mama dog is currently feeding her pups, but the hawkers in the market wanted to throw them away in the dustbin if nobody is coming to take them away. Please call Vivienne at if you are able to extend your helping hand! *reimbursement of spaying fee and vaccination fee is imposed on the pups adopted.</td>\n",
       "      <td>10</td>\n",
       "      <td>3</td>\n",
       "    </tr>\n",
       "    <tr>\n",
       "      <th>7884</th>\n",
       "      <td>Lovely Kitten</td>\n",
       "      <td>mix gender mix color need adopter urgently... because i need to move out from my current place and unable to bring all cats move with me. no payment needed. bring some cats food with be much appreciated.</td>\n",
       "      <td>12</td>\n",
       "      <td>4</td>\n",
       "    </tr>\n",
       "    <tr>\n",
       "      <th>6921</th>\n",
       "      <td>Please Give Us Home!</td>\n",
       "      <td>Im helping a friend. There are more than 10 kittens and cats who need home asap. They are strays and the kind lady feeds them with balance of KFC chicken that she took every night from the restaurant. Some of them need vet treatment. Some of them are too small to live outside. The kind lady didnt have fixed income to feed the kittens. They are dumped at the place by irresponsible owners and she is the one who take care and give shelter to all those kittens. kindly call me if you are interested to adopt them. they are tame and adorable. Call me to arrange visit.</td>\n",
       "      <td>10</td>\n",
       "      <td>1</td>\n",
       "    </tr>\n",
       "    <tr>\n",
       "      <th>1638</th>\n",
       "      <td>Puppies For Adoption</td>\n",
       "      <td>Many cute and beautiful puppies waiting for home. If u are interested pls contact</td>\n",
       "      <td>13</td>\n",
       "      <td>2</td>\n",
       "    </tr>\n",
       "    <tr>\n",
       "      <th>989</th>\n",
       "      <td>Cats From TTDI Now In Omiey's Home</td>\n",
       "      <td>Hi feline lovers, There are 40 cats desperately seeking new homes before they are taken away from DBKL! This video link shows the lady who has been keeping these cats: Her neighbors seem to dislike cats, so they complained to DBKL. DBKL came to her house and told her to get rid of those cats. They'll be coming back to her house this Monday (6th February ) and she can only have 1 cat. DBKL will take the other cats and put them to sleep. She's looking for people who wants to adopt her cats and be their new owner. If you are interested, please contact Nicole at. Thank you.</td>\n",
       "      <td>20</td>\n",
       "      <td>2</td>\n",
       "    </tr>\n",
       "    <tr>\n",
       "      <th>6434</th>\n",
       "      <td>NaN</td>\n",
       "      <td>About 17 of these cute, healthy little ones were found in a Bandar Utama, PJ school compound. They are from 3 different mums! Guard told me this morning that headmistress is going to report to Mppj/dbkl to 'get rid' of them. Those who are looking for a puppy/puppies to adopt, please come fast. Contact me at for directions.</td>\n",
       "      <td>17</td>\n",
       "      <td>2</td>\n",
       "    </tr>\n",
       "  </tbody>\n",
       "</table>\n",
       "</div>"
      ],
      "text/plain": [
       "                                     Name  \\\n",
       "480    Pancho & Tita                        \n",
       "10295  Mayo                                 \n",
       "11155  Sunway 17 Puppies                    \n",
       "1500   ( 0 Puppies Left  )14+2 Puppies      \n",
       "11099  9 Puppies + 1 Mama Dog               \n",
       "7884   Lovely Kitten                        \n",
       "6921   Please Give Us Home!                 \n",
       "1638   Puppies For Adoption                 \n",
       "989    Cats From TTDI Now In Omiey's Home   \n",
       "6434   NaN                                  \n",
       "\n",
       "                                                                                                                                                                                                                                                                                                                                                                                                                                                                                                                                                                                                                                                                                                                                                                                                                                                                                                                                                                                                                                                                                                                                                                                                                                                                                                                                                                                                                                                                                                                                                                                                                                                                                                                                                                                                                                                                                                                                                                                                                                                                                                                                                                                                                                                                                                                                                                                                                                                                                                                                                                                                                                                                                                                                                                                                                                                                                                                                                                                                                 Description  \\\n",
       "480    Pancho and Tita are 2 adorable, playful kittens. They can be shy at first but once they get to know you they are the sweetest pets anyone could ask for. Available for adoption now. They are very, very close so we are looking for someone who can take them both.                                                                                                                                                                                                                                                                                                                                                                                                                                                                                                                                                                                                                                                                                                                                                                                                                                                                                                                                                                                                                                                                                                                                                                                                                                                                                                                                                                                                                                                                                                                                                                                                                                                                                                                                                                                                                                                                                                                                                                                                                                                                                                                                                                                                                                                                                                                                                                                                                                                                                                                                                                                                                                                                                                                                                    \n",
       "10295  Very cuddly and loves to be pampered. Will drool during sleep just like some people do 😅 Loves to sleep in your arms or lap (which will result drooling on you) Very playful.                                                                                                                                                                                                                                                                                                                                                                                                                                                                                                                                                                                                                                                                                                                                                                                                                                                                                                                                                                                                                                                                                                                                                                                                                                                                                                                                                                                                                                                                                                                                                                                                                                                                                                                                                                                                                                                                                                                                                                                                                                                                                                                                                                                                                                                                                                                                                                                                                                                                                                                                                                                                                                                                                                                                                                                                                                           \n",
       "11155  These 11 puppies were rescued from a Sunway development site. At least one puppy was crushed to death instantly. Another fom shock & truma after its tiny limb was crushed to bits too. All are very young around 6 weeks of age.Some have stumpy tails others are long. One is cream in colour, another brown, some black & tan and the rest white with brown markings. All were infested with worms but they are cleared now AND has started putting on weigh & becomes lively as the food ate are all utilize by their very own little bodies & not goppled by nasty worms as before. They are very active and playful now & \"quarrel \" over heirarchy. They are most delightful when all are yapping away in that lovely puppy voices of theirs. 2 others joined in on the 30 Sept.The small one with bunny tail & one eye patch together with another baby whose tail was tied with rubber band ( Cruel people tried docking its tail. It didn't dropped but turned infected with sore & maggots worms !) have gone home to a granny in Seremban on 4 Sept.The other of these 2 is an Alpha.He is just 6 weeks old but he refused to stay in cages or playpen & must run with the big boys.And that he indded does & we called him Morgan. There is another smart Alexis. She Is VERY SMART. Only 6 weeks old but learned she has GREAT magical power by pushing her snout between the playpen bars & pushed. \"By Golly., I can push this fences \". She pushes the pent to & fro to the delights of her fellow buddies this way daily. Quite a sight to behold. Come, these bunch of survivors from the construction site are some characters like their human kind. Thank God, they haven't acquire their language though. 8/9/09 Latest on our Alpha 6 wks old MORGAN Yes. 6 wks old Morgan climbed into our shallow watering bowl & stood in it to cool himself down. He immerse his tiny head into the water next & swings it about before pulling his head out.He shakes the water off next. Only then, will he climds out of the tub. My goodness, he is only 6 wks old. What will he do next ? He actually tried to steal sonme of Loke's ( ahigh ranking adult male )dinner tonight. Loke snarled aggressively & pretended to nap him ;only then did he scrurried away with a scream. Never ever have I seen such alphaness in such a tiny pup before. It is must be the construction environmental factor that spured such genes. 15/9/09 4 more 1mth+ Sunways joined us on the 9/9/09.Small little bunnies they are. Infact two of them have a two inches wide darkened strip running down from its head right down to the base of its tails.Their photos would be out soon but one of the Chipmunk looking pup is already adopted by Aunty Ann & Uncle Clement. They adopted another white Sunway with brown markings & bunny tails.Both are very blessed pups; Aunty Ann loves them to bits & she is expecting her own baby too in March next year. Do contact should you wish to see them in person   \n",
       "1500   They are 2 stray mother dogs gave birth 14 puppies at car park lot hidden place. So, I bring all puppies back to my condo temporary take care and for adopters. Please help and give them 2nd chance. Only serious adopters welcome. Someone who will give the pups a loving home. Please call , SMS or Email , if you are interested to adopt. Thank you.                                                                                                                                                                                                                                                                                                                                                                                                                                                                                                                                                                                                                                                                                                                                                                                                                                                                                                                                                                                                                                                                                                                                                                                                                                                                                                                                                                                                                                                                                                                                                                                                                                                                                                                                                                                                                                                                                                                                                                                                                                                                                                                                                                                                                                                                                                                                                                                                                                                                                                                                                                                                                                                              \n",
       "11099  We urgently seek help for fosterer who can help us to rescue this 9 innocent pups that was delivered in a market in Old Klang Road. Mama dog is currently feeding her pups, but the hawkers in the market wanted to throw them away in the dustbin if nobody is coming to take them away. Please call Vivienne at if you are able to extend your helping hand! *reimbursement of spaying fee and vaccination fee is imposed on the pups adopted.                                                                                                                                                                                                                                                                                                                                                                                                                                                                                                                                                                                                                                                                                                                                                                                                                                                                                                                                                                                                                                                                                                                                                                                                                                                                                                                                                                                                                                                                                                                                                                                                                                                                                                                                                                                                                                                                                                                                                                                                                                                                                                                                                                                                                                                                                                                                                                                                                                                                                                                                                                        \n",
       "7884   mix gender mix color need adopter urgently... because i need to move out from my current place and unable to bring all cats move with me. no payment needed. bring some cats food with be much appreciated.                                                                                                                                                                                                                                                                                                                                                                                                                                                                                                                                                                                                                                                                                                                                                                                                                                                                                                                                                                                                                                                                                                                                                                                                                                                                                                                                                                                                                                                                                                                                                                                                                                                                                                                                                                                                                                                                                                                                                                                                                                                                                                                                                                                                                                                                                                                                                                                                                                                                                                                                                                                                                                                                                                                                                                                                             \n",
       "6921   Im helping a friend. There are more than 10 kittens and cats who need home asap. They are strays and the kind lady feeds them with balance of KFC chicken that she took every night from the restaurant. Some of them need vet treatment. Some of them are too small to live outside. The kind lady didnt have fixed income to feed the kittens. They are dumped at the place by irresponsible owners and she is the one who take care and give shelter to all those kittens. kindly call me if you are interested to adopt them. they are tame and adorable. Call me to arrange visit.                                                                                                                                                                                                                                                                                                                                                                                                                                                                                                                                                                                                                                                                                                                                                                                                                                                                                                                                                                                                                                                                                                                                                                                                                                                                                                                                                                                                                                                                                                                                                                                                                                                                                                                                                                                                                                                                                                                                                                                                                                                                                                                                                                                                                                                                                                                                                                                                                                 \n",
       "1638   Many cute and beautiful puppies waiting for home. If u are interested pls contact                                                                                                                                                                                                                                                                                                                                                                                                                                                                                                                                                                                                                                                                                                                                                                                                                                                                                                                                                                                                                                                                                                                                                                                                                                                                                                                                                                                                                                                                                                                                                                                                                                                                                                                                                                                                                                                                                                                                                                                                                                                                                                                                                                                                                                                                                                                                                                                                                                                                                                                                                                                                                                                                                                                                                                                                                                                                                                                                       \n",
       "989    Hi feline lovers, There are 40 cats desperately seeking new homes before they are taken away from DBKL! This video link shows the lady who has been keeping these cats: Her neighbors seem to dislike cats, so they complained to DBKL. DBKL came to her house and told her to get rid of those cats. They'll be coming back to her house this Monday (6th February ) and she can only have 1 cat. DBKL will take the other cats and put them to sleep. She's looking for people who wants to adopt her cats and be their new owner. If you are interested, please contact Nicole at. Thank you.                                                                                                                                                                                                                                                                                                                                                                                                                                                                                                                                                                                                                                                                                                                                                                                                                                                                                                                                                                                                                                                                                                                                                                                                                                                                                                                                                                                                                                                                                                                                                                                                                                                                                                                                                                                                                                                                                                                                                                                                                                                                                                                                                                                                                                                                                                                                                                                                                        \n",
       "6434   About 17 of these cute, healthy little ones were found in a Bandar Utama, PJ school compound. They are from 3 different mums! Guard told me this morning that headmistress is going to report to Mppj/dbkl to 'get rid' of them. Those who are looking for a puppy/puppies to adopt, please come fast. Contact me at for directions.                                                                                                                                                                                                                                                                                                                                                                                                                                                                                                                                                                                                                                                                                                                                                                                                                                                                                                                                                                                                                                                                                                                                                                                                                                                                                                                                                                                                                                                                                                                                                                                                                                                                                                                                                                                                                                                                                                                                                                                                                                                                                                                                                                                                                                                                                                                                                                                                                                                                                                                                                                                                                                                                                    \n",
       "\n",
       "       Quantity  AdoptionSpeed  \n",
       "480    12        2              \n",
       "10295  10        0              \n",
       "11155  11        4              \n",
       "1500   16        2              \n",
       "11099  10        3              \n",
       "7884   12        4              \n",
       "6921   10        1              \n",
       "1638   13        2              \n",
       "989    20        2              \n",
       "6434   17        2              "
      ]
     },
     "execution_count": 12,
     "metadata": {},
     "output_type": "execute_result"
    }
   ],
   "source": [
    "big_q_sample = train.loc[train.Quantity >= 10].sample(10)[['Name', 'Description', 'Quantity', 'AdoptionSpeed']]\n",
    "big_q_sample"
   ]
  },
  {
   "cell_type": "code",
   "execution_count": 38,
   "metadata": {},
   "outputs": [
    {
     "data": {
      "text/plain": [
       "Text(0.5, 1.0, 'Tiempo de adopción para anuncios con 10 o más mascotas')"
      ]
     },
     "execution_count": 38,
     "metadata": {},
     "output_type": "execute_result"
    },
    {
     "data": {
      "image/png": "[encoded data removed]",
      "text/plain": [
       "<Figure size 432x288 with 1 Axes>"
      ]
     },
     "metadata": {},
     "output_type": "display_data"
    }
   ],
   "source": [
    "ax = train.loc[train.Quantity >= 10].AdoptionSpeed\\\n",
    "            .value_counts().sort_index()\\\n",
    "            .plot.pie()\n",
    "ax.set_title('Tiempo de adopción para anuncios con 10 o más mascotas')"
   ]
  },
  {
   "cell_type": "markdown",
   "metadata": {},
   "source": [
    "Existen casos en que se ofrecen demasiadas mascotas. Además se observa que a veces las cantidades\n",
    "<br>en la descripción no encajan con las de la columna Quantity:"
   ]
  },
  {
   "cell_type": "code",
   "execution_count": 41,
   "metadata": {},
   "outputs": [
    {
     "data": {
      "text/html": [
       "<div>\n",
       "<style scoped>\n",
       "    .dataframe tbody tr th:only-of-type {\n",
       "        vertical-align: middle;\n",
       "    }\n",
       "\n",
       "    .dataframe tbody tr th {\n",
       "        vertical-align: top;\n",
       "    }\n",
       "\n",
       "    .dataframe thead th {\n",
       "        text-align: right;\n",
       "    }\n",
       "</style>\n",
       "<table border=\"1\" class=\"dataframe\">\n",
       "  <thead>\n",
       "    <tr style=\"text-align: right;\">\n",
       "      <th></th>\n",
       "      <th>Name</th>\n",
       "      <th>Description</th>\n",
       "      <th>Quantity</th>\n",
       "      <th>AdoptionSpeed</th>\n",
       "    </tr>\n",
       "  </thead>\n",
       "  <tbody>\n",
       "    <tr>\n",
       "      <th>989</th>\n",
       "      <td>Cats From TTDI Now In Omiey's Home</td>\n",
       "      <td>Hi feline lovers, There are 40 cats desperately seeking new homes before they are taken away from DBKL! This video link shows the lady who has been keeping these cats: Her neighbors seem to dislike cats, so they complained to DBKL. DBKL came to her house and told her to get rid of those cats. They'll be coming back to her house this Monday (6th February ) and she can only have 1 cat. DBKL will take the other cats and put them to sleep. She's looking for people who wants to adopt her cats and be their new owner. If you are interested, please contact Nicole at. Thank you.</td>\n",
       "      <td>20</td>\n",
       "      <td>2</td>\n",
       "    </tr>\n",
       "    <tr>\n",
       "      <th>11673</th>\n",
       "      <td>Snowy</td>\n",
       "      <td>Snowy is quiet and adorable. Likes to keep to herself most of the time because she is shy. She could be playful when she is in the mood to play with you.</td>\n",
       "      <td>10</td>\n",
       "      <td>4</td>\n",
       "    </tr>\n",
       "  </tbody>\n",
       "</table>\n",
       "</div>"
      ],
      "text/plain": [
       "                                     Name  \\\n",
       "989    Cats From TTDI Now In Omiey's Home   \n",
       "11673  Snowy                                \n",
       "\n",
       "                                                                                                                                                                                                                                                                                                                                                                                                                                                                                                                                                                                            Description  \\\n",
       "989    Hi feline lovers, There are 40 cats desperately seeking new homes before they are taken away from DBKL! This video link shows the lady who has been keeping these cats: Her neighbors seem to dislike cats, so they complained to DBKL. DBKL came to her house and told her to get rid of those cats. They'll be coming back to her house this Monday (6th February ) and she can only have 1 cat. DBKL will take the other cats and put them to sleep. She's looking for people who wants to adopt her cats and be their new owner. If you are interested, please contact Nicole at. Thank you.   \n",
       "11673  Snowy is quiet and adorable. Likes to keep to herself most of the time because she is shy. She could be playful when she is in the mood to play with you.                                                                                                                                                                                                                                                                                                                                                                                                                                          \n",
       "\n",
       "       Quantity  AdoptionSpeed  \n",
       "989    20        2              \n",
       "11673  10        4              "
      ]
     },
     "execution_count": 41,
     "metadata": {},
     "output_type": "execute_result"
    }
   ],
   "source": [
    "train.loc[[989,11673]][['Name', 'Description', 'Quantity', 'AdoptionSpeed']]"
   ]
  },
  {
   "cell_type": "markdown",
   "metadata": {},
   "source": [
    "En el primer caso, se ofrecen 40 gatos en la descripción, pero en la columna de cantidad figura la cantidad de 20.\n",
    "<br>En el otro, se ofrece solo 1 en el texto, pero en la columna Quantity se indica 10."
   ]
  },
  {
   "cell_type": "markdown",
   "metadata": {},
   "source": [
    "Un punto importante es el hecho de que existe una cantidad importante de casos en<br>\n",
    "que las mascotas logran ser adoptadas"
   ]
  },
  {
   "cell_type": "code",
   "execution_count": 36,
   "metadata": {},
   "outputs": [
    {
     "data": {
      "text/plain": [
       "<matplotlib.axes._subplots.AxesSubplot at 0x12c9adf0>"
      ]
     },
     "execution_count": 36,
     "metadata": {},
     "output_type": "execute_result"
    },
    {
     "data": {
      "image/png": "[encoded data removed]",
      "text/plain": [
       "<Figure size 432x288 with 1 Axes>"
      ]
     },
     "metadata": {
      "needs_background": "light"
     },
     "output_type": "display_data"
    }
   ],
   "source": [
    "train['QuantityGroup'].value_counts().plot.bar()"
   ]
  },
  {
   "cell_type": "code",
   "execution_count": 48,
   "metadata": {},
   "outputs": [
    {
     "data": {
      "text/html": [
       "<div>\n",
       "<style scoped>\n",
       "    .dataframe tbody tr th:only-of-type {\n",
       "        vertical-align: middle;\n",
       "    }\n",
       "\n",
       "    .dataframe tbody tr th {\n",
       "        vertical-align: top;\n",
       "    }\n",
       "\n",
       "    .dataframe thead th {\n",
       "        text-align: right;\n",
       "    }\n",
       "</style>\n",
       "<table border=\"1\" class=\"dataframe\">\n",
       "  <thead>\n",
       "    <tr style=\"text-align: right;\">\n",
       "      <th>AdoptionSpeed</th>\n",
       "      <th>0</th>\n",
       "      <th>1</th>\n",
       "      <th>2</th>\n",
       "      <th>3</th>\n",
       "      <th>4</th>\n",
       "    </tr>\n",
       "    <tr>\n",
       "      <th>QuantityGroup</th>\n",
       "      <th></th>\n",
       "      <th></th>\n",
       "      <th></th>\n",
       "      <th></th>\n",
       "      <th></th>\n",
       "    </tr>\n",
       "  </thead>\n",
       "  <tbody>\n",
       "    <tr>\n",
       "      <th>Single pet</th>\n",
       "      <td>331</td>\n",
       "      <td>2439</td>\n",
       "      <td>3163</td>\n",
       "      <td>2552</td>\n",
       "      <td>3080</td>\n",
       "    </tr>\n",
       "    <tr>\n",
       "      <th>2 - 3 pets</th>\n",
       "      <td>55</td>\n",
       "      <td>448</td>\n",
       "      <td>543</td>\n",
       "      <td>455</td>\n",
       "      <td>647</td>\n",
       "    </tr>\n",
       "    <tr>\n",
       "      <th>&gt; 3 pets</th>\n",
       "      <td>24</td>\n",
       "      <td>203</td>\n",
       "      <td>331</td>\n",
       "      <td>252</td>\n",
       "      <td>470</td>\n",
       "    </tr>\n",
       "  </tbody>\n",
       "</table>\n",
       "</div>"
      ],
      "text/plain": [
       "AdoptionSpeed    0     1     2     3     4\n",
       "QuantityGroup                             \n",
       "Single pet     331  2439  3163  2552  3080\n",
       "2 - 3 pets     55   448   543   455   647 \n",
       "> 3 pets       24   203   331   252   470 "
      ]
     },
     "execution_count": 48,
     "metadata": {},
     "output_type": "execute_result"
    }
   ],
   "source": [
    "qgruops = train[['QuantityGroup','AdoptionSpeed', 'PetID']].groupby(['QuantityGroup','AdoptionSpeed']).count() \n",
    "qgruops = qgruops.reset_index()#.set_index(['QuantityGroup', 'AdoptionSpeed'])#.first()\n",
    "qgruops = qgruops.pivot_table(index= 'QuantityGroup',columns='AdoptionSpeed',values='PetID')\n",
    "#qgruops.sort_index(ascending=False, inplace=True)\n",
    "origindex = qgruops.index\n",
    "qgruops = qgruops.reindex([origindex.tolist()[-1]] + origindex.tolist()[:2])\n",
    "qgruops"
   ]
  },
  {
   "cell_type": "code",
   "execution_count": 49,
   "metadata": {},
   "outputs": [
    {
     "data": {
      "text/html": [
       "<div>\n",
       "<style scoped>\n",
       "    .dataframe tbody tr th:only-of-type {\n",
       "        vertical-align: middle;\n",
       "    }\n",
       "\n",
       "    .dataframe tbody tr th {\n",
       "        vertical-align: top;\n",
       "    }\n",
       "\n",
       "    .dataframe thead th {\n",
       "        text-align: right;\n",
       "    }\n",
       "</style>\n",
       "<table border=\"1\" class=\"dataframe\">\n",
       "  <thead>\n",
       "    <tr style=\"text-align: right;\">\n",
       "      <th>AdoptionSpeed</th>\n",
       "      <th>0</th>\n",
       "      <th>1</th>\n",
       "      <th>2</th>\n",
       "      <th>3</th>\n",
       "      <th>4</th>\n",
       "    </tr>\n",
       "    <tr>\n",
       "      <th>QuantityGroup</th>\n",
       "      <th></th>\n",
       "      <th></th>\n",
       "      <th></th>\n",
       "      <th></th>\n",
       "      <th></th>\n",
       "    </tr>\n",
       "  </thead>\n",
       "  <tbody>\n",
       "    <tr>\n",
       "      <th>Single pet</th>\n",
       "      <td>0.028621</td>\n",
       "      <td>0.210895</td>\n",
       "      <td>0.273498</td>\n",
       "      <td>0.220666</td>\n",
       "      <td>0.266321</td>\n",
       "    </tr>\n",
       "    <tr>\n",
       "      <th>2 - 3 pets</th>\n",
       "      <td>0.025605</td>\n",
       "      <td>0.208566</td>\n",
       "      <td>0.252793</td>\n",
       "      <td>0.211825</td>\n",
       "      <td>0.301210</td>\n",
       "    </tr>\n",
       "    <tr>\n",
       "      <th>&gt; 3 pets</th>\n",
       "      <td>0.018750</td>\n",
       "      <td>0.158594</td>\n",
       "      <td>0.258594</td>\n",
       "      <td>0.196875</td>\n",
       "      <td>0.367188</td>\n",
       "    </tr>\n",
       "  </tbody>\n",
       "</table>\n",
       "</div>"
      ],
      "text/plain": [
       "AdoptionSpeed         0         1         2         3         4\n",
       "QuantityGroup                                                  \n",
       "Single pet     0.028621  0.210895  0.273498  0.220666  0.266321\n",
       "2 - 3 pets     0.025605  0.208566  0.252793  0.211825  0.301210\n",
       "> 3 pets       0.018750  0.158594  0.258594  0.196875  0.367188"
      ]
     },
     "execution_count": 49,
     "metadata": {},
     "output_type": "execute_result"
    }
   ],
   "source": [
    "q_percentages = (qgruops.T/qgruops.sum(axis=1)).T \n",
    "q_percentages"
   ]
  },
  {
   "cell_type": "code",
   "execution_count": 50,
   "metadata": {},
   "outputs": [
    {
     "data": {
      "text/plain": [
       "<matplotlib.legend.Legend at 0x12d37fd0>"
      ]
     },
     "execution_count": 50,
     "metadata": {},
     "output_type": "execute_result"
    },
    {
     "data": {
      "text/plain": [
       "<Figure size 432x288 with 0 Axes>"
      ]
     },
     "metadata": {},
     "output_type": "display_data"
    },
    {
     "data": {
      "image/png": "[encoded data removed]",
      "text/plain": [
       "<Figure size 432x288 with 1 Axes>"
      ]
     },
     "metadata": {
      "needs_background": "light"
     },
     "output_type": "display_data"
    }
   ],
   "source": [
    "fig = plt.figure()\n",
    "ax = q_percentages.plot.bar(stacked=True)\n",
    "ax.legend(bbox_to_anchor = (1.03, 1.))"
   ]
  },
  {
   "cell_type": "markdown",
   "metadata": {},
   "source": [
    "Se puede observar que los grupos de mascotas grandes tardan más en ser adoptados.\n",
    "<br>Esto podría indicar que la velocidad de adopción guarda relación con el número de mascotas.\n"
   ]
  },
  {
   "cell_type": "code",
   "execution_count": 44,
   "metadata": {},
   "outputs": [
    {
     "name": "stdout",
     "output_type": "stream",
     "text": [
      "\n",
      "0.028620838737570254 0.21089494163424125 0.27349762213575446 0.22066580198875918 0.2663207955036749 \n",
      "0.02461322081575246 0.2039381153305204 0.2545710267229255 0.2158931082981716 0.3009845288326301 \n",
      "0.02193419740777667 0.17996011964107678 0.25523429710867396 0.19940179461615154 0.34346959122632104 "
     ]
    }
   ],
   "source": [
    "for i in range(15):\n",
    "    if i % 5 == 0:\n",
    "        print()\n",
    "    print(q_percentages.values.flat[i], end=' ')\n",
    "    "
   ]
  },
  {
   "cell_type": "code",
   "execution_count": 51,
   "metadata": {},
   "outputs": [
    {
     "data": {
      "image/png": "[encoded data removed]",
      "text/plain": [
       "<Figure size 720x432 with 1 Axes>"
      ]
     },
     "metadata": {
      "needs_background": "light"
     },
     "output_type": "display_data"
    }
   ],
   "source": [
    "#deprecated\n",
    "ax = qgruops.plot(kind='bar', figsize=(10,6))\n",
    "ax.set_title(\"Distribución de la velocidad de adopción por tamaño de grupo de mascota\")\n",
    "for ix, (_,p) in enumerate(sorted([(p.get_xy(), p) for p in ax.patches])):\n",
    "    width, height = p.get_width(), p.get_height()\n",
    "    x, y = p.get_xy() \n",
    "    ax.annotate('{:.0%}'.format(q_percentages.values.flat[ix]), (x, y + height + 10))"
   ]
  },
  {
   "cell_type": "markdown",
   "metadata": {},
   "source": [
    "Al parecer, el comportamiento de la velocidad de adopción se mantiene incluso para los anuncios\n",
    "<br>más de una mascota. Esto significa que la velocidad de adopción es independiente del numero de mascotas.\n"
   ]
  },
  {
   "cell_type": "markdown",
   "metadata": {},
   "source": [
    "<br><br>\n",
    "### Fee"
   ]
  },
  {
   "cell_type": "code",
   "execution_count": 60,
   "metadata": {},
   "outputs": [
    {
     "data": {
      "text/plain": [
       "(0, 3000)"
      ]
     },
     "execution_count": 60,
     "metadata": {},
     "output_type": "execute_result"
    }
   ],
   "source": [
    "train.Fee.min(), train.Fee.max()"
   ]
  },
  {
   "cell_type": "code",
   "execution_count": 61,
   "metadata": {},
   "outputs": [
    {
     "data": {
      "text/html": [
       "<div>\n",
       "<style scoped>\n",
       "    .dataframe tbody tr th:only-of-type {\n",
       "        vertical-align: middle;\n",
       "    }\n",
       "\n",
       "    .dataframe tbody tr th {\n",
       "        vertical-align: top;\n",
       "    }\n",
       "\n",
       "    .dataframe thead th {\n",
       "        text-align: right;\n",
       "    }\n",
       "</style>\n",
       "<table border=\"1\" class=\"dataframe\">\n",
       "  <thead>\n",
       "    <tr style=\"text-align: right;\">\n",
       "      <th></th>\n",
       "      <th>Fee</th>\n",
       "      <th>AdoptionSpeed</th>\n",
       "      <th>PetID</th>\n",
       "    </tr>\n",
       "  </thead>\n",
       "  <tbody>\n",
       "    <tr>\n",
       "      <th>5844</th>\n",
       "      <td>0</td>\n",
       "      <td>4</td>\n",
       "      <td>eb5ce7ea2</td>\n",
       "    </tr>\n",
       "    <tr>\n",
       "      <th>3296</th>\n",
       "      <td>0</td>\n",
       "      <td>2</td>\n",
       "      <td>cda71c00a</td>\n",
       "    </tr>\n",
       "    <tr>\n",
       "      <th>254</th>\n",
       "      <td>0</td>\n",
       "      <td>3</td>\n",
       "      <td>c7575df7b</td>\n",
       "    </tr>\n",
       "    <tr>\n",
       "      <th>13585</th>\n",
       "      <td>0</td>\n",
       "      <td>2</td>\n",
       "      <td>29fd25bc8</td>\n",
       "    </tr>\n",
       "    <tr>\n",
       "      <th>12076</th>\n",
       "      <td>0</td>\n",
       "      <td>2</td>\n",
       "      <td>0b4a0d698</td>\n",
       "    </tr>\n",
       "    <tr>\n",
       "      <th>134</th>\n",
       "      <td>50</td>\n",
       "      <td>4</td>\n",
       "      <td>28b64c198</td>\n",
       "    </tr>\n",
       "    <tr>\n",
       "      <th>9224</th>\n",
       "      <td>0</td>\n",
       "      <td>1</td>\n",
       "      <td>da8326fa5</td>\n",
       "    </tr>\n",
       "    <tr>\n",
       "      <th>12127</th>\n",
       "      <td>0</td>\n",
       "      <td>2</td>\n",
       "      <td>ff127e4d3</td>\n",
       "    </tr>\n",
       "    <tr>\n",
       "      <th>8436</th>\n",
       "      <td>0</td>\n",
       "      <td>3</td>\n",
       "      <td>63a4f8b8a</td>\n",
       "    </tr>\n",
       "    <tr>\n",
       "      <th>9538</th>\n",
       "      <td>0</td>\n",
       "      <td>4</td>\n",
       "      <td>4cc55b081</td>\n",
       "    </tr>\n",
       "  </tbody>\n",
       "</table>\n",
       "</div>"
      ],
      "text/plain": [
       "       Fee  AdoptionSpeed      PetID\n",
       "5844   0    4              eb5ce7ea2\n",
       "3296   0    2              cda71c00a\n",
       "254    0    3              c7575df7b\n",
       "13585  0    2              29fd25bc8\n",
       "12076  0    2              0b4a0d698\n",
       "134    50   4              28b64c198\n",
       "9224   0    1              da8326fa5\n",
       "12127  0    2              ff127e4d3\n",
       "8436   0    3              63a4f8b8a\n",
       "9538   0    4              4cc55b081"
      ]
     },
     "execution_count": 61,
     "metadata": {},
     "output_type": "execute_result"
    }
   ],
   "source": [
    "fee_data = train[['Fee', 'AdoptionSpeed', 'PetID']].copy()\n",
    "fee_data.sample(10)"
   ]
  },
  {
   "cell_type": "code",
   "execution_count": 62,
   "metadata": {},
   "outputs": [],
   "source": [
    "fee_data['Free'] = fee_data.Fee.apply(lambda f: \"Free\" if f == 0 else \"Not Free\")"
   ]
  },
  {
   "cell_type": "code",
   "execution_count": 63,
   "metadata": {},
   "outputs": [
    {
     "data": {
      "text/plain": [
       "Text(0.5, 1.0, 'Cantidad de anuncios de adopción con pago necesario')"
      ]
     },
     "execution_count": 63,
     "metadata": {},
     "output_type": "execute_result"
    },
    {
     "data": {
      "image/png": "[encoded data removed]",
      "text/plain": [
       "<Figure size 432x288 with 1 Axes>"
      ]
     },
     "metadata": {
      "needs_background": "light"
     },
     "output_type": "display_data"
    }
   ],
   "source": [
    "ax = fee_data['Free'].value_counts().plot.bar()\n",
    "ax.set_title(\"Cantidad de anuncios de adopción con pago necesario\")"
   ]
  },
  {
   "cell_type": "code",
   "execution_count": 114,
   "metadata": {},
   "outputs": [],
   "source": [
    "def generate_fee_bins(fee):\n",
    "    if fee == 0:\n",
    "        return \"0\"\n",
    "    elif fee < 25:\n",
    "        return \"[  1, 25)\"\n",
    "    elif fee < 60:\n",
    "        return \"[ 25, 59)\"\n",
    "    elif fee < 108:\n",
    "        return \"[ 59, 108)\"\n",
    "    elif fee < 210:\n",
    "        return \"[108, 210)\"\n",
    "    else:\n",
    "        return \"[210, 3000]\""
   ]
  },
  {
   "cell_type": "code",
   "execution_count": 115,
   "metadata": {
    "scrolled": true
   },
   "outputs": [
    {
     "data": {
      "text/html": [
       "<div>\n",
       "<style scoped>\n",
       "    .dataframe tbody tr th:only-of-type {\n",
       "        vertical-align: middle;\n",
       "    }\n",
       "\n",
       "    .dataframe tbody tr th {\n",
       "        vertical-align: top;\n",
       "    }\n",
       "\n",
       "    .dataframe thead th {\n",
       "        text-align: right;\n",
       "    }\n",
       "</style>\n",
       "<table border=\"1\" class=\"dataframe\">\n",
       "  <thead>\n",
       "    <tr style=\"text-align: right;\">\n",
       "      <th></th>\n",
       "      <th>Fee</th>\n",
       "      <th>AdoptionSpeed</th>\n",
       "      <th>PetID</th>\n",
       "      <th>Free</th>\n",
       "      <th>FeeBins</th>\n",
       "    </tr>\n",
       "  </thead>\n",
       "  <tbody>\n",
       "    <tr>\n",
       "      <th>0</th>\n",
       "      <td>100</td>\n",
       "      <td>2</td>\n",
       "      <td>86e1089a3</td>\n",
       "      <td>Not Free</td>\n",
       "      <td>[ 59, 108)</td>\n",
       "    </tr>\n",
       "    <tr>\n",
       "      <th>1</th>\n",
       "      <td>0</td>\n",
       "      <td>3</td>\n",
       "      <td>3422e4906</td>\n",
       "      <td>Free</td>\n",
       "      <td>0</td>\n",
       "    </tr>\n",
       "    <tr>\n",
       "      <th>2</th>\n",
       "      <td>0</td>\n",
       "      <td>2</td>\n",
       "      <td>850a43f90</td>\n",
       "      <td>Free</td>\n",
       "      <td>0</td>\n",
       "    </tr>\n",
       "    <tr>\n",
       "      <th>3</th>\n",
       "      <td>0</td>\n",
       "      <td>2</td>\n",
       "      <td>d24c30b4b</td>\n",
       "      <td>Free</td>\n",
       "      <td>0</td>\n",
       "    </tr>\n",
       "    <tr>\n",
       "      <th>4</th>\n",
       "      <td>300</td>\n",
       "      <td>1</td>\n",
       "      <td>1caa6fcdb</td>\n",
       "      <td>Not Free</td>\n",
       "      <td>[210, 3000]</td>\n",
       "    </tr>\n",
       "    <tr>\n",
       "      <th>5</th>\n",
       "      <td>0</td>\n",
       "      <td>3</td>\n",
       "      <td>97aa9eeac</td>\n",
       "      <td>Free</td>\n",
       "      <td>0</td>\n",
       "    </tr>\n",
       "    <tr>\n",
       "      <th>6</th>\n",
       "      <td>0</td>\n",
       "      <td>1</td>\n",
       "      <td>c06d167ca</td>\n",
       "      <td>Free</td>\n",
       "      <td>0</td>\n",
       "    </tr>\n",
       "    <tr>\n",
       "      <th>7</th>\n",
       "      <td>0</td>\n",
       "      <td>4</td>\n",
       "      <td>7a0942d61</td>\n",
       "      <td>Free</td>\n",
       "      <td>0</td>\n",
       "    </tr>\n",
       "    <tr>\n",
       "      <th>8</th>\n",
       "      <td>50</td>\n",
       "      <td>1</td>\n",
       "      <td>8e76c8e39</td>\n",
       "      <td>Not Free</td>\n",
       "      <td>[ 25, 59)</td>\n",
       "    </tr>\n",
       "    <tr>\n",
       "      <th>9</th>\n",
       "      <td>0</td>\n",
       "      <td>2</td>\n",
       "      <td>aaedd873d</td>\n",
       "      <td>Free</td>\n",
       "      <td>0</td>\n",
       "    </tr>\n",
       "    <tr>\n",
       "      <th>10</th>\n",
       "      <td>0</td>\n",
       "      <td>1</td>\n",
       "      <td>4a9793dfb</td>\n",
       "      <td>Free</td>\n",
       "      <td>0</td>\n",
       "    </tr>\n",
       "    <tr>\n",
       "      <th>11</th>\n",
       "      <td>0</td>\n",
       "      <td>4</td>\n",
       "      <td>1fd342e17</td>\n",
       "      <td>Free</td>\n",
       "      <td>0</td>\n",
       "    </tr>\n",
       "    <tr>\n",
       "      <th>12</th>\n",
       "      <td>0</td>\n",
       "      <td>3</td>\n",
       "      <td>b38a74866</td>\n",
       "      <td>Free</td>\n",
       "      <td>0</td>\n",
       "    </tr>\n",
       "    <tr>\n",
       "      <th>13</th>\n",
       "      <td>0</td>\n",
       "      <td>4</td>\n",
       "      <td>b10e7605a</td>\n",
       "      <td>Free</td>\n",
       "      <td>0</td>\n",
       "    </tr>\n",
       "    <tr>\n",
       "      <th>14</th>\n",
       "      <td>0</td>\n",
       "      <td>2</td>\n",
       "      <td>6436c1a59</td>\n",
       "      <td>Free</td>\n",
       "      <td>0</td>\n",
       "    </tr>\n",
       "    <tr>\n",
       "      <th>15</th>\n",
       "      <td>0</td>\n",
       "      <td>4</td>\n",
       "      <td>234a5a54c</td>\n",
       "      <td>Free</td>\n",
       "      <td>0</td>\n",
       "    </tr>\n",
       "    <tr>\n",
       "      <th>16</th>\n",
       "      <td>0</td>\n",
       "      <td>4</td>\n",
       "      <td>1bf24d8be</td>\n",
       "      <td>Free</td>\n",
       "      <td>0</td>\n",
       "    </tr>\n",
       "    <tr>\n",
       "      <th>17</th>\n",
       "      <td>0</td>\n",
       "      <td>2</td>\n",
       "      <td>cf7d3eec0</td>\n",
       "      <td>Free</td>\n",
       "      <td>0</td>\n",
       "    </tr>\n",
       "    <tr>\n",
       "      <th>18</th>\n",
       "      <td>0</td>\n",
       "      <td>2</td>\n",
       "      <td>efbf1703a</td>\n",
       "      <td>Free</td>\n",
       "      <td>0</td>\n",
       "    </tr>\n",
       "    <tr>\n",
       "      <th>19</th>\n",
       "      <td>1</td>\n",
       "      <td>3</td>\n",
       "      <td>7843a9dca</td>\n",
       "      <td>Not Free</td>\n",
       "      <td>[  1, 25)</td>\n",
       "    </tr>\n",
       "    <tr>\n",
       "      <th>20</th>\n",
       "      <td>0</td>\n",
       "      <td>3</td>\n",
       "      <td>1a76190c5</td>\n",
       "      <td>Free</td>\n",
       "      <td>0</td>\n",
       "    </tr>\n",
       "    <tr>\n",
       "      <th>21</th>\n",
       "      <td>0</td>\n",
       "      <td>4</td>\n",
       "      <td>543130f60</td>\n",
       "      <td>Free</td>\n",
       "      <td>0</td>\n",
       "    </tr>\n",
       "    <tr>\n",
       "      <th>22</th>\n",
       "      <td>0</td>\n",
       "      <td>3</td>\n",
       "      <td>9415bc79e</td>\n",
       "      <td>Free</td>\n",
       "      <td>0</td>\n",
       "    </tr>\n",
       "    <tr>\n",
       "      <th>23</th>\n",
       "      <td>0</td>\n",
       "      <td>1</td>\n",
       "      <td>0737e4f11</td>\n",
       "      <td>Free</td>\n",
       "      <td>0</td>\n",
       "    </tr>\n",
       "    <tr>\n",
       "      <th>24</th>\n",
       "      <td>0</td>\n",
       "      <td>4</td>\n",
       "      <td>61fa73996</td>\n",
       "      <td>Free</td>\n",
       "      <td>0</td>\n",
       "    </tr>\n",
       "    <tr>\n",
       "      <th>25</th>\n",
       "      <td>0</td>\n",
       "      <td>1</td>\n",
       "      <td>eabb13cea</td>\n",
       "      <td>Free</td>\n",
       "      <td>0</td>\n",
       "    </tr>\n",
       "    <tr>\n",
       "      <th>26</th>\n",
       "      <td>0</td>\n",
       "      <td>3</td>\n",
       "      <td>4e3640544</td>\n",
       "      <td>Free</td>\n",
       "      <td>0</td>\n",
       "    </tr>\n",
       "    <tr>\n",
       "      <th>27</th>\n",
       "      <td>0</td>\n",
       "      <td>3</td>\n",
       "      <td>ace21b6b1</td>\n",
       "      <td>Free</td>\n",
       "      <td>0</td>\n",
       "    </tr>\n",
       "    <tr>\n",
       "      <th>28</th>\n",
       "      <td>0</td>\n",
       "      <td>2</td>\n",
       "      <td>8ee223a17</td>\n",
       "      <td>Free</td>\n",
       "      <td>0</td>\n",
       "    </tr>\n",
       "    <tr>\n",
       "      <th>29</th>\n",
       "      <td>0</td>\n",
       "      <td>1</td>\n",
       "      <td>9a38d4275</td>\n",
       "      <td>Free</td>\n",
       "      <td>0</td>\n",
       "    </tr>\n",
       "    <tr>\n",
       "      <th>...</th>\n",
       "      <td>...</td>\n",
       "      <td>...</td>\n",
       "      <td>...</td>\n",
       "      <td>...</td>\n",
       "      <td>...</td>\n",
       "    </tr>\n",
       "    <tr>\n",
       "      <th>14963</th>\n",
       "      <td>100</td>\n",
       "      <td>4</td>\n",
       "      <td>35b51bb28</td>\n",
       "      <td>Not Free</td>\n",
       "      <td>[ 59, 108)</td>\n",
       "    </tr>\n",
       "    <tr>\n",
       "      <th>14964</th>\n",
       "      <td>0</td>\n",
       "      <td>4</td>\n",
       "      <td>f67d78df8</td>\n",
       "      <td>Free</td>\n",
       "      <td>0</td>\n",
       "    </tr>\n",
       "    <tr>\n",
       "      <th>14965</th>\n",
       "      <td>0</td>\n",
       "      <td>4</td>\n",
       "      <td>e9cfb355a</td>\n",
       "      <td>Free</td>\n",
       "      <td>0</td>\n",
       "    </tr>\n",
       "    <tr>\n",
       "      <th>14966</th>\n",
       "      <td>0</td>\n",
       "      <td>3</td>\n",
       "      <td>6a1240a5d</td>\n",
       "      <td>Free</td>\n",
       "      <td>0</td>\n",
       "    </tr>\n",
       "    <tr>\n",
       "      <th>14967</th>\n",
       "      <td>0</td>\n",
       "      <td>4</td>\n",
       "      <td>cc6de6d19</td>\n",
       "      <td>Free</td>\n",
       "      <td>0</td>\n",
       "    </tr>\n",
       "    <tr>\n",
       "      <th>14968</th>\n",
       "      <td>0</td>\n",
       "      <td>4</td>\n",
       "      <td>cc3434ae1</td>\n",
       "      <td>Free</td>\n",
       "      <td>0</td>\n",
       "    </tr>\n",
       "    <tr>\n",
       "      <th>14969</th>\n",
       "      <td>0</td>\n",
       "      <td>3</td>\n",
       "      <td>1ef7f27ab</td>\n",
       "      <td>Free</td>\n",
       "      <td>0</td>\n",
       "    </tr>\n",
       "    <tr>\n",
       "      <th>14970</th>\n",
       "      <td>80</td>\n",
       "      <td>4</td>\n",
       "      <td>e013ab581</td>\n",
       "      <td>Not Free</td>\n",
       "      <td>[ 59, 108)</td>\n",
       "    </tr>\n",
       "    <tr>\n",
       "      <th>14971</th>\n",
       "      <td>600</td>\n",
       "      <td>4</td>\n",
       "      <td>8a1e12a30</td>\n",
       "      <td>Not Free</td>\n",
       "      <td>[210, 3000]</td>\n",
       "    </tr>\n",
       "    <tr>\n",
       "      <th>14972</th>\n",
       "      <td>0</td>\n",
       "      <td>4</td>\n",
       "      <td>79e0ef004</td>\n",
       "      <td>Free</td>\n",
       "      <td>0</td>\n",
       "    </tr>\n",
       "    <tr>\n",
       "      <th>14973</th>\n",
       "      <td>0</td>\n",
       "      <td>0</td>\n",
       "      <td>356f1ecfb</td>\n",
       "      <td>Free</td>\n",
       "      <td>0</td>\n",
       "    </tr>\n",
       "    <tr>\n",
       "      <th>14974</th>\n",
       "      <td>50</td>\n",
       "      <td>4</td>\n",
       "      <td>3163e9acf</td>\n",
       "      <td>Not Free</td>\n",
       "      <td>[ 25, 59)</td>\n",
       "    </tr>\n",
       "    <tr>\n",
       "      <th>14975</th>\n",
       "      <td>0</td>\n",
       "      <td>4</td>\n",
       "      <td>dbaacc7e8</td>\n",
       "      <td>Free</td>\n",
       "      <td>0</td>\n",
       "    </tr>\n",
       "    <tr>\n",
       "      <th>14976</th>\n",
       "      <td>0</td>\n",
       "      <td>4</td>\n",
       "      <td>6f3e4618d</td>\n",
       "      <td>Free</td>\n",
       "      <td>0</td>\n",
       "    </tr>\n",
       "    <tr>\n",
       "      <th>14977</th>\n",
       "      <td>100</td>\n",
       "      <td>4</td>\n",
       "      <td>5e8872259</td>\n",
       "      <td>Not Free</td>\n",
       "      <td>[ 59, 108)</td>\n",
       "    </tr>\n",
       "    <tr>\n",
       "      <th>14978</th>\n",
       "      <td>0</td>\n",
       "      <td>4</td>\n",
       "      <td>787086e9d</td>\n",
       "      <td>Free</td>\n",
       "      <td>0</td>\n",
       "    </tr>\n",
       "    <tr>\n",
       "      <th>14979</th>\n",
       "      <td>0</td>\n",
       "      <td>2</td>\n",
       "      <td>f26e3e182</td>\n",
       "      <td>Free</td>\n",
       "      <td>0</td>\n",
       "    </tr>\n",
       "    <tr>\n",
       "      <th>14980</th>\n",
       "      <td>0</td>\n",
       "      <td>4</td>\n",
       "      <td>9ea8e240f</td>\n",
       "      <td>Free</td>\n",
       "      <td>0</td>\n",
       "    </tr>\n",
       "    <tr>\n",
       "      <th>14981</th>\n",
       "      <td>0</td>\n",
       "      <td>3</td>\n",
       "      <td>85f3279a4</td>\n",
       "      <td>Free</td>\n",
       "      <td>0</td>\n",
       "    </tr>\n",
       "    <tr>\n",
       "      <th>14982</th>\n",
       "      <td>0</td>\n",
       "      <td>1</td>\n",
       "      <td>59ee91cf8</td>\n",
       "      <td>Free</td>\n",
       "      <td>0</td>\n",
       "    </tr>\n",
       "    <tr>\n",
       "      <th>14983</th>\n",
       "      <td>0</td>\n",
       "      <td>0</td>\n",
       "      <td>fa4314902</td>\n",
       "      <td>Free</td>\n",
       "      <td>0</td>\n",
       "    </tr>\n",
       "    <tr>\n",
       "      <th>14984</th>\n",
       "      <td>0</td>\n",
       "      <td>0</td>\n",
       "      <td>a12589a09</td>\n",
       "      <td>Free</td>\n",
       "      <td>0</td>\n",
       "    </tr>\n",
       "    <tr>\n",
       "      <th>14985</th>\n",
       "      <td>0</td>\n",
       "      <td>1</td>\n",
       "      <td>75a286d8a</td>\n",
       "      <td>Free</td>\n",
       "      <td>0</td>\n",
       "    </tr>\n",
       "    <tr>\n",
       "      <th>14986</th>\n",
       "      <td>0</td>\n",
       "      <td>1</td>\n",
       "      <td>017eda6dc</td>\n",
       "      <td>Free</td>\n",
       "      <td>0</td>\n",
       "    </tr>\n",
       "    <tr>\n",
       "      <th>14987</th>\n",
       "      <td>0</td>\n",
       "      <td>2</td>\n",
       "      <td>2b4003be8</td>\n",
       "      <td>Free</td>\n",
       "      <td>0</td>\n",
       "    </tr>\n",
       "    <tr>\n",
       "      <th>14988</th>\n",
       "      <td>0</td>\n",
       "      <td>2</td>\n",
       "      <td>5113edf84</td>\n",
       "      <td>Free</td>\n",
       "      <td>0</td>\n",
       "    </tr>\n",
       "    <tr>\n",
       "      <th>14989</th>\n",
       "      <td>150</td>\n",
       "      <td>4</td>\n",
       "      <td>93cfea76a</td>\n",
       "      <td>Not Free</td>\n",
       "      <td>[108, 210)</td>\n",
       "    </tr>\n",
       "    <tr>\n",
       "      <th>14990</th>\n",
       "      <td>0</td>\n",
       "      <td>2</td>\n",
       "      <td>fce6f8dff</td>\n",
       "      <td>Free</td>\n",
       "      <td>0</td>\n",
       "    </tr>\n",
       "    <tr>\n",
       "      <th>14991</th>\n",
       "      <td>0</td>\n",
       "      <td>3</td>\n",
       "      <td>7115607a0</td>\n",
       "      <td>Free</td>\n",
       "      <td>0</td>\n",
       "    </tr>\n",
       "    <tr>\n",
       "      <th>14992</th>\n",
       "      <td>0</td>\n",
       "      <td>4</td>\n",
       "      <td>23f45d56f</td>\n",
       "      <td>Free</td>\n",
       "      <td>0</td>\n",
       "    </tr>\n",
       "  </tbody>\n",
       "</table>\n",
       "<p>14993 rows × 5 columns</p>\n",
       "</div>"
      ],
      "text/plain": [
       "       Fee  AdoptionSpeed      PetID      Free      FeeBins\n",
       "0      100  2              86e1089a3  Not Free  [ 59, 108) \n",
       "1      0    3              3422e4906  Free      0          \n",
       "2      0    2              850a43f90  Free      0          \n",
       "3      0    2              d24c30b4b  Free      0          \n",
       "4      300  1              1caa6fcdb  Not Free  [210, 3000]\n",
       "5      0    3              97aa9eeac  Free      0          \n",
       "6      0    1              c06d167ca  Free      0          \n",
       "7      0    4              7a0942d61  Free      0          \n",
       "8      50   1              8e76c8e39  Not Free  [ 25, 59)  \n",
       "9      0    2              aaedd873d  Free      0          \n",
       "10     0    1              4a9793dfb  Free      0          \n",
       "11     0    4              1fd342e17  Free      0          \n",
       "12     0    3              b38a74866  Free      0          \n",
       "13     0    4              b10e7605a  Free      0          \n",
       "14     0    2              6436c1a59  Free      0          \n",
       "15     0    4              234a5a54c  Free      0          \n",
       "16     0    4              1bf24d8be  Free      0          \n",
       "17     0    2              cf7d3eec0  Free      0          \n",
       "18     0    2              efbf1703a  Free      0          \n",
       "19     1    3              7843a9dca  Not Free  [  1, 25)  \n",
       "20     0    3              1a76190c5  Free      0          \n",
       "21     0    4              543130f60  Free      0          \n",
       "22     0    3              9415bc79e  Free      0          \n",
       "23     0    1              0737e4f11  Free      0          \n",
       "24     0    4              61fa73996  Free      0          \n",
       "25     0    1              eabb13cea  Free      0          \n",
       "26     0    3              4e3640544  Free      0          \n",
       "27     0    3              ace21b6b1  Free      0          \n",
       "28     0    2              8ee223a17  Free      0          \n",
       "29     0    1              9a38d4275  Free      0          \n",
       "...   ..   ..                    ...   ...     ..          \n",
       "14963  100  4              35b51bb28  Not Free  [ 59, 108) \n",
       "14964  0    4              f67d78df8  Free      0          \n",
       "14965  0    4              e9cfb355a  Free      0          \n",
       "14966  0    3              6a1240a5d  Free      0          \n",
       "14967  0    4              cc6de6d19  Free      0          \n",
       "14968  0    4              cc3434ae1  Free      0          \n",
       "14969  0    3              1ef7f27ab  Free      0          \n",
       "14970  80   4              e013ab581  Not Free  [ 59, 108) \n",
       "14971  600  4              8a1e12a30  Not Free  [210, 3000]\n",
       "14972  0    4              79e0ef004  Free      0          \n",
       "14973  0    0              356f1ecfb  Free      0          \n",
       "14974  50   4              3163e9acf  Not Free  [ 25, 59)  \n",
       "14975  0    4              dbaacc7e8  Free      0          \n",
       "14976  0    4              6f3e4618d  Free      0          \n",
       "14977  100  4              5e8872259  Not Free  [ 59, 108) \n",
       "14978  0    4              787086e9d  Free      0          \n",
       "14979  0    2              f26e3e182  Free      0          \n",
       "14980  0    4              9ea8e240f  Free      0          \n",
       "14981  0    3              85f3279a4  Free      0          \n",
       "14982  0    1              59ee91cf8  Free      0          \n",
       "14983  0    0              fa4314902  Free      0          \n",
       "14984  0    0              a12589a09  Free      0          \n",
       "14985  0    1              75a286d8a  Free      0          \n",
       "14986  0    1              017eda6dc  Free      0          \n",
       "14987  0    2              2b4003be8  Free      0          \n",
       "14988  0    2              5113edf84  Free      0          \n",
       "14989  150  4              93cfea76a  Not Free  [108, 210) \n",
       "14990  0    2              fce6f8dff  Free      0          \n",
       "14991  0    3              7115607a0  Free      0          \n",
       "14992  0    4              23f45d56f  Free      0          \n",
       "\n",
       "[14993 rows x 5 columns]"
      ]
     },
     "execution_count": 115,
     "metadata": {},
     "output_type": "execute_result"
    }
   ],
   "source": [
    "fee_data['FeeBins'] = fee_data['Fee'].apply(generate_fee_bins)\n",
    "fee_data"
   ]
  },
  {
   "cell_type": "code",
   "execution_count": 117,
   "metadata": {},
   "outputs": [
    {
     "data": {
      "text/plain": [
       "0              12663\n",
       "[  1, 25)      346  \n",
       "[ 25, 59)      610  \n",
       "[ 59, 108)     514  \n",
       "[108, 210)     437  \n",
       "[210, 3000]    423  \n",
       "Name: FeeBins, dtype: int64"
      ]
     },
     "execution_count": 117,
     "metadata": {},
     "output_type": "execute_result"
    }
   ],
   "source": [
    "fee_data['FeeBins'].value_counts().sort_index()"
   ]
  },
  {
   "cell_type": "code",
   "execution_count": 116,
   "metadata": {},
   "outputs": [
    {
     "data": {
      "text/plain": [
       "<matplotlib.axes._subplots.AxesSubplot at 0x1694c3b0>"
      ]
     },
     "execution_count": 116,
     "metadata": {},
     "output_type": "execute_result"
    },
    {
     "data": {
      "image/png": "[encoded data removed]",
      "text/plain": [
       "<Figure size 720x432 with 1 Axes>"
      ]
     },
     "metadata": {
      "needs_background": "light"
     },
     "output_type": "display_data"
    }
   ],
   "source": [
    "fee_data['FeeBins'].value_counts().sort_index().plot.bar(rot=0.25, figsize=(10,6))"
   ]
  },
  {
   "cell_type": "code",
   "execution_count": 79,
   "metadata": {},
   "outputs": [
    {
     "data": {
      "text/html": [
       "<div>\n",
       "<style scoped>\n",
       "    .dataframe tbody tr th:only-of-type {\n",
       "        vertical-align: middle;\n",
       "    }\n",
       "\n",
       "    .dataframe tbody tr th {\n",
       "        vertical-align: top;\n",
       "    }\n",
       "\n",
       "    .dataframe thead th {\n",
       "        text-align: right;\n",
       "    }\n",
       "</style>\n",
       "<table border=\"1\" class=\"dataframe\">\n",
       "  <thead>\n",
       "    <tr style=\"text-align: right;\">\n",
       "      <th>AdoptionSpeed</th>\n",
       "      <th>0</th>\n",
       "      <th>1</th>\n",
       "      <th>2</th>\n",
       "      <th>3</th>\n",
       "      <th>4</th>\n",
       "    </tr>\n",
       "    <tr>\n",
       "      <th>FeeBins</th>\n",
       "      <th></th>\n",
       "      <th></th>\n",
       "      <th></th>\n",
       "      <th></th>\n",
       "      <th></th>\n",
       "    </tr>\n",
       "  </thead>\n",
       "  <tbody>\n",
       "    <tr>\n",
       "      <th>0</th>\n",
       "      <td>357</td>\n",
       "      <td>2611</td>\n",
       "      <td>3430</td>\n",
       "      <td>2789</td>\n",
       "      <td>3476</td>\n",
       "    </tr>\n",
       "    <tr>\n",
       "      <th>[  1, 25)</th>\n",
       "      <td>5</td>\n",
       "      <td>68</td>\n",
       "      <td>104</td>\n",
       "      <td>74</td>\n",
       "      <td>95</td>\n",
       "    </tr>\n",
       "    <tr>\n",
       "      <th>[ 25, 59)</th>\n",
       "      <td>13</td>\n",
       "      <td>140</td>\n",
       "      <td>158</td>\n",
       "      <td>117</td>\n",
       "      <td>182</td>\n",
       "    </tr>\n",
       "    <tr>\n",
       "      <th>[ 59, 108)</th>\n",
       "      <td>11</td>\n",
       "      <td>88</td>\n",
       "      <td>114</td>\n",
       "      <td>101</td>\n",
       "      <td>200</td>\n",
       "    </tr>\n",
       "    <tr>\n",
       "      <th>[108, 210)</th>\n",
       "      <td>11</td>\n",
       "      <td>91</td>\n",
       "      <td>112</td>\n",
       "      <td>90</td>\n",
       "      <td>133</td>\n",
       "    </tr>\n",
       "    <tr>\n",
       "      <th>[210, -]</th>\n",
       "      <td>13</td>\n",
       "      <td>92</td>\n",
       "      <td>119</td>\n",
       "      <td>88</td>\n",
       "      <td>111</td>\n",
       "    </tr>\n",
       "  </tbody>\n",
       "</table>\n",
       "</div>"
      ],
      "text/plain": [
       "AdoptionSpeed    0     1     2     3     4\n",
       "FeeBins                                   \n",
       "0              357  2611  3430  2789  3476\n",
       "[  1, 25)      5    68    104   74    95  \n",
       "[ 25, 59)      13   140   158   117   182 \n",
       "[ 59, 108)     11   88    114   101   200 \n",
       "[108, 210)     11   91    112   90    133 \n",
       "[210, -]       13   92    119   88    111 "
      ]
     },
     "execution_count": 79,
     "metadata": {},
     "output_type": "execute_result"
    }
   ],
   "source": [
    "feegroups = fee_data[['FeeBins','AdoptionSpeed', 'PetID']].groupby(['FeeBins','AdoptionSpeed']).count() \n",
    "feegroups = feegroups.reset_index()#.set_index(['QuantityGroup', 'AdoptionSpeed'])#.first()\n",
    "feegroups = feegroups.pivot_table(index= 'FeeBins',columns='AdoptionSpeed',values='PetID')\n",
    "feegroups"
   ]
  },
  {
   "cell_type": "code",
   "execution_count": 80,
   "metadata": {},
   "outputs": [
    {
     "data": {
      "text/html": [
       "<div>\n",
       "<style scoped>\n",
       "    .dataframe tbody tr th:only-of-type {\n",
       "        vertical-align: middle;\n",
       "    }\n",
       "\n",
       "    .dataframe tbody tr th {\n",
       "        vertical-align: top;\n",
       "    }\n",
       "\n",
       "    .dataframe thead th {\n",
       "        text-align: right;\n",
       "    }\n",
       "</style>\n",
       "<table border=\"1\" class=\"dataframe\">\n",
       "  <thead>\n",
       "    <tr style=\"text-align: right;\">\n",
       "      <th>AdoptionSpeed</th>\n",
       "      <th>0</th>\n",
       "      <th>1</th>\n",
       "      <th>2</th>\n",
       "      <th>3</th>\n",
       "      <th>4</th>\n",
       "    </tr>\n",
       "    <tr>\n",
       "      <th>FeeBins</th>\n",
       "      <th></th>\n",
       "      <th></th>\n",
       "      <th></th>\n",
       "      <th></th>\n",
       "      <th></th>\n",
       "    </tr>\n",
       "  </thead>\n",
       "  <tbody>\n",
       "    <tr>\n",
       "      <th>0</th>\n",
       "      <td>0.028192</td>\n",
       "      <td>0.206191</td>\n",
       "      <td>0.270868</td>\n",
       "      <td>0.220248</td>\n",
       "      <td>0.274501</td>\n",
       "    </tr>\n",
       "    <tr>\n",
       "      <th>[  1, 25)</th>\n",
       "      <td>0.014451</td>\n",
       "      <td>0.196532</td>\n",
       "      <td>0.300578</td>\n",
       "      <td>0.213873</td>\n",
       "      <td>0.274566</td>\n",
       "    </tr>\n",
       "    <tr>\n",
       "      <th>[ 25, 59)</th>\n",
       "      <td>0.021311</td>\n",
       "      <td>0.229508</td>\n",
       "      <td>0.259016</td>\n",
       "      <td>0.191803</td>\n",
       "      <td>0.298361</td>\n",
       "    </tr>\n",
       "    <tr>\n",
       "      <th>[ 59, 108)</th>\n",
       "      <td>0.021401</td>\n",
       "      <td>0.171206</td>\n",
       "      <td>0.221790</td>\n",
       "      <td>0.196498</td>\n",
       "      <td>0.389105</td>\n",
       "    </tr>\n",
       "    <tr>\n",
       "      <th>[108, 210)</th>\n",
       "      <td>0.025172</td>\n",
       "      <td>0.208238</td>\n",
       "      <td>0.256293</td>\n",
       "      <td>0.205950</td>\n",
       "      <td>0.304348</td>\n",
       "    </tr>\n",
       "    <tr>\n",
       "      <th>[210, -]</th>\n",
       "      <td>0.030733</td>\n",
       "      <td>0.217494</td>\n",
       "      <td>0.281324</td>\n",
       "      <td>0.208038</td>\n",
       "      <td>0.262411</td>\n",
       "    </tr>\n",
       "  </tbody>\n",
       "</table>\n",
       "</div>"
      ],
      "text/plain": [
       "AdoptionSpeed         0         1         2         3         4\n",
       "FeeBins                                                        \n",
       "0              0.028192  0.206191  0.270868  0.220248  0.274501\n",
       "[  1, 25)      0.014451  0.196532  0.300578  0.213873  0.274566\n",
       "[ 25, 59)      0.021311  0.229508  0.259016  0.191803  0.298361\n",
       "[ 59, 108)     0.021401  0.171206  0.221790  0.196498  0.389105\n",
       "[108, 210)     0.025172  0.208238  0.256293  0.205950  0.304348\n",
       "[210, -]       0.030733  0.217494  0.281324  0.208038  0.262411"
      ]
     },
     "execution_count": 80,
     "metadata": {},
     "output_type": "execute_result"
    }
   ],
   "source": [
    "feepercentages = (feegroups.T / feegroups.sum(axis=1)).T\n",
    "feepercentages"
   ]
  },
  {
   "cell_type": "code",
   "execution_count": 83,
   "metadata": {},
   "outputs": [
    {
     "data": {
      "text/plain": [
       "<matplotlib.legend.Legend at 0x13b07bd0>"
      ]
     },
     "execution_count": 83,
     "metadata": {},
     "output_type": "execute_result"
    },
    {
     "data": {
      "image/png": "[encoded data removed]",
      "text/plain": [
       "<Figure size 576x432 with 1 Axes>"
      ]
     },
     "metadata": {
      "needs_background": "light"
     },
     "output_type": "display_data"
    }
   ],
   "source": [
    "ax = feepercentages.plot.bar(stacked=True, figsize= (8,6), rot=0)\n",
    "ax.legend(bbox_to_anchor = (1.03, 1.))"
   ]
  },
  {
   "cell_type": "markdown",
   "metadata": {},
   "source": [
    "Se puede observar que la distribución se mantiene, a excepción de los anuncios con montos intermedios\n",
    "<br><br>"
   ]
  },
  {
   "cell_type": "code",
   "execution_count": 120,
   "metadata": {},
   "outputs": [
    {
     "data": {
      "image/png": "[encoded data removed]",
      "text/plain": [
       "<Figure size 720x432 with 1 Axes>"
      ]
     },
     "metadata": {
      "needs_background": "light"
     },
     "output_type": "display_data"
    }
   ],
   "source": [
    "#deprecated\n",
    "ax = feegroups.plot(kind='bar', figsize=(10,6))\n",
    "ax.set_title(\"Distribución de la velocidad de adopción por gratuidad de adopción\")\n",
    "for ix, (_,p) in enumerate(sorted([(p.get_xy(), p) for p in ax.patches])):\n",
    "    width, height = p.get_width(), p.get_height()\n",
    "    x, y = p.get_xy() \n",
    "    ax.annotate('{:.0%}'.format(feepercentages.values.flat[ix]), (x, y + height + 10))"
   ]
  },
  {
   "cell_type": "markdown",
   "metadata": {},
   "source": [
    "### State"
   ]
  },
  {
   "cell_type": "code",
   "execution_count": 86,
   "metadata": {},
   "outputs": [
    {
     "data": {
      "text/plain": [
       "Selangor           8714\n",
       "Kuala Lumpur       3845\n",
       "Pulau Pinang       843 \n",
       "Johor              507 \n",
       "Perak              420 \n",
       "Negeri Sembilan    253 \n",
       "Melaka             137 \n",
       "Kedah              110 \n",
       "Pahang             85  \n",
       "Terengganu         26  \n",
       "Sabah              22  \n",
       "Kelantan           15  \n",
       "Sarawak            13  \n",
       "Labuan             3   \n",
       "Name: StateName, dtype: int64"
      ]
     },
     "execution_count": 86,
     "metadata": {},
     "output_type": "execute_result"
    }
   ],
   "source": [
    "state_counts = train.StateName.value_counts()\n",
    "state_counts"
   ]
  },
  {
   "cell_type": "code",
   "execution_count": 89,
   "metadata": {},
   "outputs": [
    {
     "data": {
      "text/plain": [
       "Index(['Selangor', 'Kuala Lumpur', 'Pulau Pinang', 'Johor', 'Perak',\n",
       "       'Negeri Sembilan', 'Melaka'],\n",
       "      dtype='object')"
      ]
     },
     "execution_count": 89,
     "metadata": {},
     "output_type": "execute_result"
    }
   ],
   "source": [
    "top7states = train.StateName.value_counts().index[:7]\n",
    "top7states"
   ]
  },
  {
   "cell_type": "code",
   "execution_count": 90,
   "metadata": {},
   "outputs": [
    {
     "data": {
      "text/plain": [
       "<matplotlib.axes._subplots.AxesSubplot at 0x16254df0>"
      ]
     },
     "execution_count": 90,
     "metadata": {},
     "output_type": "execute_result"
    },
    {
     "data": {
      "image/png": "[encoded data removed]",
      "text/plain": [
       "<Figure size 720x432 with 1 Axes>"
      ]
     },
     "metadata": {
      "needs_background": "light"
     },
     "output_type": "display_data"
    }
   ],
   "source": [
    "state_counts[:7].plot.bar(figsize=(10,6))"
   ]
  },
  {
   "cell_type": "code",
   "execution_count": 60,
   "metadata": {},
   "outputs": [
    {
     "data": {
      "text/plain": [
       "Index(['Selangor', 'Kuala Lumpur', 'Pulau Pinang', 'Johor', 'Perak'], dtype='object')"
      ]
     },
     "execution_count": 60,
     "metadata": {},
     "output_type": "execute_result"
    }
   ],
   "source": [
    "top5states = train.StateName.value_counts().index[:5]\n",
    "top5states"
   ]
  },
  {
   "cell_type": "code",
   "execution_count": null,
   "metadata": {},
   "outputs": [],
   "source": [
    "#no se ve muy bonito. Los menores a Perak los catalogaremos como otros"
   ]
  },
  {
   "cell_type": "code",
   "execution_count": 91,
   "metadata": {
    "scrolled": true
   },
   "outputs": [],
   "source": [
    "state_data = train[['StateName', 'AdoptionSpeed']].copy()"
   ]
  },
  {
   "cell_type": "code",
   "execution_count": 92,
   "metadata": {},
   "outputs": [],
   "source": [
    "state_data['StateNameSimple'] = state_data['StateName'].apply(lambda state:\\\n",
    "                                                               state if state in top7states\\\n",
    "                                                                     else \"Others\")"
   ]
  },
  {
   "cell_type": "code",
   "execution_count": 87,
   "metadata": {},
   "outputs": [],
   "source": [
    "state_data['AdoptionSpeedSimple'] = state_data.AdoptionSpeed.apply(lambda speed:\\\n",
    "                                                                  \"Adopted\" if speed < 4\\\n",
    "                                                                  else \"Not Adopted\")"
   ]
  },
  {
   "cell_type": "code",
   "execution_count": 17,
   "metadata": {},
   "outputs": [
    {
     "data": {
      "text/plain": [
       "Index(['Selangor', 'Kuala Lumpur', 'Pulau Pinang'], dtype='object')"
      ]
     },
     "execution_count": 17,
     "metadata": {},
     "output_type": "execute_result"
    }
   ],
   "source": [
    "top3states = train.StateName.value_counts().index[:3]\n",
    "top3states"
   ]
  },
  {
   "cell_type": "code",
   "execution_count": 94,
   "metadata": {},
   "outputs": [
    {
     "data": {
      "text/html": [
       "<div>\n",
       "<style scoped>\n",
       "    .dataframe tbody tr th:only-of-type {\n",
       "        vertical-align: middle;\n",
       "    }\n",
       "\n",
       "    .dataframe tbody tr th {\n",
       "        vertical-align: top;\n",
       "    }\n",
       "\n",
       "    .dataframe thead th {\n",
       "        text-align: right;\n",
       "    }\n",
       "</style>\n",
       "<table border=\"1\" class=\"dataframe\">\n",
       "  <thead>\n",
       "    <tr style=\"text-align: right;\">\n",
       "      <th>AdoptionSpeed</th>\n",
       "      <th>0</th>\n",
       "      <th>1</th>\n",
       "      <th>2</th>\n",
       "      <th>3</th>\n",
       "      <th>4</th>\n",
       "    </tr>\n",
       "  </thead>\n",
       "  <tbody>\n",
       "    <tr>\n",
       "      <th>Selangor</th>\n",
       "      <td>246</td>\n",
       "      <td>1877</td>\n",
       "      <td>2435</td>\n",
       "      <td>2004</td>\n",
       "      <td>2152</td>\n",
       "    </tr>\n",
       "    <tr>\n",
       "      <th>Kuala Lumpur</th>\n",
       "      <td>112</td>\n",
       "      <td>814</td>\n",
       "      <td>996</td>\n",
       "      <td>731</td>\n",
       "      <td>1192</td>\n",
       "    </tr>\n",
       "    <tr>\n",
       "      <th>Pulau Pinang</th>\n",
       "      <td>8</td>\n",
       "      <td>122</td>\n",
       "      <td>216</td>\n",
       "      <td>197</td>\n",
       "      <td>300</td>\n",
       "    </tr>\n",
       "    <tr>\n",
       "      <th>Johor</th>\n",
       "      <td>23</td>\n",
       "      <td>113</td>\n",
       "      <td>136</td>\n",
       "      <td>103</td>\n",
       "      <td>132</td>\n",
       "    </tr>\n",
       "    <tr>\n",
       "      <th>Perak</th>\n",
       "      <td>3</td>\n",
       "      <td>48</td>\n",
       "      <td>111</td>\n",
       "      <td>117</td>\n",
       "      <td>141</td>\n",
       "    </tr>\n",
       "    <tr>\n",
       "      <th>Negeri Sembilan</th>\n",
       "      <td>4</td>\n",
       "      <td>36</td>\n",
       "      <td>63</td>\n",
       "      <td>42</td>\n",
       "      <td>108</td>\n",
       "    </tr>\n",
       "    <tr>\n",
       "      <th>Melaka</th>\n",
       "      <td>4</td>\n",
       "      <td>18</td>\n",
       "      <td>23</td>\n",
       "      <td>12</td>\n",
       "      <td>80</td>\n",
       "    </tr>\n",
       "  </tbody>\n",
       "</table>\n",
       "</div>"
      ],
      "text/plain": [
       "AdoptionSpeed      0     1     2     3     4\n",
       "Selangor         246  1877  2435  2004  2152\n",
       "Kuala Lumpur     112  814   996   731   1192\n",
       "Pulau Pinang     8    122   216   197   300 \n",
       "Johor            23   113   136   103   132 \n",
       "Perak            3    48    111   117   141 \n",
       "Negeri Sembilan  4    36    63    42    108 \n",
       "Melaka           4    18    23    12    80  "
      ]
     },
     "execution_count": 94,
     "metadata": {},
     "output_type": "execute_result"
    }
   ],
   "source": [
    "stgroups = train.loc[train.StateName.isin(top7states)]\n",
    "stgroups = stgroups[['StateName','AdoptionSpeed', 'PetID']].groupby(['StateName','AdoptionSpeed']).count() \n",
    "stgroups = stgroups.reset_index()#.set_index(['QuantityGroup', 'AdoptionSpeed'])#.first()\n",
    "stgroups = stgroups.pivot_table(index= 'StateName',columns='AdoptionSpeed',values='PetID')\n",
    "stgroups = stgroups.reindex(top7states)\n",
    "stgroups"
   ]
  },
  {
   "cell_type": "code",
   "execution_count": 95,
   "metadata": {
    "scrolled": true
   },
   "outputs": [
    {
     "data": {
      "text/html": [
       "<div>\n",
       "<style scoped>\n",
       "    .dataframe tbody tr th:only-of-type {\n",
       "        vertical-align: middle;\n",
       "    }\n",
       "\n",
       "    .dataframe tbody tr th {\n",
       "        vertical-align: top;\n",
       "    }\n",
       "\n",
       "    .dataframe thead th {\n",
       "        text-align: right;\n",
       "    }\n",
       "</style>\n",
       "<table border=\"1\" class=\"dataframe\">\n",
       "  <thead>\n",
       "    <tr style=\"text-align: right;\">\n",
       "      <th>AdoptionSpeed</th>\n",
       "      <th>0</th>\n",
       "      <th>1</th>\n",
       "      <th>2</th>\n",
       "      <th>3</th>\n",
       "      <th>4</th>\n",
       "    </tr>\n",
       "  </thead>\n",
       "  <tbody>\n",
       "    <tr>\n",
       "      <th>Selangor</th>\n",
       "      <td>0.028230</td>\n",
       "      <td>0.215401</td>\n",
       "      <td>0.279435</td>\n",
       "      <td>0.229975</td>\n",
       "      <td>0.246959</td>\n",
       "    </tr>\n",
       "    <tr>\n",
       "      <th>Kuala Lumpur</th>\n",
       "      <td>0.029129</td>\n",
       "      <td>0.211704</td>\n",
       "      <td>0.259038</td>\n",
       "      <td>0.190117</td>\n",
       "      <td>0.310013</td>\n",
       "    </tr>\n",
       "    <tr>\n",
       "      <th>Pulau Pinang</th>\n",
       "      <td>0.009490</td>\n",
       "      <td>0.144721</td>\n",
       "      <td>0.256228</td>\n",
       "      <td>0.233689</td>\n",
       "      <td>0.355872</td>\n",
       "    </tr>\n",
       "    <tr>\n",
       "      <th>Johor</th>\n",
       "      <td>0.045365</td>\n",
       "      <td>0.222880</td>\n",
       "      <td>0.268245</td>\n",
       "      <td>0.203156</td>\n",
       "      <td>0.260355</td>\n",
       "    </tr>\n",
       "    <tr>\n",
       "      <th>Perak</th>\n",
       "      <td>0.007143</td>\n",
       "      <td>0.114286</td>\n",
       "      <td>0.264286</td>\n",
       "      <td>0.278571</td>\n",
       "      <td>0.335714</td>\n",
       "    </tr>\n",
       "    <tr>\n",
       "      <th>Negeri Sembilan</th>\n",
       "      <td>0.015810</td>\n",
       "      <td>0.142292</td>\n",
       "      <td>0.249012</td>\n",
       "      <td>0.166008</td>\n",
       "      <td>0.426877</td>\n",
       "    </tr>\n",
       "    <tr>\n",
       "      <th>Melaka</th>\n",
       "      <td>0.029197</td>\n",
       "      <td>0.131387</td>\n",
       "      <td>0.167883</td>\n",
       "      <td>0.087591</td>\n",
       "      <td>0.583942</td>\n",
       "    </tr>\n",
       "  </tbody>\n",
       "</table>\n",
       "</div>"
      ],
      "text/plain": [
       "AdoptionSpeed           0         1         2         3         4\n",
       "Selangor         0.028230  0.215401  0.279435  0.229975  0.246959\n",
       "Kuala Lumpur     0.029129  0.211704  0.259038  0.190117  0.310013\n",
       "Pulau Pinang     0.009490  0.144721  0.256228  0.233689  0.355872\n",
       "Johor            0.045365  0.222880  0.268245  0.203156  0.260355\n",
       "Perak            0.007143  0.114286  0.264286  0.278571  0.335714\n",
       "Negeri Sembilan  0.015810  0.142292  0.249012  0.166008  0.426877\n",
       "Melaka           0.029197  0.131387  0.167883  0.087591  0.583942"
      ]
     },
     "execution_count": 95,
     "metadata": {},
     "output_type": "execute_result"
    }
   ],
   "source": [
    "stpercentages = (stgroups.T/stgroups.sum(axis=1)).T \n",
    "stpercentages"
   ]
  },
  {
   "cell_type": "code",
   "execution_count": 101,
   "metadata": {},
   "outputs": [
    {
     "data": {
      "text/plain": [
       "<matplotlib.legend.Legend at 0x169944d0>"
      ]
     },
     "execution_count": 101,
     "metadata": {},
     "output_type": "execute_result"
    },
    {
     "data": {
      "image/png": "[encoded data removed]",
      "text/plain": [
       "<Figure size 864x432 with 1 Axes>"
      ]
     },
     "metadata": {
      "needs_background": "light"
     },
     "output_type": "display_data"
    }
   ],
   "source": [
    "ax = stpercentages.plot.bar(stacked=True, figsize=(12,6), rot=0.5)\n",
    "ax.legend(bbox_to_anchor = (1.03, 1.))"
   ]
  },
  {
   "cell_type": "markdown",
   "metadata": {},
   "source": [
    "Existe una diferencia de velocidades de adopción en los distintos estados. Se puede observar que Selangor es el que tiene menor proporción de mascotas no adoptadas, y, junto a Johor, son las ciudades con adopciones más rápidas."
   ]
  },
  {
   "cell_type": "code",
   "execution_count": null,
   "metadata": {},
   "outputs": [],
   "source": []
  },
  {
   "cell_type": "code",
   "execution_count": 71,
   "metadata": {},
   "outputs": [
    {
     "data": {
      "image/png": "[encoded data removed]",
      "text/plain": [
       "<Figure size 720x432 with 1 Axes>"
      ]
     },
     "metadata": {
      "needs_background": "light"
     },
     "output_type": "display_data"
    }
   ],
   "source": [
    "#deprecated\n",
    "ax = stgroups.plot(kind='bar', figsize=(10,6))\n",
    "ax.set_title(\"Distribución de la velocidad de adopción por ciudad\")\n",
    "for ix, (_,p) in enumerate(sorted([(p.get_xy(), p) for p in ax.patches])):\n",
    "    width, height = p.get_width(), p.get_height()\n",
    "    x, y = p.get_xy() \n",
    "    ax.annotate('{:.0%}'.format(stpercentages.values.flat[ix]), (x, y + height + 10))"
   ]
  },
  {
   "cell_type": "code",
   "execution_count": 90,
   "metadata": {},
   "outputs": [
    {
     "data": {
      "text/html": [
       "<div>\n",
       "<style scoped>\n",
       "    .dataframe tbody tr th:only-of-type {\n",
       "        vertical-align: middle;\n",
       "    }\n",
       "\n",
       "    .dataframe tbody tr th {\n",
       "        vertical-align: top;\n",
       "    }\n",
       "\n",
       "    .dataframe thead th {\n",
       "        text-align: right;\n",
       "    }\n",
       "</style>\n",
       "<table border=\"1\" class=\"dataframe\">\n",
       "  <thead>\n",
       "    <tr style=\"text-align: right;\">\n",
       "      <th>AdoptionSpeedSimple</th>\n",
       "      <th>Adopted</th>\n",
       "      <th>Not Adopted</th>\n",
       "    </tr>\n",
       "  </thead>\n",
       "  <tbody>\n",
       "    <tr>\n",
       "      <th>Selangor</th>\n",
       "      <td>6562</td>\n",
       "      <td>2152</td>\n",
       "    </tr>\n",
       "    <tr>\n",
       "      <th>Kuala Lumpur</th>\n",
       "      <td>2653</td>\n",
       "      <td>1192</td>\n",
       "    </tr>\n",
       "    <tr>\n",
       "      <th>Pulau Pinang</th>\n",
       "      <td>543</td>\n",
       "      <td>300</td>\n",
       "    </tr>\n",
       "  </tbody>\n",
       "</table>\n",
       "</div>"
      ],
      "text/plain": [
       "AdoptionSpeedSimple  Adopted  Not Adopted\n",
       "Selangor             6562     2152       \n",
       "Kuala Lumpur         2653     1192       \n",
       "Pulau Pinang         543      300        "
      ]
     },
     "execution_count": 90,
     "metadata": {},
     "output_type": "execute_result"
    }
   ],
   "source": [
    "stsimplegroups = state_data.loc[state_data.StateName.isin(top3states)]\n",
    "stsimplegroups = stsimplegroups[['StateName','AdoptionSpeedSimple', 'StateNameSimple']].groupby(['StateName','AdoptionSpeedSimple']).count() \n",
    "stsimplegroups = stsimplegroups.reset_index()#.set_index(['QuantityGroup', 'AdoptionSpeed'])#.first()\n",
    "stsimplegroups = stsimplegroups.pivot_table(index= 'StateName',columns='AdoptionSpeedSimple',values='StateNameSimple')\n",
    "stsimplegroups = stsimplegroups.reindex(top3states)\n",
    "stsimplegroups"
   ]
  },
  {
   "cell_type": "code",
   "execution_count": 100,
   "metadata": {},
   "outputs": [
    {
     "data": {
      "text/plain": [
       "<Figure size 432x288 with 0 Axes>"
      ]
     },
     "metadata": {},
     "output_type": "display_data"
    }
   ],
   "source": [
    "fig = plt.figure()"
   ]
  },
  {
   "cell_type": "code",
   "execution_count": 130,
   "metadata": {},
   "outputs": [
    {
     "data": {
      "text/plain": [
       "([<matplotlib.patches.Wedge at 0x1ced2d30>,\n",
       "  <matplotlib.patches.Wedge at 0x1d465170>],\n",
       " ['Adopted', 'Not Adopted'])"
      ]
     },
     "execution_count": 130,
     "metadata": {},
     "output_type": "execute_result"
    }
   ],
   "source": [
    "handles, labels = ax_selangor.get_legend_handles_labels()"
   ]
  },
  {
   "cell_type": "code",
   "execution_count": 163,
   "metadata": {},
   "outputs": [
    {
     "data": {
      "image/png": "[encoded data removed]",
      "text/plain": [
       "<Figure size 864x720 with 3 Axes>"
      ]
     },
     "metadata": {},
     "output_type": "display_data"
    }
   ],
   "source": [
    "fig = plt.figure(figsize=(12,10))\n",
    "\n",
    "plt.subplot(1,3,1)\n",
    "ax_selangor = stsimplegroups.T['Selangor'].plot.pie()\n",
    "\n",
    "handles, labels = ax_selangor.get_legend_handles_labels()\n",
    "fig.legend( handles, labels, loc = (0.89, 0.7))\n",
    "\n",
    "plt.subplot(1,3,2)\n",
    "plt.title(\"Proporción de mascotas adoptadas en los tres principales estados\", {'fontsize': 15}, pad = 30)\n",
    "ax_kuala_lumpur = stsimplegroups.T['Kuala Lumpur'].plot.pie()\n",
    "\n",
    "plt.subplot(1,3,3)\n",
    "ax_pulau = stsimplegroups.T['Pulau Pinang'].plot.pie()\n",
    "\n",
    "\n",
    "plt.tight_layout()"
   ]
  },
  {
   "cell_type": "markdown",
   "metadata": {},
   "source": [
    "En el segundo y tercer estado del ranking, se observa que la proporción de mascotas no adoptadas es mayor que en Selangor."
   ]
  },
  {
   "cell_type": "markdown",
   "metadata": {},
   "source": [
    "### Description"
   ]
  },
  {
   "cell_type": "code",
   "execution_count": null,
   "metadata": {},
   "outputs": [],
   "source": []
  }
 ],
 "metadata": {
  "kernelspec": {
   "display_name": "Python 3",
   "language": "python",
   "name": "python3"
  },
  "language_info": {
   "codemirror_mode": {
    "name": "ipython",
    "version": 3
   },
   "file_extension": ".py",
   "mimetype": "text/x-python",
   "name": "python",
   "nbconvert_exporter": "python",
   "pygments_lexer": "ipython3",
   "version": "3.7.0"
  }
 },
 "nbformat": 4,
 "nbformat_minor": 2
}
