{
 "cells": [
  {
   "cell_type": "code",
   "execution_count": 3,
   "metadata": {},
   "outputs": [],
   "source": [
    "import pandas as pd\n",
    "import seaborn as sns\n",
    "import matplotlib.pyplot as plt"
   ]
  },
  {
   "cell_type": "markdown",
   "metadata": {},
   "source": [
    "##### Cargamos los datos"
   ]
  },
  {
   "cell_type": "code",
   "execution_count": 4,
   "metadata": {},
   "outputs": [
    {
     "data": {
      "text/plain": [
       "(3972, 23)"
      ]
     },
     "execution_count": 4,
     "metadata": {},
     "output_type": "execute_result"
    }
   ],
   "source": [
    "test = pd.read_csv('data/test/test.csv')\n",
    "test.shape"
   ]
  },
  {
   "cell_type": "code",
   "execution_count": 5,
   "metadata": {},
   "outputs": [
    {
     "data": {
      "text/plain": [
       "(14993, 24)"
      ]
     },
     "execution_count": 5,
     "metadata": {},
     "output_type": "execute_result"
    }
   ],
   "source": [
    "train = pd.read_csv('data/train/train.csv')\n",
    "train.shape"
   ]
  },
  {
   "cell_type": "code",
   "execution_count": 5,
   "metadata": {},
   "outputs": [
    {
     "data": {
      "text/plain": [
       "{'AdoptionSpeed'}"
      ]
     },
     "execution_count": 5,
     "metadata": {},
     "output_type": "execute_result"
    }
   ],
   "source": [
    "set(train.columns) ^ set(test.columns) # ^ es diferencia simetrica"
   ]
  },
  {
   "cell_type": "markdown",
   "metadata": {},
   "source": [
    "##### Observamos que State es un numero, por ello cargaremos luego la tabla<br>de equivalencias para State para facilitar legibilidad\n"
   ]
  },
  {
   "cell_type": "code",
   "execution_count": 6,
   "metadata": {},
   "outputs": [
    {
     "data": {
      "text/plain": [
       "41326    1833\n",
       "41401    1072\n",
       "41327     510\n",
       "41330     147\n",
       "41336     127\n",
       "41332     101\n",
       "41324      73\n",
       "41325      63\n",
       "41335      17\n",
       "41367       7\n",
       "41345       7\n",
       "41342       5\n",
       "41415       4\n",
       "41361       3\n",
       "41380       3\n",
       "Name: State, dtype: int64"
      ]
     },
     "execution_count": 6,
     "metadata": {},
     "output_type": "execute_result"
    }
   ],
   "source": [
    "test.State.value_counts()"
   ]
  },
  {
   "cell_type": "code",
   "execution_count": 7,
   "metadata": {},
   "outputs": [
    {
     "data": {
      "text/plain": [
       "41326    8714\n",
       "41401    3845\n",
       "41327     843\n",
       "41336     507\n",
       "41330     420\n",
       "41332     253\n",
       "41324     137\n",
       "41325     110\n",
       "41335      85\n",
       "41361      26\n",
       "41345      22\n",
       "41367      15\n",
       "41342      13\n",
       "41415       3\n",
       "Name: State, dtype: int64"
      ]
     },
     "execution_count": 7,
     "metadata": {},
     "output_type": "execute_result"
    }
   ],
   "source": [
    "train.State.value_counts()"
   ]
  },
  {
   "cell_type": "markdown",
   "metadata": {},
   "source": [
    "##### Cargamos tabla de equivalencias de estados y la agregamos a train y test"
   ]
  },
  {
   "cell_type": "code",
   "execution_count": 6,
   "metadata": {},
   "outputs": [
    {
     "data": {
      "text/html": [
       "<div>\n",
       "<style scoped>\n",
       "    .dataframe tbody tr th:only-of-type {\n",
       "        vertical-align: middle;\n",
       "    }\n",
       "\n",
       "    .dataframe tbody tr th {\n",
       "        vertical-align: top;\n",
       "    }\n",
       "\n",
       "    .dataframe thead th {\n",
       "        text-align: right;\n",
       "    }\n",
       "</style>\n",
       "<table border=\"1\" class=\"dataframe\">\n",
       "  <thead>\n",
       "    <tr style=\"text-align: right;\">\n",
       "      <th></th>\n",
       "      <th>State</th>\n",
       "      <th>StateName</th>\n",
       "    </tr>\n",
       "  </thead>\n",
       "  <tbody>\n",
       "    <tr>\n",
       "      <th>0</th>\n",
       "      <td>41336</td>\n",
       "      <td>Johor</td>\n",
       "    </tr>\n",
       "    <tr>\n",
       "      <th>1</th>\n",
       "      <td>41325</td>\n",
       "      <td>Kedah</td>\n",
       "    </tr>\n",
       "    <tr>\n",
       "      <th>2</th>\n",
       "      <td>41367</td>\n",
       "      <td>Kelantan</td>\n",
       "    </tr>\n",
       "    <tr>\n",
       "      <th>3</th>\n",
       "      <td>41401</td>\n",
       "      <td>Kuala Lumpur</td>\n",
       "    </tr>\n",
       "    <tr>\n",
       "      <th>4</th>\n",
       "      <td>41415</td>\n",
       "      <td>Labuan</td>\n",
       "    </tr>\n",
       "    <tr>\n",
       "      <th>5</th>\n",
       "      <td>41324</td>\n",
       "      <td>Melaka</td>\n",
       "    </tr>\n",
       "    <tr>\n",
       "      <th>6</th>\n",
       "      <td>41332</td>\n",
       "      <td>Negeri Sembilan</td>\n",
       "    </tr>\n",
       "    <tr>\n",
       "      <th>7</th>\n",
       "      <td>41335</td>\n",
       "      <td>Pahang</td>\n",
       "    </tr>\n",
       "    <tr>\n",
       "      <th>8</th>\n",
       "      <td>41330</td>\n",
       "      <td>Perak</td>\n",
       "    </tr>\n",
       "    <tr>\n",
       "      <th>9</th>\n",
       "      <td>41380</td>\n",
       "      <td>Perlis</td>\n",
       "    </tr>\n",
       "    <tr>\n",
       "      <th>10</th>\n",
       "      <td>41327</td>\n",
       "      <td>Pulau Pinang</td>\n",
       "    </tr>\n",
       "    <tr>\n",
       "      <th>11</th>\n",
       "      <td>41345</td>\n",
       "      <td>Sabah</td>\n",
       "    </tr>\n",
       "    <tr>\n",
       "      <th>12</th>\n",
       "      <td>41342</td>\n",
       "      <td>Sarawak</td>\n",
       "    </tr>\n",
       "    <tr>\n",
       "      <th>13</th>\n",
       "      <td>41326</td>\n",
       "      <td>Selangor</td>\n",
       "    </tr>\n",
       "    <tr>\n",
       "      <th>14</th>\n",
       "      <td>41361</td>\n",
       "      <td>Terengganu</td>\n",
       "    </tr>\n",
       "  </tbody>\n",
       "</table>\n",
       "</div>"
      ],
      "text/plain": [
       "    State        StateName\n",
       "0   41336            Johor\n",
       "1   41325            Kedah\n",
       "2   41367         Kelantan\n",
       "3   41401     Kuala Lumpur\n",
       "4   41415           Labuan\n",
       "5   41324           Melaka\n",
       "6   41332  Negeri Sembilan\n",
       "7   41335           Pahang\n",
       "8   41330            Perak\n",
       "9   41380           Perlis\n",
       "10  41327     Pulau Pinang\n",
       "11  41345            Sabah\n",
       "12  41342          Sarawak\n",
       "13  41326         Selangor\n",
       "14  41361       Terengganu"
      ]
     },
     "execution_count": 6,
     "metadata": {},
     "output_type": "execute_result"
    }
   ],
   "source": [
    "df_state = pd.read_csv('data/state_labels.csv')\n",
    "df_state.rename(columns={\"StateID\":\"State\"}, inplace=True)\n",
    "df_state"
   ]
  },
  {
   "cell_type": "code",
   "execution_count": 7,
   "metadata": {},
   "outputs": [],
   "source": [
    "train = pd.merge(train, df_state)\n",
    "test = pd.merge(test, df_state)"
   ]
  },
  {
   "cell_type": "markdown",
   "metadata": {},
   "source": [
    "### Quantity\n",
    "Eventualmente nos encontramos con varias mascotas en un solo anuncio"
   ]
  },
  {
   "cell_type": "code",
   "execution_count": 50,
   "metadata": {},
   "outputs": [
    {
     "data": {
      "text/html": [
       "<div>\n",
       "<style scoped>\n",
       "    .dataframe tbody tr th:only-of-type {\n",
       "        vertical-align: middle;\n",
       "    }\n",
       "\n",
       "    .dataframe tbody tr th {\n",
       "        vertical-align: top;\n",
       "    }\n",
       "\n",
       "    .dataframe thead th {\n",
       "        text-align: right;\n",
       "    }\n",
       "</style>\n",
       "<table border=\"1\" class=\"dataframe\">\n",
       "  <thead>\n",
       "    <tr style=\"text-align: right;\">\n",
       "      <th></th>\n",
       "      <th>Freq</th>\n",
       "      <th>CumulativeFreq</th>\n",
       "      <th>RelFreq</th>\n",
       "      <th>CumulativeRelFreq</th>\n",
       "    </tr>\n",
       "  </thead>\n",
       "  <tbody>\n",
       "    <tr>\n",
       "      <th>1</th>\n",
       "      <td>11565</td>\n",
       "      <td>11565</td>\n",
       "      <td>0.771360</td>\n",
       "      <td>0.771360</td>\n",
       "    </tr>\n",
       "    <tr>\n",
       "      <th>2</th>\n",
       "      <td>1422</td>\n",
       "      <td>12987</td>\n",
       "      <td>0.094844</td>\n",
       "      <td>0.866204</td>\n",
       "    </tr>\n",
       "    <tr>\n",
       "      <th>3</th>\n",
       "      <td>726</td>\n",
       "      <td>13713</td>\n",
       "      <td>0.048423</td>\n",
       "      <td>0.914627</td>\n",
       "    </tr>\n",
       "    <tr>\n",
       "      <th>4</th>\n",
       "      <td>531</td>\n",
       "      <td>14244</td>\n",
       "      <td>0.035417</td>\n",
       "      <td>0.950043</td>\n",
       "    </tr>\n",
       "    <tr>\n",
       "      <th>5</th>\n",
       "      <td>333</td>\n",
       "      <td>14577</td>\n",
       "      <td>0.022210</td>\n",
       "      <td>0.972254</td>\n",
       "    </tr>\n",
       "    <tr>\n",
       "      <th>6</th>\n",
       "      <td>185</td>\n",
       "      <td>14762</td>\n",
       "      <td>0.012339</td>\n",
       "      <td>0.984593</td>\n",
       "    </tr>\n",
       "    <tr>\n",
       "      <th>7</th>\n",
       "      <td>84</td>\n",
       "      <td>14846</td>\n",
       "      <td>0.005603</td>\n",
       "      <td>0.990195</td>\n",
       "    </tr>\n",
       "    <tr>\n",
       "      <th>8</th>\n",
       "      <td>52</td>\n",
       "      <td>14898</td>\n",
       "      <td>0.003468</td>\n",
       "      <td>0.993664</td>\n",
       "    </tr>\n",
       "    <tr>\n",
       "      <th>9</th>\n",
       "      <td>33</td>\n",
       "      <td>14931</td>\n",
       "      <td>0.002201</td>\n",
       "      <td>0.995865</td>\n",
       "    </tr>\n",
       "    <tr>\n",
       "      <th>10</th>\n",
       "      <td>19</td>\n",
       "      <td>14950</td>\n",
       "      <td>0.001267</td>\n",
       "      <td>0.997132</td>\n",
       "    </tr>\n",
       "    <tr>\n",
       "      <th>20</th>\n",
       "      <td>12</td>\n",
       "      <td>14962</td>\n",
       "      <td>0.000800</td>\n",
       "      <td>0.997932</td>\n",
       "    </tr>\n",
       "    <tr>\n",
       "      <th>11</th>\n",
       "      <td>10</td>\n",
       "      <td>14972</td>\n",
       "      <td>0.000667</td>\n",
       "      <td>0.998599</td>\n",
       "    </tr>\n",
       "    <tr>\n",
       "      <th>12</th>\n",
       "      <td>6</td>\n",
       "      <td>14978</td>\n",
       "      <td>0.000400</td>\n",
       "      <td>0.999000</td>\n",
       "    </tr>\n",
       "    <tr>\n",
       "      <th>15</th>\n",
       "      <td>4</td>\n",
       "      <td>14982</td>\n",
       "      <td>0.000267</td>\n",
       "      <td>0.999266</td>\n",
       "    </tr>\n",
       "    <tr>\n",
       "      <th>17</th>\n",
       "      <td>3</td>\n",
       "      <td>14985</td>\n",
       "      <td>0.000200</td>\n",
       "      <td>0.999466</td>\n",
       "    </tr>\n",
       "    <tr>\n",
       "      <th>16</th>\n",
       "      <td>3</td>\n",
       "      <td>14988</td>\n",
       "      <td>0.000200</td>\n",
       "      <td>0.999667</td>\n",
       "    </tr>\n",
       "    <tr>\n",
       "      <th>13</th>\n",
       "      <td>2</td>\n",
       "      <td>14990</td>\n",
       "      <td>0.000133</td>\n",
       "      <td>0.999800</td>\n",
       "    </tr>\n",
       "    <tr>\n",
       "      <th>14</th>\n",
       "      <td>2</td>\n",
       "      <td>14992</td>\n",
       "      <td>0.000133</td>\n",
       "      <td>0.999933</td>\n",
       "    </tr>\n",
       "    <tr>\n",
       "      <th>18</th>\n",
       "      <td>1</td>\n",
       "      <td>14993</td>\n",
       "      <td>0.000067</td>\n",
       "      <td>1.000000</td>\n",
       "    </tr>\n",
       "  </tbody>\n",
       "</table>\n",
       "</div>"
      ],
      "text/plain": [
       "     Freq  CumulativeFreq   RelFreq  CumulativeRelFreq\n",
       "1   11565           11565  0.771360           0.771360\n",
       "2    1422           12987  0.094844           0.866204\n",
       "3     726           13713  0.048423           0.914627\n",
       "4     531           14244  0.035417           0.950043\n",
       "5     333           14577  0.022210           0.972254\n",
       "6     185           14762  0.012339           0.984593\n",
       "7      84           14846  0.005603           0.990195\n",
       "8      52           14898  0.003468           0.993664\n",
       "9      33           14931  0.002201           0.995865\n",
       "10     19           14950  0.001267           0.997132\n",
       "20     12           14962  0.000800           0.997932\n",
       "11     10           14972  0.000667           0.998599\n",
       "12      6           14978  0.000400           0.999000\n",
       "15      4           14982  0.000267           0.999266\n",
       "17      3           14985  0.000200           0.999466\n",
       "16      3           14988  0.000200           0.999667\n",
       "13      2           14990  0.000133           0.999800\n",
       "14      2           14992  0.000133           0.999933\n",
       "18      1           14993  0.000067           1.000000"
      ]
     },
     "execution_count": 50,
     "metadata": {},
     "output_type": "execute_result"
    }
   ],
   "source": [
    "df_quantcum = pd.DataFrame(train.Quantity.value_counts())\n",
    "df_quantcum.rename(columns={'Quantity':'Freq'}, inplace=True)\n",
    "df_quantcum['CumulativeFreq'] = df_quantcum.Freq.cumsum()\n",
    "df_quantcum['RelFreq'] = df_quantcum.Freq / df_quantcum.Freq.sum()\n",
    "df_quantcum['CumulativeRelFreq'] = df_quantcum.RelFreq.cumsum()\n",
    "df_quantcum"
   ]
  },
  {
   "cell_type": "code",
   "execution_count": 55,
   "metadata": {},
   "outputs": [
    {
     "data": {
      "text/plain": [
       "0.004135"
      ]
     },
     "execution_count": 55,
     "metadata": {},
     "output_type": "execute_result"
    }
   ],
   "source": [
    "1 - 0.995865 #anuncios con 10 mascotas o mas"
   ]
  },
  {
   "cell_type": "code",
   "execution_count": 99,
   "metadata": {
    "scrolled": true
   },
   "outputs": [
    {
     "data": {
      "text/plain": [
       "Text(0.5, 1.0, 'Presencia de anuncios por cantidad de mascotas ofrecidas')"
      ]
     },
     "execution_count": 99,
     "metadata": {},
     "output_type": "execute_result"
    },
    {
     "data": {
      "image/png": "[encoded data removed]",
      "text/plain": [
       "<Figure size 432x288 with 1 Axes>"
      ]
     },
     "metadata": {},
     "output_type": "display_data"
    }
   ],
   "source": [
    "#ax = df_quantcum[df_quantcum.Freq > 100]['Freq'].plot.pie()\n",
    "ax = df_quantcum['Freq'].plot.pie()\n",
    "ax.set_title(\"Presencia de anuncios por cantidad de mascotas ofrecidas\")"
   ]
  },
  {
   "cell_type": "code",
   "execution_count": 100,
   "metadata": {},
   "outputs": [],
   "source": [
    "#se observa que el grupo mayoritario es el de anuncios con 1 mascota\n",
    "#luego separaremos en dos grupos menores: anuncios con 2 o 3 mascotas y\n",
    "#                                         anuncios con 4 o mas mascotas"
   ]
  },
  {
   "cell_type": "code",
   "execution_count": 33,
   "metadata": {},
   "outputs": [],
   "source": [
    "def assign_group_quantity(original_quantity):\n",
    "    if original_quantity <= 0:\n",
    "        raise ValueError(\"Expected quantity > 0\")\n",
    "    if original_quantity == 1:\n",
    "        return \"Single pet\"\n",
    "    elif original_quantity < 3:\n",
    "        return \"Short group\"\n",
    "    else:\n",
    "        return \"Large group\""
   ]
  },
  {
   "cell_type": "code",
   "execution_count": 34,
   "metadata": {},
   "outputs": [],
   "source": [
    "train['QuantityGroup'] = train.Quantity.apply(assign_group_quantity)\n",
    "test['QuantityGroup']  = test.Quantity.apply(assign_group_quantity)"
   ]
  },
  {
   "cell_type": "markdown",
   "metadata": {},
   "source": [
    "Observamos que los anuncios de mascotas solas ocupan más del 77% del total. <br>Asimismo, notamos que los anuncios con 10 mascotas o más representan menos del 0.5% del total, podríamos darle una revisión rápida"
   ]
  },
  {
   "cell_type": "code",
   "execution_count": 36,
   "metadata": {},
   "outputs": [],
   "source": [
    "#pd.set_option('display.max_info_rows',-1)\n",
    "pd.set_option('display.max_colwidth',-1)\n"
   ]
  },
  {
   "cell_type": "code",
   "execution_count": 37,
   "metadata": {
    "scrolled": false
   },
   "outputs": [
    {
     "data": {
      "text/html": [
       "<div>\n",
       "<style scoped>\n",
       "    .dataframe tbody tr th:only-of-type {\n",
       "        vertical-align: middle;\n",
       "    }\n",
       "\n",
       "    .dataframe tbody tr th {\n",
       "        vertical-align: top;\n",
       "    }\n",
       "\n",
       "    .dataframe thead th {\n",
       "        text-align: right;\n",
       "    }\n",
       "</style>\n",
       "<table border=\"1\" class=\"dataframe\">\n",
       "  <thead>\n",
       "    <tr style=\"text-align: right;\">\n",
       "      <th></th>\n",
       "      <th>Name</th>\n",
       "      <th>Description</th>\n",
       "      <th>Quantity</th>\n",
       "      <th>AdoptionSpeed</th>\n",
       "    </tr>\n",
       "  </thead>\n",
       "  <tbody>\n",
       "    <tr>\n",
       "      <th>12277</th>\n",
       "      <td>NaN</td>\n",
       "      <td>They all born in my house. Indoor cat.</td>\n",
       "      <td>15</td>\n",
       "      <td>1</td>\n",
       "    </tr>\n",
       "    <tr>\n",
       "      <th>1500</th>\n",
       "      <td>( 0 Puppies Left  )14+2 Puppies</td>\n",
       "      <td>They are 2 stray mother dogs gave birth 14 puppies at car park lot hidden place. So, I bring all puppies back to my condo temporary take care and for adopters. Please help and give them 2nd chance. Only serious adopters welcome. Someone who will give the pups a loving home. Please call , SMS or Email , if you are interested to adopt. Thank you.</td>\n",
       "      <td>16</td>\n",
       "      <td>2</td>\n",
       "    </tr>\n",
       "    <tr>\n",
       "      <th>4031</th>\n",
       "      <td>12 Puppies</td>\n",
       "      <td>I found 12 cute puppies. And putting it on adpotion. Please call or sms or whatapp me.</td>\n",
       "      <td>12</td>\n",
       "      <td>4</td>\n",
       "    </tr>\n",
       "    <tr>\n",
       "      <th>14693</th>\n",
       "      <td>20 Little Puppies</td>\n",
       "      <td>These are 20 puppies, from 2 stray mums need good homes. They are 2 weeks old. If you can give them a good home without caging or chaining, please whatsapp or msg Ms Grace Bong tel no:</td>\n",
       "      <td>20</td>\n",
       "      <td>4</td>\n",
       "    </tr>\n",
       "    <tr>\n",
       "      <th>1638</th>\n",
       "      <td>Puppies For Adoption</td>\n",
       "      <td>Many cute and beautiful puppies waiting for home. If u are interested pls contact</td>\n",
       "      <td>13</td>\n",
       "      <td>2</td>\n",
       "    </tr>\n",
       "    <tr>\n",
       "      <th>7882</th>\n",
       "      <td>Girl</td>\n",
       "      <td>She is a stray cat - came to place abt a month ago. She delivered 5 babies yesterday .12. By nature she is very gentle and loving. Never strays away always around the house. Rarely meows for anything very quite cat. I am desperately looking for a good family to adopt them. I live in an apartment where animals are not allowed. Please anyone genuinely interested, pls call me. Thank you.</td>\n",
       "      <td>15</td>\n",
       "      <td>3</td>\n",
       "    </tr>\n",
       "    <tr>\n",
       "      <th>14712</th>\n",
       "      <td>Bailey</td>\n",
       "      <td>Bailey is an obedient and loyal dog Her owner is terminaaly ill and is unable to care for her</td>\n",
       "      <td>20</td>\n",
       "      <td>4</td>\n",
       "    </tr>\n",
       "    <tr>\n",
       "      <th>9725</th>\n",
       "      <td>Twiny</td>\n",
       "      <td>Twiny is like digi, wherever you go. She follows. A little bit mischievous at times but certainly need attention.</td>\n",
       "      <td>10</td>\n",
       "      <td>4</td>\n",
       "    </tr>\n",
       "    <tr>\n",
       "      <th>6921</th>\n",
       "      <td>Please Give Us Home!</td>\n",
       "      <td>Im helping a friend. There are more than 10 kittens and cats who need home asap. They are strays and the kind lady feeds them with balance of KFC chicken that she took every night from the restaurant. Some of them need vet treatment. Some of them are too small to live outside. The kind lady didnt have fixed income to feed the kittens. They are dumped at the place by irresponsible owners and she is the one who take care and give shelter to all those kittens. kindly call me if you are interested to adopt them. they are tame and adorable. Call me to arrange visit.</td>\n",
       "      <td>10</td>\n",
       "      <td>1</td>\n",
       "    </tr>\n",
       "    <tr>\n",
       "      <th>832</th>\n",
       "      <td>NaN</td>\n",
       "      <td>I had uploaded the pups' group photos earlier. But my kind hearted friend Nancy, took 17 of them home today and took individual shots of them and labelled their sex accordingly. Aren't they adorable. We heard the sad news from the school guard this morning that the headmistress will be calling MPPJ soon to 'get rid of all of them'. The pups are now sheltering with their mummies in a school compound in Bandar Utama. Pleeeease help to adopt them SOON. Do contact Nancy at if you want to take home one or two or more.</td>\n",
       "      <td>17</td>\n",
       "      <td>2</td>\n",
       "    </tr>\n",
       "  </tbody>\n",
       "</table>\n",
       "</div>"
      ],
      "text/plain": [
       "                                  Name  \\\n",
       "12277  NaN                               \n",
       "1500   ( 0 Puppies Left  )14+2 Puppies   \n",
       "4031   12 Puppies                        \n",
       "14693  20 Little Puppies                 \n",
       "1638   Puppies For Adoption              \n",
       "7882   Girl                              \n",
       "14712  Bailey                            \n",
       "9725   Twiny                             \n",
       "6921   Please Give Us Home!              \n",
       "832    NaN                               \n",
       "\n",
       "                                                                                                                                                                                                                                                                                                                                                                                                                                                                                                                                                                                   Description  \\\n",
       "12277  They all born in my house. Indoor cat.                                                                                                                                                                                                                                                                                                                                                                                                                                                                                                                                                    \n",
       "1500   They are 2 stray mother dogs gave birth 14 puppies at car park lot hidden place. So, I bring all puppies back to my condo temporary take care and for adopters. Please help and give them 2nd chance. Only serious adopters welcome. Someone who will give the pups a loving home. Please call , SMS or Email , if you are interested to adopt. Thank you.                                                                                                                                                                                                                                \n",
       "4031   I found 12 cute puppies. And putting it on adpotion. Please call or sms or whatapp me.                                                                                                                                                                                                                                                                                                                                                                                                                                                                                                    \n",
       "14693  These are 20 puppies, from 2 stray mums need good homes. They are 2 weeks old. If you can give them a good home without caging or chaining, please whatsapp or msg Ms Grace Bong tel no:                                                                                                                                                                                                                                                                                                                                                                                                  \n",
       "1638   Many cute and beautiful puppies waiting for home. If u are interested pls contact                                                                                                                                                                                                                                                                                                                                                                                                                                                                                                         \n",
       "7882   She is a stray cat - came to place abt a month ago. She delivered 5 babies yesterday .12. By nature she is very gentle and loving. Never strays away always around the house. Rarely meows for anything very quite cat. I am desperately looking for a good family to adopt them. I live in an apartment where animals are not allowed. Please anyone genuinely interested, pls call me. Thank you.                                                                                                                                                                                       \n",
       "14712  Bailey is an obedient and loyal dog Her owner is terminaaly ill and is unable to care for her                                                                                                                                                                                                                                                                                                                                                                                                                                                                                             \n",
       "9725   Twiny is like digi, wherever you go. She follows. A little bit mischievous at times but certainly need attention.                                                                                                                                                                                                                                                                                                                                                                                                                                                                         \n",
       "6921   Im helping a friend. There are more than 10 kittens and cats who need home asap. They are strays and the kind lady feeds them with balance of KFC chicken that she took every night from the restaurant. Some of them need vet treatment. Some of them are too small to live outside. The kind lady didnt have fixed income to feed the kittens. They are dumped at the place by irresponsible owners and she is the one who take care and give shelter to all those kittens. kindly call me if you are interested to adopt them. they are tame and adorable. Call me to arrange visit.   \n",
       "832    I had uploaded the pups' group photos earlier. But my kind hearted friend Nancy, took 17 of them home today and took individual shots of them and labelled their sex accordingly. Aren't they adorable. We heard the sad news from the school guard this morning that the headmistress will be calling MPPJ soon to 'get rid of all of them'. The pups are now sheltering with their mummies in a school compound in Bandar Utama. Pleeeease help to adopt them SOON. Do contact Nancy at if you want to take home one or two or more.                                                    \n",
       "\n",
       "       Quantity  AdoptionSpeed  \n",
       "12277  15        1              \n",
       "1500   16        2              \n",
       "4031   12        4              \n",
       "14693  20        4              \n",
       "1638   13        2              \n",
       "7882   15        3              \n",
       "14712  20        4              \n",
       "9725   10        4              \n",
       "6921   10        1              \n",
       "832    17        2              "
      ]
     },
     "execution_count": 37,
     "metadata": {},
     "output_type": "execute_result"
    }
   ],
   "source": [
    "big_q_sample = train.loc[train.Quantity >= 10].sample(10)[['Name', 'Description', 'Quantity', 'AdoptionSpeed']]\n",
    "big_q_sample"
   ]
  },
  {
   "cell_type": "code",
   "execution_count": 38,
   "metadata": {},
   "outputs": [
    {
     "data": {
      "text/plain": [
       "Text(0.5, 1.0, 'Tiempo de adopción para anuncios con 10 o más mascotas')"
      ]
     },
     "execution_count": 38,
     "metadata": {},
     "output_type": "execute_result"
    },
    {
     "data": {
      "image/png": "[encoded data removed]",
      "text/plain": [
       "<Figure size 432x288 with 1 Axes>"
      ]
     },
     "metadata": {},
     "output_type": "display_data"
    }
   ],
   "source": [
    "ax = train.loc[train.Quantity >= 10].AdoptionSpeed\\\n",
    "            .value_counts().sort_index()\\\n",
    "            .plot.pie()\n",
    "ax.set_title('Tiempo de adopción para anuncios con 10 o más mascotas')"
   ]
  },
  {
   "cell_type": "markdown",
   "metadata": {},
   "source": [
    "Existen casos en que se ofrecen demasiadas mascotas. Además se observa que a veces las cantidades\n",
    "<br>en la descripción no encajan con las de la columna Quantity:"
   ]
  },
  {
   "cell_type": "code",
   "execution_count": 41,
   "metadata": {},
   "outputs": [
    {
     "data": {
      "text/html": [
       "<div>\n",
       "<style scoped>\n",
       "    .dataframe tbody tr th:only-of-type {\n",
       "        vertical-align: middle;\n",
       "    }\n",
       "\n",
       "    .dataframe tbody tr th {\n",
       "        vertical-align: top;\n",
       "    }\n",
       "\n",
       "    .dataframe thead th {\n",
       "        text-align: right;\n",
       "    }\n",
       "</style>\n",
       "<table border=\"1\" class=\"dataframe\">\n",
       "  <thead>\n",
       "    <tr style=\"text-align: right;\">\n",
       "      <th></th>\n",
       "      <th>Name</th>\n",
       "      <th>Description</th>\n",
       "      <th>Quantity</th>\n",
       "      <th>AdoptionSpeed</th>\n",
       "    </tr>\n",
       "  </thead>\n",
       "  <tbody>\n",
       "    <tr>\n",
       "      <th>989</th>\n",
       "      <td>Cats From TTDI Now In Omiey's Home</td>\n",
       "      <td>Hi feline lovers, There are 40 cats desperately seeking new homes before they are taken away from DBKL! This video link shows the lady who has been keeping these cats: Her neighbors seem to dislike cats, so they complained to DBKL. DBKL came to her house and told her to get rid of those cats. They'll be coming back to her house this Monday (6th February ) and she can only have 1 cat. DBKL will take the other cats and put them to sleep. She's looking for people who wants to adopt her cats and be their new owner. If you are interested, please contact Nicole at. Thank you.</td>\n",
       "      <td>20</td>\n",
       "      <td>2</td>\n",
       "    </tr>\n",
       "    <tr>\n",
       "      <th>11673</th>\n",
       "      <td>Snowy</td>\n",
       "      <td>Snowy is quiet and adorable. Likes to keep to herself most of the time because she is shy. She could be playful when she is in the mood to play with you.</td>\n",
       "      <td>10</td>\n",
       "      <td>4</td>\n",
       "    </tr>\n",
       "  </tbody>\n",
       "</table>\n",
       "</div>"
      ],
      "text/plain": [
       "                                     Name  \\\n",
       "989    Cats From TTDI Now In Omiey's Home   \n",
       "11673  Snowy                                \n",
       "\n",
       "                                                                                                                                                                                                                                                                                                                                                                                                                                                                                                                                                                                            Description  \\\n",
       "989    Hi feline lovers, There are 40 cats desperately seeking new homes before they are taken away from DBKL! This video link shows the lady who has been keeping these cats: Her neighbors seem to dislike cats, so they complained to DBKL. DBKL came to her house and told her to get rid of those cats. They'll be coming back to her house this Monday (6th February ) and she can only have 1 cat. DBKL will take the other cats and put them to sleep. She's looking for people who wants to adopt her cats and be their new owner. If you are interested, please contact Nicole at. Thank you.   \n",
       "11673  Snowy is quiet and adorable. Likes to keep to herself most of the time because she is shy. She could be playful when she is in the mood to play with you.                                                                                                                                                                                                                                                                                                                                                                                                                                          \n",
       "\n",
       "       Quantity  AdoptionSpeed  \n",
       "989    20        2              \n",
       "11673  10        4              "
      ]
     },
     "execution_count": 41,
     "metadata": {},
     "output_type": "execute_result"
    }
   ],
   "source": [
    "train.loc[[989,11673]][['Name', 'Description', 'Quantity', 'AdoptionSpeed']]"
   ]
  },
  {
   "cell_type": "markdown",
   "metadata": {},
   "source": [
    "En el primer caso, se ofrecen 40 gatos en la descripción, pero en la columna de cantidad figura la cantidad de 20.\n",
    "<br>En el otro, se ofrece solo 1 en el texto, pero en la columna Quantity se indica 10."
   ]
  },
  {
   "cell_type": "markdown",
   "metadata": {},
   "source": [
    "Un punto importante es el hecho de que existe una cantidad importante de casos en<br>\n",
    "que las mascotas logran ser adoptadas"
   ]
  },
  {
   "cell_type": "code",
   "execution_count": 42,
   "metadata": {},
   "outputs": [
    {
     "data": {
      "text/html": [
       "<div>\n",
       "<style scoped>\n",
       "    .dataframe tbody tr th:only-of-type {\n",
       "        vertical-align: middle;\n",
       "    }\n",
       "\n",
       "    .dataframe tbody tr th {\n",
       "        vertical-align: top;\n",
       "    }\n",
       "\n",
       "    .dataframe thead th {\n",
       "        text-align: right;\n",
       "    }\n",
       "</style>\n",
       "<table border=\"1\" class=\"dataframe\">\n",
       "  <thead>\n",
       "    <tr style=\"text-align: right;\">\n",
       "      <th>AdoptionSpeed</th>\n",
       "      <th>0</th>\n",
       "      <th>1</th>\n",
       "      <th>2</th>\n",
       "      <th>3</th>\n",
       "      <th>4</th>\n",
       "    </tr>\n",
       "    <tr>\n",
       "      <th>QuantityGroup</th>\n",
       "      <th></th>\n",
       "      <th></th>\n",
       "      <th></th>\n",
       "      <th></th>\n",
       "      <th></th>\n",
       "    </tr>\n",
       "  </thead>\n",
       "  <tbody>\n",
       "    <tr>\n",
       "      <th>Single pet</th>\n",
       "      <td>331</td>\n",
       "      <td>2439</td>\n",
       "      <td>3163</td>\n",
       "      <td>2552</td>\n",
       "      <td>3080</td>\n",
       "    </tr>\n",
       "    <tr>\n",
       "      <th>Short group</th>\n",
       "      <td>35</td>\n",
       "      <td>290</td>\n",
       "      <td>362</td>\n",
       "      <td>307</td>\n",
       "      <td>428</td>\n",
       "    </tr>\n",
       "    <tr>\n",
       "      <th>Large group</th>\n",
       "      <td>44</td>\n",
       "      <td>361</td>\n",
       "      <td>512</td>\n",
       "      <td>400</td>\n",
       "      <td>689</td>\n",
       "    </tr>\n",
       "  </tbody>\n",
       "</table>\n",
       "</div>"
      ],
      "text/plain": [
       "AdoptionSpeed    0     1     2     3     4\n",
       "QuantityGroup                             \n",
       "Single pet     331  2439  3163  2552  3080\n",
       "Short group    35   290   362   307   428 \n",
       "Large group    44   361   512   400   689 "
      ]
     },
     "execution_count": 42,
     "metadata": {},
     "output_type": "execute_result"
    }
   ],
   "source": [
    "qgruops = train[['QuantityGroup','AdoptionSpeed', 'PetID']].groupby(['QuantityGroup','AdoptionSpeed']).count() \n",
    "qgruops = qgruops.reset_index()#.set_index(['QuantityGroup', 'AdoptionSpeed'])#.first()\n",
    "qgruops = qgruops.pivot_table(index= 'QuantityGroup',columns='AdoptionSpeed',values='PetID')\n",
    "qgruops.sort_index(ascending=False, inplace=True)\n",
    "qgruops"
   ]
  },
  {
   "cell_type": "code",
   "execution_count": 43,
   "metadata": {},
   "outputs": [
    {
     "data": {
      "text/html": [
       "<div>\n",
       "<style scoped>\n",
       "    .dataframe tbody tr th:only-of-type {\n",
       "        vertical-align: middle;\n",
       "    }\n",
       "\n",
       "    .dataframe tbody tr th {\n",
       "        vertical-align: top;\n",
       "    }\n",
       "\n",
       "    .dataframe thead th {\n",
       "        text-align: right;\n",
       "    }\n",
       "</style>\n",
       "<table border=\"1\" class=\"dataframe\">\n",
       "  <thead>\n",
       "    <tr style=\"text-align: right;\">\n",
       "      <th>AdoptionSpeed</th>\n",
       "      <th>0</th>\n",
       "      <th>1</th>\n",
       "      <th>2</th>\n",
       "      <th>3</th>\n",
       "      <th>4</th>\n",
       "    </tr>\n",
       "    <tr>\n",
       "      <th>QuantityGroup</th>\n",
       "      <th></th>\n",
       "      <th></th>\n",
       "      <th></th>\n",
       "      <th></th>\n",
       "      <th></th>\n",
       "    </tr>\n",
       "  </thead>\n",
       "  <tbody>\n",
       "    <tr>\n",
       "      <th>Single pet</th>\n",
       "      <td>0.028621</td>\n",
       "      <td>0.210895</td>\n",
       "      <td>0.273498</td>\n",
       "      <td>0.220666</td>\n",
       "      <td>0.266321</td>\n",
       "    </tr>\n",
       "    <tr>\n",
       "      <th>Short group</th>\n",
       "      <td>0.024613</td>\n",
       "      <td>0.203938</td>\n",
       "      <td>0.254571</td>\n",
       "      <td>0.215893</td>\n",
       "      <td>0.300985</td>\n",
       "    </tr>\n",
       "    <tr>\n",
       "      <th>Large group</th>\n",
       "      <td>0.021934</td>\n",
       "      <td>0.179960</td>\n",
       "      <td>0.255234</td>\n",
       "      <td>0.199402</td>\n",
       "      <td>0.343470</td>\n",
       "    </tr>\n",
       "  </tbody>\n",
       "</table>\n",
       "</div>"
      ],
      "text/plain": [
       "AdoptionSpeed         0         1         2         3         4\n",
       "QuantityGroup                                                  \n",
       "Single pet     0.028621  0.210895  0.273498  0.220666  0.266321\n",
       "Short group    0.024613  0.203938  0.254571  0.215893  0.300985\n",
       "Large group    0.021934  0.179960  0.255234  0.199402  0.343470"
      ]
     },
     "execution_count": 43,
     "metadata": {},
     "output_type": "execute_result"
    }
   ],
   "source": [
    "q_percentages = (qgruops.T/qgruops.sum(axis=1)).T \n",
    "q_percentages"
   ]
  },
  {
   "cell_type": "code",
   "execution_count": 44,
   "metadata": {},
   "outputs": [
    {
     "name": "stdout",
     "output_type": "stream",
     "text": [
      "\n",
      "0.028620838737570254 0.21089494163424125 0.27349762213575446 0.22066580198875918 0.2663207955036749 \n",
      "0.02461322081575246 0.2039381153305204 0.2545710267229255 0.2158931082981716 0.3009845288326301 \n",
      "0.02193419740777667 0.17996011964107678 0.25523429710867396 0.19940179461615154 0.34346959122632104 "
     ]
    }
   ],
   "source": [
    "for i in range(15):\n",
    "    if i % 5 == 0:\n",
    "        print()\n",
    "    print(q_percentages.values.flat[i], end=' ')\n",
    "    "
   ]
  },
  {
   "cell_type": "code",
   "execution_count": 51,
   "metadata": {},
   "outputs": [
    {
     "data": {
      "image/png": "[encoded data removed]",
      "text/plain": [
       "<Figure size 720x432 with 1 Axes>"
      ]
     },
     "metadata": {
      "needs_background": "light"
     },
     "output_type": "display_data"
    }
   ],
   "source": [
    "ax = qgruops.plot(kind='bar', figsize=(10,6))\n",
    "ax.set_title(\"Distribución de la velocidad de adopción por tamaño de grupo de mascota\")\n",
    "for ix, (_,p) in enumerate(sorted([(p.get_xy(), p) for p in ax.patches])):\n",
    "    width, height = p.get_width(), p.get_height()\n",
    "    x, y = p.get_xy() \n",
    "    ax.annotate('{:.0%}'.format(q_percentages.values.flat[ix]), (x, y + height + 10))"
   ]
  },
  {
   "cell_type": "markdown",
   "metadata": {},
   "source": [
    "Al parecer, el comportamiento de la velocidad de adopción se mantiene incluso para los anuncios\n",
    "<br>más de una mascota. Esto significa que la velocidad de adopción es independiente del numero de mascotas.\n"
   ]
  },
  {
   "cell_type": "markdown",
   "metadata": {},
   "source": [
    "### Fee"
   ]
  },
  {
   "cell_type": "code",
   "execution_count": 103,
   "metadata": {},
   "outputs": [
    {
     "data": {
      "text/plain": [
       "(0, 3000)"
      ]
     },
     "execution_count": 103,
     "metadata": {},
     "output_type": "execute_result"
    }
   ],
   "source": [
    "train.Fee.min(), train.Fee.max()"
   ]
  },
  {
   "cell_type": "code",
   "execution_count": 107,
   "metadata": {},
   "outputs": [
    {
     "data": {
      "text/html": [
       "<div>\n",
       "<style scoped>\n",
       "    .dataframe tbody tr th:only-of-type {\n",
       "        vertical-align: middle;\n",
       "    }\n",
       "\n",
       "    .dataframe tbody tr th {\n",
       "        vertical-align: top;\n",
       "    }\n",
       "\n",
       "    .dataframe thead th {\n",
       "        text-align: right;\n",
       "    }\n",
       "</style>\n",
       "<table border=\"1\" class=\"dataframe\">\n",
       "  <thead>\n",
       "    <tr style=\"text-align: right;\">\n",
       "      <th></th>\n",
       "      <th>Fee</th>\n",
       "      <th>AdoptionSpeed</th>\n",
       "      <th>PetID</th>\n",
       "    </tr>\n",
       "  </thead>\n",
       "  <tbody>\n",
       "    <tr>\n",
       "      <th>686</th>\n",
       "      <td>0</td>\n",
       "      <td>3</td>\n",
       "      <td>bd37ccdd5</td>\n",
       "    </tr>\n",
       "    <tr>\n",
       "      <th>7460</th>\n",
       "      <td>0</td>\n",
       "      <td>2</td>\n",
       "      <td>5208915a3</td>\n",
       "    </tr>\n",
       "    <tr>\n",
       "      <th>6442</th>\n",
       "      <td>0</td>\n",
       "      <td>2</td>\n",
       "      <td>1314e3f92</td>\n",
       "    </tr>\n",
       "    <tr>\n",
       "      <th>14635</th>\n",
       "      <td>0</td>\n",
       "      <td>3</td>\n",
       "      <td>134e12e92</td>\n",
       "    </tr>\n",
       "    <tr>\n",
       "      <th>11591</th>\n",
       "      <td>0</td>\n",
       "      <td>4</td>\n",
       "      <td>3ea49aa4f</td>\n",
       "    </tr>\n",
       "    <tr>\n",
       "      <th>11516</th>\n",
       "      <td>0</td>\n",
       "      <td>3</td>\n",
       "      <td>9b3e95995</td>\n",
       "    </tr>\n",
       "    <tr>\n",
       "      <th>11059</th>\n",
       "      <td>0</td>\n",
       "      <td>4</td>\n",
       "      <td>2cde24ccc</td>\n",
       "    </tr>\n",
       "    <tr>\n",
       "      <th>6010</th>\n",
       "      <td>0</td>\n",
       "      <td>3</td>\n",
       "      <td>e90e0ffae</td>\n",
       "    </tr>\n",
       "    <tr>\n",
       "      <th>5077</th>\n",
       "      <td>0</td>\n",
       "      <td>4</td>\n",
       "      <td>a88733fd1</td>\n",
       "    </tr>\n",
       "    <tr>\n",
       "      <th>5156</th>\n",
       "      <td>0</td>\n",
       "      <td>4</td>\n",
       "      <td>6bbd4bbdc</td>\n",
       "    </tr>\n",
       "  </tbody>\n",
       "</table>\n",
       "</div>"
      ],
      "text/plain": [
       "       Fee  AdoptionSpeed      PetID\n",
       "686    0    3              bd37ccdd5\n",
       "7460   0    2              5208915a3\n",
       "6442   0    2              1314e3f92\n",
       "14635  0    3              134e12e92\n",
       "11591  0    4              3ea49aa4f\n",
       "11516  0    3              9b3e95995\n",
       "11059  0    4              2cde24ccc\n",
       "6010   0    3              e90e0ffae\n",
       "5077   0    4              a88733fd1\n",
       "5156   0    4              6bbd4bbdc"
      ]
     },
     "execution_count": 107,
     "metadata": {},
     "output_type": "execute_result"
    }
   ],
   "source": [
    "fee_data = train[['Fee', 'AdoptionSpeed', 'PetID']].copy()\n",
    "fee_data.sample(10)"
   ]
  },
  {
   "cell_type": "code",
   "execution_count": 108,
   "metadata": {},
   "outputs": [],
   "source": [
    "fee_data['Free'] = fee_data.Fee.apply(lambda f: \"Free\" if f == 0 else \"Not Free\")"
   ]
  },
  {
   "cell_type": "code",
   "execution_count": 170,
   "metadata": {},
   "outputs": [
    {
     "data": {
      "text/plain": [
       "Text(0.5, 1.0, 'Cantidad de anuncios de adopción con pago necesario')"
      ]
     },
     "execution_count": 170,
     "metadata": {},
     "output_type": "execute_result"
    },
    {
     "data": {
      "image/png": "[encoded data removed]",
      "text/plain": [
       "<Figure size 432x288 with 1 Axes>"
      ]
     },
     "metadata": {
      "needs_background": "light"
     },
     "output_type": "display_data"
    }
   ],
   "source": [
    "ax = fee_data['Free'].value_counts().plot.bar()\n",
    "ax.set_title(\"Cantidad de anuncios de adopción con pago necesario\")"
   ]
  },
  {
   "cell_type": "code",
   "execution_count": 115,
   "metadata": {},
   "outputs": [
    {
     "data": {
      "text/html": [
       "<div>\n",
       "<style scoped>\n",
       "    .dataframe tbody tr th:only-of-type {\n",
       "        vertical-align: middle;\n",
       "    }\n",
       "\n",
       "    .dataframe tbody tr th {\n",
       "        vertical-align: top;\n",
       "    }\n",
       "\n",
       "    .dataframe thead th {\n",
       "        text-align: right;\n",
       "    }\n",
       "</style>\n",
       "<table border=\"1\" class=\"dataframe\">\n",
       "  <thead>\n",
       "    <tr style=\"text-align: right;\">\n",
       "      <th>AdoptionSpeed</th>\n",
       "      <th>0</th>\n",
       "      <th>1</th>\n",
       "      <th>2</th>\n",
       "      <th>3</th>\n",
       "      <th>4</th>\n",
       "    </tr>\n",
       "    <tr>\n",
       "      <th>Free</th>\n",
       "      <th></th>\n",
       "      <th></th>\n",
       "      <th></th>\n",
       "      <th></th>\n",
       "      <th></th>\n",
       "    </tr>\n",
       "  </thead>\n",
       "  <tbody>\n",
       "    <tr>\n",
       "      <th>Free</th>\n",
       "      <td>357</td>\n",
       "      <td>2611</td>\n",
       "      <td>3430</td>\n",
       "      <td>2789</td>\n",
       "      <td>3476</td>\n",
       "    </tr>\n",
       "    <tr>\n",
       "      <th>Not Free</th>\n",
       "      <td>53</td>\n",
       "      <td>479</td>\n",
       "      <td>607</td>\n",
       "      <td>470</td>\n",
       "      <td>721</td>\n",
       "    </tr>\n",
       "  </tbody>\n",
       "</table>\n",
       "</div>"
      ],
      "text/plain": [
       "AdoptionSpeed    0     1     2     3     4\n",
       "Free                                      \n",
       "Free           357  2611  3430  2789  3476\n",
       "Not Free       53   479   607   470   721 "
      ]
     },
     "execution_count": 115,
     "metadata": {},
     "output_type": "execute_result"
    }
   ],
   "source": [
    "feegroups = fee_data[['Free','AdoptionSpeed', 'PetID']].groupby(['Free','AdoptionSpeed']).count() \n",
    "feegroups = feegroups.reset_index()#.set_index(['QuantityGroup', 'AdoptionSpeed'])#.first()\n",
    "feegroups = feegroups.pivot_table(index= 'Free',columns='AdoptionSpeed',values='PetID')\n",
    "feegroups"
   ]
  },
  {
   "cell_type": "code",
   "execution_count": 119,
   "metadata": {},
   "outputs": [
    {
     "data": {
      "text/html": [
       "<div>\n",
       "<style scoped>\n",
       "    .dataframe tbody tr th:only-of-type {\n",
       "        vertical-align: middle;\n",
       "    }\n",
       "\n",
       "    .dataframe tbody tr th {\n",
       "        vertical-align: top;\n",
       "    }\n",
       "\n",
       "    .dataframe thead th {\n",
       "        text-align: right;\n",
       "    }\n",
       "</style>\n",
       "<table border=\"1\" class=\"dataframe\">\n",
       "  <thead>\n",
       "    <tr style=\"text-align: right;\">\n",
       "      <th>AdoptionSpeed</th>\n",
       "      <th>0</th>\n",
       "      <th>1</th>\n",
       "      <th>2</th>\n",
       "      <th>3</th>\n",
       "      <th>4</th>\n",
       "    </tr>\n",
       "    <tr>\n",
       "      <th>Free</th>\n",
       "      <th></th>\n",
       "      <th></th>\n",
       "      <th></th>\n",
       "      <th></th>\n",
       "      <th></th>\n",
       "    </tr>\n",
       "  </thead>\n",
       "  <tbody>\n",
       "    <tr>\n",
       "      <th>Free</th>\n",
       "      <td>0.028192</td>\n",
       "      <td>0.206191</td>\n",
       "      <td>0.270868</td>\n",
       "      <td>0.220248</td>\n",
       "      <td>0.274501</td>\n",
       "    </tr>\n",
       "    <tr>\n",
       "      <th>Not Free</th>\n",
       "      <td>0.022747</td>\n",
       "      <td>0.205579</td>\n",
       "      <td>0.260515</td>\n",
       "      <td>0.201717</td>\n",
       "      <td>0.309442</td>\n",
       "    </tr>\n",
       "  </tbody>\n",
       "</table>\n",
       "</div>"
      ],
      "text/plain": [
       "AdoptionSpeed         0         1         2         3         4\n",
       "Free                                                           \n",
       "Free           0.028192  0.206191  0.270868  0.220248  0.274501\n",
       "Not Free       0.022747  0.205579  0.260515  0.201717  0.309442"
      ]
     },
     "execution_count": 119,
     "metadata": {},
     "output_type": "execute_result"
    }
   ],
   "source": [
    "feepercentages = (feegroups.T / feegroups.sum(axis=1)).T\n",
    "feepercentages"
   ]
  },
  {
   "cell_type": "code",
   "execution_count": 120,
   "metadata": {},
   "outputs": [
    {
     "data": {
      "image/png": "[encoded data removed]",
      "text/plain": [
       "<Figure size 720x432 with 1 Axes>"
      ]
     },
     "metadata": {
      "needs_background": "light"
     },
     "output_type": "display_data"
    }
   ],
   "source": [
    "ax = feegroups.plot(kind='bar', figsize=(10,6))\n",
    "ax.set_title(\"Distribución de la velocidad de adopción por gratuidad de adopción\")\n",
    "for ix, (_,p) in enumerate(sorted([(p.get_xy(), p) for p in ax.patches])):\n",
    "    width, height = p.get_width(), p.get_height()\n",
    "    x, y = p.get_xy() \n",
    "    ax.annotate('{:.0%}'.format(feepercentages.values.flat[ix]), (x, y + height + 10))"
   ]
  },
  {
   "cell_type": "code",
   "execution_count": null,
   "metadata": {},
   "outputs": [],
   "source": [
    "plt.figure()"
   ]
  },
  {
   "cell_type": "markdown",
   "metadata": {},
   "source": [
    "### State"
   ]
  },
  {
   "cell_type": "code",
   "execution_count": 58,
   "metadata": {},
   "outputs": [
    {
     "data": {
      "text/plain": [
       "Selangor           8714\n",
       "Kuala Lumpur       3845\n",
       "Pulau Pinang       843 \n",
       "Johor              507 \n",
       "Perak              420 \n",
       "Negeri Sembilan    253 \n",
       "Melaka             137 \n",
       "Kedah              110 \n",
       "Pahang             85  \n",
       "Terengganu         26  \n",
       "Sabah              22  \n",
       "Kelantan           15  \n",
       "Sarawak            13  \n",
       "Labuan             3   \n",
       "Name: StateName, dtype: int64"
      ]
     },
     "execution_count": 58,
     "metadata": {},
     "output_type": "execute_result"
    }
   ],
   "source": [
    "train.StateName.value_counts()"
   ]
  },
  {
   "cell_type": "code",
   "execution_count": 60,
   "metadata": {},
   "outputs": [
    {
     "data": {
      "text/plain": [
       "Index(['Selangor', 'Kuala Lumpur', 'Pulau Pinang', 'Johor', 'Perak'], dtype='object')"
      ]
     },
     "execution_count": 60,
     "metadata": {},
     "output_type": "execute_result"
    }
   ],
   "source": [
    "top5states = train.StateName.value_counts().index[:5]\n",
    "top5states"
   ]
  },
  {
   "cell_type": "code",
   "execution_count": 55,
   "metadata": {},
   "outputs": [
    {
     "data": {
      "text/plain": [
       "<matplotlib.axes._subplots.AxesSubplot at 0x5b10eb0>"
      ]
     },
     "execution_count": 55,
     "metadata": {},
     "output_type": "execute_result"
    },
    {
     "data": {
      "image/png": "[encoded data removed]",
      "text/plain": [
       "<Figure size 432x288 with 1 Axes>"
      ]
     },
     "metadata": {},
     "output_type": "display_data"
    }
   ],
   "source": [
    "train.StateName.value_counts().plot.pie()"
   ]
  },
  {
   "cell_type": "code",
   "execution_count": null,
   "metadata": {},
   "outputs": [],
   "source": [
    "#no se ve muy bonito. Los menores a Perak los catalogaremos como otros"
   ]
  },
  {
   "cell_type": "code",
   "execution_count": 85,
   "metadata": {
    "scrolled": true
   },
   "outputs": [],
   "source": [
    "state_data = train[['StateName', 'AdoptionSpeed']].copy()"
   ]
  },
  {
   "cell_type": "code",
   "execution_count": 86,
   "metadata": {},
   "outputs": [],
   "source": [
    "state_data['StateNameSimple'] = state_data['StateName'].apply(lambda state:\\\n",
    "                                                               state if state in top5states\\\n",
    "                                                                     else \"Others\")"
   ]
  },
  {
   "cell_type": "code",
   "execution_count": 87,
   "metadata": {},
   "outputs": [],
   "source": [
    "state_data['AdoptionSpeedSimple'] = state_data.AdoptionSpeed.apply(lambda speed:\\\n",
    "                                                                  \"Adopted\" if speed < 4\\\n",
    "                                                                  else \"Not Adopted\")"
   ]
  },
  {
   "cell_type": "code",
   "execution_count": 88,
   "metadata": {},
   "outputs": [
    {
     "data": {
      "text/plain": [
       "<matplotlib.axes._subplots.AxesSubplot at 0x1b95d9f0>"
      ]
     },
     "execution_count": 88,
     "metadata": {},
     "output_type": "execute_result"
    },
    {
     "data": {
      "image/png": "[encoded data removed]",
      "text/plain": [
       "<Figure size 432x288 with 1 Axes>"
      ]
     },
     "metadata": {},
     "output_type": "display_data"
    }
   ],
   "source": [
    "state_data.StateNameSimple.value_counts()\\\n",
    "                          .reindex(top5states.tolist() + ['Others']).plot.pie()"
   ]
  },
  {
   "cell_type": "code",
   "execution_count": 89,
   "metadata": {},
   "outputs": [
    {
     "data": {
      "text/plain": [
       "Index(['StateName', 'AdoptionSpeed', 'StateNameSimple', 'AdoptionSpeedSimple'], dtype='object')"
      ]
     },
     "execution_count": 89,
     "metadata": {},
     "output_type": "execute_result"
    }
   ],
   "source": [
    "state_data.columns"
   ]
  },
  {
   "cell_type": "code",
   "execution_count": 17,
   "metadata": {},
   "outputs": [
    {
     "data": {
      "text/plain": [
       "Index(['Selangor', 'Kuala Lumpur', 'Pulau Pinang'], dtype='object')"
      ]
     },
     "execution_count": 17,
     "metadata": {},
     "output_type": "execute_result"
    }
   ],
   "source": [
    "top3states = train.StateName.value_counts().index[:3]\n",
    "top3states"
   ]
  },
  {
   "cell_type": "code",
   "execution_count": 28,
   "metadata": {},
   "outputs": [
    {
     "data": {
      "text/html": [
       "<div>\n",
       "<style scoped>\n",
       "    .dataframe tbody tr th:only-of-type {\n",
       "        vertical-align: middle;\n",
       "    }\n",
       "\n",
       "    .dataframe tbody tr th {\n",
       "        vertical-align: top;\n",
       "    }\n",
       "\n",
       "    .dataframe thead th {\n",
       "        text-align: right;\n",
       "    }\n",
       "</style>\n",
       "<table border=\"1\" class=\"dataframe\">\n",
       "  <thead>\n",
       "    <tr style=\"text-align: right;\">\n",
       "      <th>AdoptionSpeed</th>\n",
       "      <th>0</th>\n",
       "      <th>1</th>\n",
       "      <th>2</th>\n",
       "      <th>3</th>\n",
       "      <th>4</th>\n",
       "    </tr>\n",
       "  </thead>\n",
       "  <tbody>\n",
       "    <tr>\n",
       "      <th>Selangor</th>\n",
       "      <td>246</td>\n",
       "      <td>1877</td>\n",
       "      <td>2435</td>\n",
       "      <td>2004</td>\n",
       "      <td>2152</td>\n",
       "    </tr>\n",
       "    <tr>\n",
       "      <th>Kuala Lumpur</th>\n",
       "      <td>112</td>\n",
       "      <td>814</td>\n",
       "      <td>996</td>\n",
       "      <td>731</td>\n",
       "      <td>1192</td>\n",
       "    </tr>\n",
       "    <tr>\n",
       "      <th>Pulau Pinang</th>\n",
       "      <td>8</td>\n",
       "      <td>122</td>\n",
       "      <td>216</td>\n",
       "      <td>197</td>\n",
       "      <td>300</td>\n",
       "    </tr>\n",
       "  </tbody>\n",
       "</table>\n",
       "</div>"
      ],
      "text/plain": [
       "AdoptionSpeed    0     1     2     3     4\n",
       "Selangor       246  1877  2435  2004  2152\n",
       "Kuala Lumpur   112   814   996   731  1192\n",
       "Pulau Pinang     8   122   216   197   300"
      ]
     },
     "execution_count": 28,
     "metadata": {},
     "output_type": "execute_result"
    }
   ],
   "source": [
    "stgroups = train.loc[train.StateName.isin(top3states)]\n",
    "stgroups = stgroups[['StateName','AdoptionSpeed', 'PetID']].groupby(['StateName','AdoptionSpeed']).count() \n",
    "stgroups = stgroups.reset_index()#.set_index(['QuantityGroup', 'AdoptionSpeed'])#.first()\n",
    "stgroups = stgroups.pivot_table(index= 'StateName',columns='AdoptionSpeed',values='PetID')\n",
    "stgroups = stgroups.reindex(top3states)\n",
    "stgroups"
   ]
  },
  {
   "cell_type": "code",
   "execution_count": 29,
   "metadata": {},
   "outputs": [
    {
     "data": {
      "text/html": [
       "<div>\n",
       "<style scoped>\n",
       "    .dataframe tbody tr th:only-of-type {\n",
       "        vertical-align: middle;\n",
       "    }\n",
       "\n",
       "    .dataframe tbody tr th {\n",
       "        vertical-align: top;\n",
       "    }\n",
       "\n",
       "    .dataframe thead th {\n",
       "        text-align: right;\n",
       "    }\n",
       "</style>\n",
       "<table border=\"1\" class=\"dataframe\">\n",
       "  <thead>\n",
       "    <tr style=\"text-align: right;\">\n",
       "      <th>AdoptionSpeed</th>\n",
       "      <th>0</th>\n",
       "      <th>1</th>\n",
       "      <th>2</th>\n",
       "      <th>3</th>\n",
       "      <th>4</th>\n",
       "    </tr>\n",
       "  </thead>\n",
       "  <tbody>\n",
       "    <tr>\n",
       "      <th>Selangor</th>\n",
       "      <td>0.028230</td>\n",
       "      <td>0.215401</td>\n",
       "      <td>0.279435</td>\n",
       "      <td>0.229975</td>\n",
       "      <td>0.246959</td>\n",
       "    </tr>\n",
       "    <tr>\n",
       "      <th>Kuala Lumpur</th>\n",
       "      <td>0.029129</td>\n",
       "      <td>0.211704</td>\n",
       "      <td>0.259038</td>\n",
       "      <td>0.190117</td>\n",
       "      <td>0.310013</td>\n",
       "    </tr>\n",
       "    <tr>\n",
       "      <th>Pulau Pinang</th>\n",
       "      <td>0.009490</td>\n",
       "      <td>0.144721</td>\n",
       "      <td>0.256228</td>\n",
       "      <td>0.233689</td>\n",
       "      <td>0.355872</td>\n",
       "    </tr>\n",
       "  </tbody>\n",
       "</table>\n",
       "</div>"
      ],
      "text/plain": [
       "AdoptionSpeed         0         1         2         3         4\n",
       "Selangor       0.028230  0.215401  0.279435  0.229975  0.246959\n",
       "Kuala Lumpur   0.029129  0.211704  0.259038  0.190117  0.310013\n",
       "Pulau Pinang   0.009490  0.144721  0.256228  0.233689  0.355872"
      ]
     },
     "execution_count": 29,
     "metadata": {},
     "output_type": "execute_result"
    }
   ],
   "source": [
    "stpercentages = (stgroups.T/stgroups.sum(axis=1)).T \n",
    "stpercentages"
   ]
  },
  {
   "cell_type": "code",
   "execution_count": 71,
   "metadata": {},
   "outputs": [
    {
     "data": {
      "image/png": "[encoded data removed]",
      "text/plain": [
       "<Figure size 720x432 with 1 Axes>"
      ]
     },
     "metadata": {
      "needs_background": "light"
     },
     "output_type": "display_data"
    }
   ],
   "source": [
    "ax = stgroups.plot(kind='bar', figsize=(10,6))\n",
    "ax.set_title(\"Distribución de la velocidad de adopción por ciudad\")\n",
    "for ix, (_,p) in enumerate(sorted([(p.get_xy(), p) for p in ax.patches])):\n",
    "    width, height = p.get_width(), p.get_height()\n",
    "    x, y = p.get_xy() \n",
    "    ax.annotate('{:.0%}'.format(stpercentages.values.flat[ix]), (x, y + height + 10))"
   ]
  },
  {
   "cell_type": "code",
   "execution_count": 90,
   "metadata": {},
   "outputs": [
    {
     "data": {
      "text/html": [
       "<div>\n",
       "<style scoped>\n",
       "    .dataframe tbody tr th:only-of-type {\n",
       "        vertical-align: middle;\n",
       "    }\n",
       "\n",
       "    .dataframe tbody tr th {\n",
       "        vertical-align: top;\n",
       "    }\n",
       "\n",
       "    .dataframe thead th {\n",
       "        text-align: right;\n",
       "    }\n",
       "</style>\n",
       "<table border=\"1\" class=\"dataframe\">\n",
       "  <thead>\n",
       "    <tr style=\"text-align: right;\">\n",
       "      <th>AdoptionSpeedSimple</th>\n",
       "      <th>Adopted</th>\n",
       "      <th>Not Adopted</th>\n",
       "    </tr>\n",
       "  </thead>\n",
       "  <tbody>\n",
       "    <tr>\n",
       "      <th>Selangor</th>\n",
       "      <td>6562</td>\n",
       "      <td>2152</td>\n",
       "    </tr>\n",
       "    <tr>\n",
       "      <th>Kuala Lumpur</th>\n",
       "      <td>2653</td>\n",
       "      <td>1192</td>\n",
       "    </tr>\n",
       "    <tr>\n",
       "      <th>Pulau Pinang</th>\n",
       "      <td>543</td>\n",
       "      <td>300</td>\n",
       "    </tr>\n",
       "  </tbody>\n",
       "</table>\n",
       "</div>"
      ],
      "text/plain": [
       "AdoptionSpeedSimple  Adopted  Not Adopted\n",
       "Selangor             6562     2152       \n",
       "Kuala Lumpur         2653     1192       \n",
       "Pulau Pinang         543      300        "
      ]
     },
     "execution_count": 90,
     "metadata": {},
     "output_type": "execute_result"
    }
   ],
   "source": [
    "stsimplegroups = state_data.loc[state_data.StateName.isin(top3states)]\n",
    "stsimplegroups = stsimplegroups[['StateName','AdoptionSpeedSimple', 'StateNameSimple']].groupby(['StateName','AdoptionSpeedSimple']).count() \n",
    "stsimplegroups = stsimplegroups.reset_index()#.set_index(['QuantityGroup', 'AdoptionSpeed'])#.first()\n",
    "stsimplegroups = stsimplegroups.pivot_table(index= 'StateName',columns='AdoptionSpeedSimple',values='StateNameSimple')\n",
    "stsimplegroups = stsimplegroups.reindex(top3states)\n",
    "stsimplegroups"
   ]
  },
  {
   "cell_type": "code",
   "execution_count": 100,
   "metadata": {},
   "outputs": [
    {
     "data": {
      "text/plain": [
       "<Figure size 432x288 with 0 Axes>"
      ]
     },
     "metadata": {},
     "output_type": "display_data"
    }
   ],
   "source": [
    "fig = plt.figure()"
   ]
  },
  {
   "cell_type": "code",
   "execution_count": 130,
   "metadata": {},
   "outputs": [
    {
     "data": {
      "text/plain": [
       "([<matplotlib.patches.Wedge at 0x1ced2d30>,\n",
       "  <matplotlib.patches.Wedge at 0x1d465170>],\n",
       " ['Adopted', 'Not Adopted'])"
      ]
     },
     "execution_count": 130,
     "metadata": {},
     "output_type": "execute_result"
    }
   ],
   "source": [
    "handles, labels = ax_selangor.get_legend_handles_labels()"
   ]
  },
  {
   "cell_type": "code",
   "execution_count": 163,
   "metadata": {},
   "outputs": [
    {
     "data": {
      "image/png": "[encoded data removed]",
      "text/plain": [
       "<Figure size 864x720 with 3 Axes>"
      ]
     },
     "metadata": {},
     "output_type": "display_data"
    }
   ],
   "source": [
    "fig = plt.figure(figsize=(12,10))\n",
    "\n",
    "plt.subplot(1,3,1)\n",
    "ax_selangor = stsimplegroups.T['Selangor'].plot.pie()\n",
    "\n",
    "handles, labels = ax_selangor.get_legend_handles_labels()\n",
    "fig.legend( handles, labels, loc = (0.89, 0.7))\n",
    "\n",
    "plt.subplot(1,3,2)\n",
    "plt.title(\"Proporción de mascotas adoptadas en los tres principales estados\", {'fontsize': 15}, pad = 30)\n",
    "ax_kuala_lumpur = stsimplegroups.T['Kuala Lumpur'].plot.pie()\n",
    "\n",
    "plt.subplot(1,3,3)\n",
    "ax_pulau = stsimplegroups.T['Pulau Pinang'].plot.pie()\n",
    "\n",
    "\n",
    "plt.tight_layout()"
   ]
  },
  {
   "cell_type": "markdown",
   "metadata": {},
   "source": [
    "En el segundo y tercer estado del ranking, se observa que la proporción de mascotas no adoptadas es mayor que en Selangor."
   ]
  },
  {
   "cell_type": "markdown",
   "metadata": {},
   "source": [
    "### Description"
   ]
  },
  {
   "cell_type": "code",
   "execution_count": null,
   "metadata": {},
   "outputs": [],
   "source": []
  }
 ],
 "metadata": {
  "kernelspec": {
   "display_name": "Python 3",
   "language": "python",
   "name": "python3"
  },
  "language_info": {
   "codemirror_mode": {
    "name": "ipython",
    "version": 3
   },
   "file_extension": ".py",
   "mimetype": "text/x-python",
   "name": "python",
   "nbconvert_exporter": "python",
   "pygments_lexer": "ipython3",
   "version": "3.7.2"
  }
 },
 "nbformat": 4,
 "nbformat_minor": 2
}
