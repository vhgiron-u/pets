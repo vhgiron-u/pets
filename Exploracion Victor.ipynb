{
 "cells": [
  {
   "cell_type": "code",
   "execution_count": 1,
   "metadata": {},
   "outputs": [],
   "source": [
    "import pandas as pd\n",
    "import seaborn as sns\n",
    "import matplotlib.pyplot as plt"
   ]
  },
  {
   "cell_type": "markdown",
   "metadata": {},
   "source": [
    "##### Cargamos los datos"
   ]
  },
  {
   "cell_type": "code",
   "execution_count": 2,
   "metadata": {},
   "outputs": [
    {
     "data": {
      "text/plain": [
       "(3972, 23)"
      ]
     },
     "execution_count": 2,
     "metadata": {},
     "output_type": "execute_result"
    }
   ],
   "source": [
    "test = pd.read_csv('data/test/test.csv')\n",
    "test.shape"
   ]
  },
  {
   "cell_type": "code",
   "execution_count": 3,
   "metadata": {},
   "outputs": [
    {
     "data": {
      "text/plain": [
       "(14993, 24)"
      ]
     },
     "execution_count": 3,
     "metadata": {},
     "output_type": "execute_result"
    }
   ],
   "source": [
    "train = pd.read_csv('data/train/train.csv')\n",
    "train.shape"
   ]
  },
  {
   "cell_type": "code",
   "execution_count": 5,
   "metadata": {},
   "outputs": [
    {
     "data": {
      "text/plain": [
       "{'AdoptionSpeed'}"
      ]
     },
     "execution_count": 5,
     "metadata": {},
     "output_type": "execute_result"
    }
   ],
   "source": [
    "set(train.columns) ^ set(test.columns) # ^ es diferencia simetrica"
   ]
  },
  {
   "cell_type": "markdown",
   "metadata": {},
   "source": [
    "##### Observamos que State es un numero, por ello cargaremos luego la tabla<br>de equivalencias para State para facilitar legibilidad\n"
   ]
  },
  {
   "cell_type": "code",
   "execution_count": 6,
   "metadata": {},
   "outputs": [
    {
     "data": {
      "text/plain": [
       "41326    1833\n",
       "41401    1072\n",
       "41327     510\n",
       "41330     147\n",
       "41336     127\n",
       "41332     101\n",
       "41324      73\n",
       "41325      63\n",
       "41335      17\n",
       "41367       7\n",
       "41345       7\n",
       "41342       5\n",
       "41415       4\n",
       "41361       3\n",
       "41380       3\n",
       "Name: State, dtype: int64"
      ]
     },
     "execution_count": 6,
     "metadata": {},
     "output_type": "execute_result"
    }
   ],
   "source": [
    "test.State.value_counts()"
   ]
  },
  {
   "cell_type": "code",
   "execution_count": 7,
   "metadata": {},
   "outputs": [
    {
     "data": {
      "text/plain": [
       "41326    8714\n",
       "41401    3845\n",
       "41327     843\n",
       "41336     507\n",
       "41330     420\n",
       "41332     253\n",
       "41324     137\n",
       "41325     110\n",
       "41335      85\n",
       "41361      26\n",
       "41345      22\n",
       "41367      15\n",
       "41342      13\n",
       "41415       3\n",
       "Name: State, dtype: int64"
      ]
     },
     "execution_count": 7,
     "metadata": {},
     "output_type": "execute_result"
    }
   ],
   "source": [
    "train.State.value_counts()"
   ]
  },
  {
   "cell_type": "markdown",
   "metadata": {},
   "source": [
    "##### Cargamos tabla de equivalencias de estados y la agregamos a train y test"
   ]
  },
  {
   "cell_type": "code",
   "execution_count": 8,
   "metadata": {},
   "outputs": [
    {
     "data": {
      "text/html": [
       "<div>\n",
       "<style scoped>\n",
       "    .dataframe tbody tr th:only-of-type {\n",
       "        vertical-align: middle;\n",
       "    }\n",
       "\n",
       "    .dataframe tbody tr th {\n",
       "        vertical-align: top;\n",
       "    }\n",
       "\n",
       "    .dataframe thead th {\n",
       "        text-align: right;\n",
       "    }\n",
       "</style>\n",
       "<table border=\"1\" class=\"dataframe\">\n",
       "  <thead>\n",
       "    <tr style=\"text-align: right;\">\n",
       "      <th></th>\n",
       "      <th>State</th>\n",
       "      <th>StateName</th>\n",
       "    </tr>\n",
       "  </thead>\n",
       "  <tbody>\n",
       "    <tr>\n",
       "      <th>0</th>\n",
       "      <td>41336</td>\n",
       "      <td>Johor</td>\n",
       "    </tr>\n",
       "    <tr>\n",
       "      <th>1</th>\n",
       "      <td>41325</td>\n",
       "      <td>Kedah</td>\n",
       "    </tr>\n",
       "    <tr>\n",
       "      <th>2</th>\n",
       "      <td>41367</td>\n",
       "      <td>Kelantan</td>\n",
       "    </tr>\n",
       "    <tr>\n",
       "      <th>3</th>\n",
       "      <td>41401</td>\n",
       "      <td>Kuala Lumpur</td>\n",
       "    </tr>\n",
       "    <tr>\n",
       "      <th>4</th>\n",
       "      <td>41415</td>\n",
       "      <td>Labuan</td>\n",
       "    </tr>\n",
       "    <tr>\n",
       "      <th>5</th>\n",
       "      <td>41324</td>\n",
       "      <td>Melaka</td>\n",
       "    </tr>\n",
       "    <tr>\n",
       "      <th>6</th>\n",
       "      <td>41332</td>\n",
       "      <td>Negeri Sembilan</td>\n",
       "    </tr>\n",
       "    <tr>\n",
       "      <th>7</th>\n",
       "      <td>41335</td>\n",
       "      <td>Pahang</td>\n",
       "    </tr>\n",
       "    <tr>\n",
       "      <th>8</th>\n",
       "      <td>41330</td>\n",
       "      <td>Perak</td>\n",
       "    </tr>\n",
       "    <tr>\n",
       "      <th>9</th>\n",
       "      <td>41380</td>\n",
       "      <td>Perlis</td>\n",
       "    </tr>\n",
       "    <tr>\n",
       "      <th>10</th>\n",
       "      <td>41327</td>\n",
       "      <td>Pulau Pinang</td>\n",
       "    </tr>\n",
       "    <tr>\n",
       "      <th>11</th>\n",
       "      <td>41345</td>\n",
       "      <td>Sabah</td>\n",
       "    </tr>\n",
       "    <tr>\n",
       "      <th>12</th>\n",
       "      <td>41342</td>\n",
       "      <td>Sarawak</td>\n",
       "    </tr>\n",
       "    <tr>\n",
       "      <th>13</th>\n",
       "      <td>41326</td>\n",
       "      <td>Selangor</td>\n",
       "    </tr>\n",
       "    <tr>\n",
       "      <th>14</th>\n",
       "      <td>41361</td>\n",
       "      <td>Terengganu</td>\n",
       "    </tr>\n",
       "  </tbody>\n",
       "</table>\n",
       "</div>"
      ],
      "text/plain": [
       "    State        StateName\n",
       "0   41336            Johor\n",
       "1   41325            Kedah\n",
       "2   41367         Kelantan\n",
       "3   41401     Kuala Lumpur\n",
       "4   41415           Labuan\n",
       "5   41324           Melaka\n",
       "6   41332  Negeri Sembilan\n",
       "7   41335           Pahang\n",
       "8   41330            Perak\n",
       "9   41380           Perlis\n",
       "10  41327     Pulau Pinang\n",
       "11  41345            Sabah\n",
       "12  41342          Sarawak\n",
       "13  41326         Selangor\n",
       "14  41361       Terengganu"
      ]
     },
     "execution_count": 8,
     "metadata": {},
     "output_type": "execute_result"
    }
   ],
   "source": [
    "df_state = pd.read_csv('data/state_labels.csv')\n",
    "df_state.rename(columns={\"StateID\":\"State\"}, inplace=True)\n",
    "df_state"
   ]
  },
  {
   "cell_type": "code",
   "execution_count": 9,
   "metadata": {},
   "outputs": [],
   "source": [
    "train = pd.merge(train, df_state)\n",
    "test = pd.merge(test, df_state)"
   ]
  },
  {
   "cell_type": "markdown",
   "metadata": {},
   "source": [
    "### Quantity\n",
    "Eventualmente nos encontramos con varias mascotas en un solo anuncio"
   ]
  },
  {
   "cell_type": "code",
   "execution_count": 50,
   "metadata": {},
   "outputs": [
    {
     "data": {
      "text/html": [
       "<div>\n",
       "<style scoped>\n",
       "    .dataframe tbody tr th:only-of-type {\n",
       "        vertical-align: middle;\n",
       "    }\n",
       "\n",
       "    .dataframe tbody tr th {\n",
       "        vertical-align: top;\n",
       "    }\n",
       "\n",
       "    .dataframe thead th {\n",
       "        text-align: right;\n",
       "    }\n",
       "</style>\n",
       "<table border=\"1\" class=\"dataframe\">\n",
       "  <thead>\n",
       "    <tr style=\"text-align: right;\">\n",
       "      <th></th>\n",
       "      <th>Freq</th>\n",
       "      <th>CumulativeFreq</th>\n",
       "      <th>RelFreq</th>\n",
       "      <th>CumulativeRelFreq</th>\n",
       "    </tr>\n",
       "  </thead>\n",
       "  <tbody>\n",
       "    <tr>\n",
       "      <th>1</th>\n",
       "      <td>11565</td>\n",
       "      <td>11565</td>\n",
       "      <td>0.771360</td>\n",
       "      <td>0.771360</td>\n",
       "    </tr>\n",
       "    <tr>\n",
       "      <th>2</th>\n",
       "      <td>1422</td>\n",
       "      <td>12987</td>\n",
       "      <td>0.094844</td>\n",
       "      <td>0.866204</td>\n",
       "    </tr>\n",
       "    <tr>\n",
       "      <th>3</th>\n",
       "      <td>726</td>\n",
       "      <td>13713</td>\n",
       "      <td>0.048423</td>\n",
       "      <td>0.914627</td>\n",
       "    </tr>\n",
       "    <tr>\n",
       "      <th>4</th>\n",
       "      <td>531</td>\n",
       "      <td>14244</td>\n",
       "      <td>0.035417</td>\n",
       "      <td>0.950043</td>\n",
       "    </tr>\n",
       "    <tr>\n",
       "      <th>5</th>\n",
       "      <td>333</td>\n",
       "      <td>14577</td>\n",
       "      <td>0.022210</td>\n",
       "      <td>0.972254</td>\n",
       "    </tr>\n",
       "    <tr>\n",
       "      <th>6</th>\n",
       "      <td>185</td>\n",
       "      <td>14762</td>\n",
       "      <td>0.012339</td>\n",
       "      <td>0.984593</td>\n",
       "    </tr>\n",
       "    <tr>\n",
       "      <th>7</th>\n",
       "      <td>84</td>\n",
       "      <td>14846</td>\n",
       "      <td>0.005603</td>\n",
       "      <td>0.990195</td>\n",
       "    </tr>\n",
       "    <tr>\n",
       "      <th>8</th>\n",
       "      <td>52</td>\n",
       "      <td>14898</td>\n",
       "      <td>0.003468</td>\n",
       "      <td>0.993664</td>\n",
       "    </tr>\n",
       "    <tr>\n",
       "      <th>9</th>\n",
       "      <td>33</td>\n",
       "      <td>14931</td>\n",
       "      <td>0.002201</td>\n",
       "      <td>0.995865</td>\n",
       "    </tr>\n",
       "    <tr>\n",
       "      <th>10</th>\n",
       "      <td>19</td>\n",
       "      <td>14950</td>\n",
       "      <td>0.001267</td>\n",
       "      <td>0.997132</td>\n",
       "    </tr>\n",
       "    <tr>\n",
       "      <th>20</th>\n",
       "      <td>12</td>\n",
       "      <td>14962</td>\n",
       "      <td>0.000800</td>\n",
       "      <td>0.997932</td>\n",
       "    </tr>\n",
       "    <tr>\n",
       "      <th>11</th>\n",
       "      <td>10</td>\n",
       "      <td>14972</td>\n",
       "      <td>0.000667</td>\n",
       "      <td>0.998599</td>\n",
       "    </tr>\n",
       "    <tr>\n",
       "      <th>12</th>\n",
       "      <td>6</td>\n",
       "      <td>14978</td>\n",
       "      <td>0.000400</td>\n",
       "      <td>0.999000</td>\n",
       "    </tr>\n",
       "    <tr>\n",
       "      <th>15</th>\n",
       "      <td>4</td>\n",
       "      <td>14982</td>\n",
       "      <td>0.000267</td>\n",
       "      <td>0.999266</td>\n",
       "    </tr>\n",
       "    <tr>\n",
       "      <th>17</th>\n",
       "      <td>3</td>\n",
       "      <td>14985</td>\n",
       "      <td>0.000200</td>\n",
       "      <td>0.999466</td>\n",
       "    </tr>\n",
       "    <tr>\n",
       "      <th>16</th>\n",
       "      <td>3</td>\n",
       "      <td>14988</td>\n",
       "      <td>0.000200</td>\n",
       "      <td>0.999667</td>\n",
       "    </tr>\n",
       "    <tr>\n",
       "      <th>13</th>\n",
       "      <td>2</td>\n",
       "      <td>14990</td>\n",
       "      <td>0.000133</td>\n",
       "      <td>0.999800</td>\n",
       "    </tr>\n",
       "    <tr>\n",
       "      <th>14</th>\n",
       "      <td>2</td>\n",
       "      <td>14992</td>\n",
       "      <td>0.000133</td>\n",
       "      <td>0.999933</td>\n",
       "    </tr>\n",
       "    <tr>\n",
       "      <th>18</th>\n",
       "      <td>1</td>\n",
       "      <td>14993</td>\n",
       "      <td>0.000067</td>\n",
       "      <td>1.000000</td>\n",
       "    </tr>\n",
       "  </tbody>\n",
       "</table>\n",
       "</div>"
      ],
      "text/plain": [
       "     Freq  CumulativeFreq   RelFreq  CumulativeRelFreq\n",
       "1   11565           11565  0.771360           0.771360\n",
       "2    1422           12987  0.094844           0.866204\n",
       "3     726           13713  0.048423           0.914627\n",
       "4     531           14244  0.035417           0.950043\n",
       "5     333           14577  0.022210           0.972254\n",
       "6     185           14762  0.012339           0.984593\n",
       "7      84           14846  0.005603           0.990195\n",
       "8      52           14898  0.003468           0.993664\n",
       "9      33           14931  0.002201           0.995865\n",
       "10     19           14950  0.001267           0.997132\n",
       "20     12           14962  0.000800           0.997932\n",
       "11     10           14972  0.000667           0.998599\n",
       "12      6           14978  0.000400           0.999000\n",
       "15      4           14982  0.000267           0.999266\n",
       "17      3           14985  0.000200           0.999466\n",
       "16      3           14988  0.000200           0.999667\n",
       "13      2           14990  0.000133           0.999800\n",
       "14      2           14992  0.000133           0.999933\n",
       "18      1           14993  0.000067           1.000000"
      ]
     },
     "execution_count": 50,
     "metadata": {},
     "output_type": "execute_result"
    }
   ],
   "source": [
    "df_quantcum = pd.DataFrame(train.Quantity.value_counts())\n",
    "df_quantcum.rename(columns={'Quantity':'Freq'}, inplace=True)\n",
    "df_quantcum['CumulativeFreq'] = df_quantcum.Freq.cumsum()\n",
    "df_quantcum['RelFreq'] = df_quantcum.Freq / df_quantcum.Freq.sum()\n",
    "df_quantcum['CumulativeRelFreq'] = df_quantcum.RelFreq.cumsum()\n",
    "df_quantcum"
   ]
  },
  {
   "cell_type": "code",
   "execution_count": 55,
   "metadata": {},
   "outputs": [
    {
     "data": {
      "text/plain": [
       "0.004135"
      ]
     },
     "execution_count": 55,
     "metadata": {},
     "output_type": "execute_result"
    }
   ],
   "source": [
    "1 - 0.995865 #anuncios con 10 mascotas o mas"
   ]
  },
  {
   "cell_type": "code",
   "execution_count": 99,
   "metadata": {
    "scrolled": true
   },
   "outputs": [
    {
     "data": {
      "text/plain": [
       "Text(0.5, 1.0, 'Presencia de anuncios por cantidad de mascotas ofrecidas')"
      ]
     },
     "execution_count": 99,
     "metadata": {},
     "output_type": "execute_result"
    },
    {
     "data": {
      "image/png": "[encoded data removed]",
      "text/plain": [
       "<Figure size 432x288 with 1 Axes>"
      ]
     },
     "metadata": {},
     "output_type": "display_data"
    }
   ],
   "source": [
    "#ax = df_quantcum[df_quantcum.Freq > 100]['Freq'].plot.pie()\n",
    "ax = df_quantcum['Freq'].plot.pie()\n",
    "ax.set_title(\"Presencia de anuncios por cantidad de mascotas ofrecidas\")"
   ]
  },
  {
   "cell_type": "code",
   "execution_count": 100,
   "metadata": {},
   "outputs": [],
   "source": [
    "#se observa que el grupo mayoritario es el de anuncios con 1 mascota\n",
    "#luego separaremos en dos grupos menores: anuncios con 2 o 3 mascotas y\n",
    "#                                         anuncios con 4 o mas mascotas"
   ]
  },
  {
   "cell_type": "code",
   "execution_count": 104,
   "metadata": {},
   "outputs": [],
   "source": [
    "def assign_group_quantity(original_quantity):\n",
    "    if original_quantity <= 0:\n",
    "        raise ValueError(\"Expected quantity > 0\")\n",
    "    if original_quantity == 1:\n",
    "        return \"Single pet\"\n",
    "    elif original_quantity < 3:\n",
    "        return \"Short group\"\n",
    "    else:\n",
    "        return \"Large group\""
   ]
  },
  {
   "cell_type": "code",
   "execution_count": 105,
   "metadata": {},
   "outputs": [],
   "source": [
    "train['QuantityGroup'] = train.Quantity.apply(assign_group_quantity)\n",
    "test['QuantityGroup']  = test.Quantity.apply(assign_group_quantity)"
   ]
  },
  {
   "cell_type": "markdown",
   "metadata": {},
   "source": [
    "Observamos que los anuncios de mascotas solas ocupan más del 77% del total. <br>Asimismo, notamos que los anuncios con 10 mascotas o más representan menos del 0.5% del total, podríamos darle una revisión rápida"
   ]
  },
  {
   "cell_type": "code",
   "execution_count": 72,
   "metadata": {},
   "outputs": [],
   "source": [
    "#pd.set_option('display.max_info_rows',-1)\n",
    "pd.set_option('display.max_colwidth',-1)\n"
   ]
  },
  {
   "cell_type": "code",
   "execution_count": 74,
   "metadata": {
    "scrolled": false
   },
   "outputs": [
    {
     "data": {
      "text/html": [
       "<div>\n",
       "<style scoped>\n",
       "    .dataframe tbody tr th:only-of-type {\n",
       "        vertical-align: middle;\n",
       "    }\n",
       "\n",
       "    .dataframe tbody tr th {\n",
       "        vertical-align: top;\n",
       "    }\n",
       "\n",
       "    .dataframe thead th {\n",
       "        text-align: right;\n",
       "    }\n",
       "</style>\n",
       "<table border=\"1\" class=\"dataframe\">\n",
       "  <thead>\n",
       "    <tr style=\"text-align: right;\">\n",
       "      <th></th>\n",
       "      <th>Name</th>\n",
       "      <th>Description</th>\n",
       "      <th>Quantity</th>\n",
       "      <th>AdoptionSpeed</th>\n",
       "    </tr>\n",
       "  </thead>\n",
       "  <tbody>\n",
       "    <tr>\n",
       "      <th>13513</th>\n",
       "      <td>NaN</td>\n",
       "      <td>All these kittens were found abandoned at different places and times. Some were found in the temple grounds, some in wifes school. All brought up by my wife and maid. They are all healthy and we are looking for good homes for them as we have our own cats and dogs. They are playful and loving.</td>\n",
       "      <td>10</td>\n",
       "      <td>4</td>\n",
       "    </tr>\n",
       "    <tr>\n",
       "      <th>11940</th>\n",
       "      <td>NaN</td>\n",
       "      <td>1 1/2 month old. tel</td>\n",
       "      <td>10</td>\n",
       "      <td>4</td>\n",
       "    </tr>\n",
       "    <tr>\n",
       "      <th>8811</th>\n",
       "      <td>OMIEY'S HOME</td>\n",
       "      <td>Hi, kepada sesiapa yang berminat untuk adopt kucing-kucing sila hubungi saya . Di sini ada berbagai jenis kucing, dari short hair - long hair.</td>\n",
       "      <td>20</td>\n",
       "      <td>4</td>\n",
       "    </tr>\n",
       "    <tr>\n",
       "      <th>989</th>\n",
       "      <td>Cats From TTDI Now In Omiey's Home</td>\n",
       "      <td>Hi feline lovers, There are 40 cats desperately seeking new homes before they are taken away from DBKL! This video link shows the lady who has been keeping these cats: Her neighbors seem to dislike cats, so they complained to DBKL. DBKL came to her house and told her to get rid of those cats. They'll be coming back to her house this Monday (6th February ) and she can only have 1 cat. DBKL will take the other cats and put them to sleep. She's looking for people who wants to adopt her cats and be their new owner. If you are interested, please contact Nicole at. Thank you.</td>\n",
       "      <td>20</td>\n",
       "      <td>2</td>\n",
       "    </tr>\n",
       "    <tr>\n",
       "      <th>14294</th>\n",
       "      <td>NaN</td>\n",
       "      <td>Help to adopt this dogs. They are by road side</td>\n",
       "      <td>11</td>\n",
       "      <td>2</td>\n",
       "    </tr>\n",
       "    <tr>\n",
       "      <th>9036</th>\n",
       "      <td>NaN</td>\n",
       "      <td>Sebare Bengal is a specialist catery breeding quality bengal cats. View our web Due to our passion with cats, we have rescued and feed the stray cats until its become healty and ready to go to a new family. Currently, we have 14 DSH ready for adoption from age 3 months to year. 3 male and 11 female. Adoption fee is free but if you kind enough, we will be appreciate if you can donate IAMS Chicken foods for us to feed the cats.</td>\n",
       "      <td>14</td>\n",
       "      <td>4</td>\n",
       "    </tr>\n",
       "    <tr>\n",
       "      <th>1775</th>\n",
       "      <td>NaN</td>\n",
       "      <td>10 Kittens for Adoption 1 Month old Came from 2 mothers Letting go as owner are often not at home Contact Nik :</td>\n",
       "      <td>10</td>\n",
       "      <td>2</td>\n",
       "    </tr>\n",
       "    <tr>\n",
       "      <th>11673</th>\n",
       "      <td>Snowy</td>\n",
       "      <td>Snowy is quiet and adorable. Likes to keep to herself most of the time because she is shy. She could be playful when she is in the mood to play with you.</td>\n",
       "      <td>10</td>\n",
       "      <td>4</td>\n",
       "    </tr>\n",
       "    <tr>\n",
       "      <th>642</th>\n",
       "      <td>Puppy Super Mix</td>\n",
       "      <td>A female mix breed appear around my home few month ago and one of her leg I think is dislocated or broken (left side back leg) . Well this Monday I saw Her came out from a car park near my house (is a neighbor own car park) with 11 puppy I have been feeding her so she can still give milk to the puppy. Now the puppy have been train to pee and puu at grass only</td>\n",
       "      <td>11</td>\n",
       "      <td>2</td>\n",
       "    </tr>\n",
       "    <tr>\n",
       "      <th>5699</th>\n",
       "      <td>11 Kittens</td>\n",
       "      <td>These r kittens from 2 different mother that I have rescued. They are all very health n playful. The RM 50 is just a volunteer fee for the other cat med expenses as well as to neuter the mother. Plss call me if u r interested to adopt these kittens. Thank you</td>\n",
       "      <td>10</td>\n",
       "      <td>4</td>\n",
       "    </tr>\n",
       "  </tbody>\n",
       "</table>\n",
       "</div>"
      ],
      "text/plain": [
       "                                     Name  \\\n",
       "13513  NaN                                  \n",
       "11940  NaN                                  \n",
       "8811   OMIEY'S HOME                         \n",
       "989    Cats From TTDI Now In Omiey's Home   \n",
       "14294  NaN                                  \n",
       "9036   NaN                                  \n",
       "1775   NaN                                  \n",
       "11673  Snowy                                \n",
       "642    Puppy Super Mix                      \n",
       "5699   11 Kittens                           \n",
       "\n",
       "                                                                                                                                                                                                                                                                                                                                                                                                                                                                                                                                                                                            Description  \\\n",
       "13513  All these kittens were found abandoned at different places and times. Some were found in the temple grounds, some in wifes school. All brought up by my wife and maid. They are all healthy and we are looking for good homes for them as we have our own cats and dogs. They are playful and loving.                                                                                                                                                                                                                                                                                              \n",
       "11940  1 1/2 month old. tel                                                                                                                                                                                                                                                                                                                                                                                                                                                                                                                                                                               \n",
       "8811   Hi, kepada sesiapa yang berminat untuk adopt kucing-kucing sila hubungi saya . Di sini ada berbagai jenis kucing, dari short hair - long hair.                                                                                                                                                                                                                                                                                                                                                                                                                                                     \n",
       "989    Hi feline lovers, There are 40 cats desperately seeking new homes before they are taken away from DBKL! This video link shows the lady who has been keeping these cats: Her neighbors seem to dislike cats, so they complained to DBKL. DBKL came to her house and told her to get rid of those cats. They'll be coming back to her house this Monday (6th February ) and she can only have 1 cat. DBKL will take the other cats and put them to sleep. She's looking for people who wants to adopt her cats and be their new owner. If you are interested, please contact Nicole at. Thank you.   \n",
       "14294  Help to adopt this dogs. They are by road side                                                                                                                                                                                                                                                                                                                                                                                                                                                                                                                                                     \n",
       "9036   Sebare Bengal is a specialist catery breeding quality bengal cats. View our web Due to our passion with cats, we have rescued and feed the stray cats until its become healty and ready to go to a new family. Currently, we have 14 DSH ready for adoption from age 3 months to year. 3 male and 11 female. Adoption fee is free but if you kind enough, we will be appreciate if you can donate IAMS Chicken foods for us to feed the cats.                                                                                                                                                      \n",
       "1775   10 Kittens for Adoption 1 Month old Came from 2 mothers Letting go as owner are often not at home Contact Nik :                                                                                                                                                                                                                                                                                                                                                                                                                                                                                    \n",
       "11673  Snowy is quiet and adorable. Likes to keep to herself most of the time because she is shy. She could be playful when she is in the mood to play with you.                                                                                                                                                                                                                                                                                                                                                                                                                                          \n",
       "642    A female mix breed appear around my home few month ago and one of her leg I think is dislocated or broken (left side back leg) . Well this Monday I saw Her came out from a car park near my house (is a neighbor own car park) with 11 puppy I have been feeding her so she can still give milk to the puppy. Now the puppy have been train to pee and puu at grass only                                                                                                                                                                                                                          \n",
       "5699   These r kittens from 2 different mother that I have rescued. They are all very health n playful. The RM 50 is just a volunteer fee for the other cat med expenses as well as to neuter the mother. Plss call me if u r interested to adopt these kittens. Thank you                                                                                                                                                                                                                                                                                                                                \n",
       "\n",
       "       Quantity  AdoptionSpeed  \n",
       "13513  10        4              \n",
       "11940  10        4              \n",
       "8811   20        4              \n",
       "989    20        2              \n",
       "14294  11        2              \n",
       "9036   14        4              \n",
       "1775   10        2              \n",
       "11673  10        4              \n",
       "642    11        2              \n",
       "5699   10        4              "
      ]
     },
     "execution_count": 74,
     "metadata": {},
     "output_type": "execute_result"
    }
   ],
   "source": [
    "big_q_sample = train.loc[train.Quantity >= 10].sample(10)[['Name', 'Description', 'Quantity', 'AdoptionSpeed']]\n",
    "big_q_sample"
   ]
  },
  {
   "cell_type": "code",
   "execution_count": 92,
   "metadata": {},
   "outputs": [
    {
     "data": {
      "text/plain": [
       "Text(0.5, 1.0, 'Tiempo de adopción para anuncios con 10 o más mascotas')"
      ]
     },
     "execution_count": 92,
     "metadata": {},
     "output_type": "execute_result"
    },
    {
     "data": {
      "image/png": "[encoded data removed]",
      "text/plain": [
       "<Figure size 432x288 with 1 Axes>"
      ]
     },
     "metadata": {},
     "output_type": "display_data"
    }
   ],
   "source": [
    "ax = train.loc[train.Quantity >= 10].AdoptionSpeed\\\n",
    "            .value_counts().sort_index()\\\n",
    "            .plot.pie()\n",
    "ax.set_title('Tiempo de adopción para anuncios con 10 o más mascotas')"
   ]
  },
  {
   "cell_type": "markdown",
   "metadata": {},
   "source": [
    "Existen casos en que se ofrecen demasiadas mascotas. Además se observa que a veces las cantidades\n",
    "<br>en la descripción no encajan con las de la columna Quantity:"
   ]
  },
  {
   "cell_type": "code",
   "execution_count": 76,
   "metadata": {},
   "outputs": [
    {
     "data": {
      "text/html": [
       "<div>\n",
       "<style scoped>\n",
       "    .dataframe tbody tr th:only-of-type {\n",
       "        vertical-align: middle;\n",
       "    }\n",
       "\n",
       "    .dataframe tbody tr th {\n",
       "        vertical-align: top;\n",
       "    }\n",
       "\n",
       "    .dataframe thead th {\n",
       "        text-align: right;\n",
       "    }\n",
       "</style>\n",
       "<table border=\"1\" class=\"dataframe\">\n",
       "  <thead>\n",
       "    <tr style=\"text-align: right;\">\n",
       "      <th></th>\n",
       "      <th>Name</th>\n",
       "      <th>Description</th>\n",
       "      <th>Quantity</th>\n",
       "      <th>AdoptionSpeed</th>\n",
       "    </tr>\n",
       "  </thead>\n",
       "  <tbody>\n",
       "    <tr>\n",
       "      <th>989</th>\n",
       "      <td>Cats From TTDI Now In Omiey's Home</td>\n",
       "      <td>Hi feline lovers, There are 40 cats desperately seeking new homes before they are taken away from DBKL! This video link shows the lady who has been keeping these cats: Her neighbors seem to dislike cats, so they complained to DBKL. DBKL came to her house and told her to get rid of those cats. They'll be coming back to her house this Monday (6th February ) and she can only have 1 cat. DBKL will take the other cats and put them to sleep. She's looking for people who wants to adopt her cats and be their new owner. If you are interested, please contact Nicole at. Thank you.</td>\n",
       "      <td>20</td>\n",
       "      <td>2</td>\n",
       "    </tr>\n",
       "    <tr>\n",
       "      <th>11673</th>\n",
       "      <td>Snowy</td>\n",
       "      <td>Snowy is quiet and adorable. Likes to keep to herself most of the time because she is shy. She could be playful when she is in the mood to play with you.</td>\n",
       "      <td>10</td>\n",
       "      <td>4</td>\n",
       "    </tr>\n",
       "  </tbody>\n",
       "</table>\n",
       "</div>"
      ],
      "text/plain": [
       "                                     Name  \\\n",
       "989    Cats From TTDI Now In Omiey's Home   \n",
       "11673  Snowy                                \n",
       "\n",
       "                                                                                                                                                                                                                                                                                                                                                                                                                                                                                                                                                                                            Description  \\\n",
       "989    Hi feline lovers, There are 40 cats desperately seeking new homes before they are taken away from DBKL! This video link shows the lady who has been keeping these cats: Her neighbors seem to dislike cats, so they complained to DBKL. DBKL came to her house and told her to get rid of those cats. They'll be coming back to her house this Monday (6th February ) and she can only have 1 cat. DBKL will take the other cats and put them to sleep. She's looking for people who wants to adopt her cats and be their new owner. If you are interested, please contact Nicole at. Thank you.   \n",
       "11673  Snowy is quiet and adorable. Likes to keep to herself most of the time because she is shy. She could be playful when she is in the mood to play with you.                                                                                                                                                                                                                                                                                                                                                                                                                                          \n",
       "\n",
       "       Quantity  AdoptionSpeed  \n",
       "989    20        2              \n",
       "11673  10        4              "
      ]
     },
     "execution_count": 76,
     "metadata": {},
     "output_type": "execute_result"
    }
   ],
   "source": [
    "big_q_sample.loc[[989,11673]]"
   ]
  },
  {
   "cell_type": "markdown",
   "metadata": {},
   "source": [
    "En el primer caso, se ofrecen 40 gatos en la descripción, pero en la columna de cantidad figura la cantidad de 20.\n",
    "<br>En el otro, se ofrece solo 1 en el texto, pero en la columna Quantity se indica 10."
   ]
  },
  {
   "cell_type": "markdown",
   "metadata": {},
   "source": [
    "Un punto importante es el hecho de que existe una cantidad importante de casos en<br>\n",
    "que las mascotas logran ser adoptadas"
   ]
  },
  {
   "cell_type": "code",
   "execution_count": 150,
   "metadata": {},
   "outputs": [
    {
     "data": {
      "text/html": [
       "<div>\n",
       "<style scoped>\n",
       "    .dataframe tbody tr th:only-of-type {\n",
       "        vertical-align: middle;\n",
       "    }\n",
       "\n",
       "    .dataframe tbody tr th {\n",
       "        vertical-align: top;\n",
       "    }\n",
       "\n",
       "    .dataframe thead th {\n",
       "        text-align: right;\n",
       "    }\n",
       "</style>\n",
       "<table border=\"1\" class=\"dataframe\">\n",
       "  <thead>\n",
       "    <tr style=\"text-align: right;\">\n",
       "      <th>AdoptionSpeed</th>\n",
       "      <th>0</th>\n",
       "      <th>1</th>\n",
       "      <th>2</th>\n",
       "      <th>3</th>\n",
       "      <th>4</th>\n",
       "    </tr>\n",
       "    <tr>\n",
       "      <th>QuantityGroup</th>\n",
       "      <th></th>\n",
       "      <th></th>\n",
       "      <th></th>\n",
       "      <th></th>\n",
       "      <th></th>\n",
       "    </tr>\n",
       "  </thead>\n",
       "  <tbody>\n",
       "    <tr>\n",
       "      <th>Single pet</th>\n",
       "      <td>331</td>\n",
       "      <td>2439</td>\n",
       "      <td>3163</td>\n",
       "      <td>2552</td>\n",
       "      <td>3080</td>\n",
       "    </tr>\n",
       "    <tr>\n",
       "      <th>Short group</th>\n",
       "      <td>35</td>\n",
       "      <td>290</td>\n",
       "      <td>362</td>\n",
       "      <td>307</td>\n",
       "      <td>428</td>\n",
       "    </tr>\n",
       "    <tr>\n",
       "      <th>Large group</th>\n",
       "      <td>44</td>\n",
       "      <td>361</td>\n",
       "      <td>512</td>\n",
       "      <td>400</td>\n",
       "      <td>689</td>\n",
       "    </tr>\n",
       "  </tbody>\n",
       "</table>\n",
       "</div>"
      ],
      "text/plain": [
       "AdoptionSpeed    0     1     2     3     4\n",
       "QuantityGroup                             \n",
       "Single pet     331  2439  3163  2552  3080\n",
       "Short group    35   290   362   307   428 \n",
       "Large group    44   361   512   400   689 "
      ]
     },
     "execution_count": 150,
     "metadata": {},
     "output_type": "execute_result"
    }
   ],
   "source": [
    "qgruops = train[['QuantityGroup','AdoptionSpeed', 'PetID']].groupby(['QuantityGroup','AdoptionSpeed']).count() \n",
    "qgruops = qgruops.reset_index()#.set_index(['QuantityGroup', 'AdoptionSpeed'])#.first()\n",
    "qgruops = qgruops.pivot_table(index= 'QuantityGroup',columns='AdoptionSpeed',values='PetID')\n",
    "qgruops.sort_index(ascending=False, inplace=True)\n",
    "qgruops"
   ]
  },
  {
   "cell_type": "code",
   "execution_count": 194,
   "metadata": {},
   "outputs": [
    {
     "data": {
      "text/html": [
       "<div>\n",
       "<style scoped>\n",
       "    .dataframe tbody tr th:only-of-type {\n",
       "        vertical-align: middle;\n",
       "    }\n",
       "\n",
       "    .dataframe tbody tr th {\n",
       "        vertical-align: top;\n",
       "    }\n",
       "\n",
       "    .dataframe thead th {\n",
       "        text-align: right;\n",
       "    }\n",
       "</style>\n",
       "<table border=\"1\" class=\"dataframe\">\n",
       "  <thead>\n",
       "    <tr style=\"text-align: right;\">\n",
       "      <th>AdoptionSpeed</th>\n",
       "      <th>0</th>\n",
       "      <th>1</th>\n",
       "      <th>2</th>\n",
       "      <th>3</th>\n",
       "      <th>4</th>\n",
       "    </tr>\n",
       "    <tr>\n",
       "      <th>QuantityGroup</th>\n",
       "      <th></th>\n",
       "      <th></th>\n",
       "      <th></th>\n",
       "      <th></th>\n",
       "      <th></th>\n",
       "    </tr>\n",
       "  </thead>\n",
       "  <tbody>\n",
       "    <tr>\n",
       "      <th>Single pet</th>\n",
       "      <td>0.028621</td>\n",
       "      <td>0.210895</td>\n",
       "      <td>0.273498</td>\n",
       "      <td>0.220666</td>\n",
       "      <td>0.266321</td>\n",
       "    </tr>\n",
       "    <tr>\n",
       "      <th>Short group</th>\n",
       "      <td>0.024613</td>\n",
       "      <td>0.203938</td>\n",
       "      <td>0.254571</td>\n",
       "      <td>0.215893</td>\n",
       "      <td>0.300985</td>\n",
       "    </tr>\n",
       "    <tr>\n",
       "      <th>Large group</th>\n",
       "      <td>0.021934</td>\n",
       "      <td>0.179960</td>\n",
       "      <td>0.255234</td>\n",
       "      <td>0.199402</td>\n",
       "      <td>0.343470</td>\n",
       "    </tr>\n",
       "  </tbody>\n",
       "</table>\n",
       "</div>"
      ],
      "text/plain": [
       "AdoptionSpeed         0         1         2         3         4\n",
       "QuantityGroup                                                  \n",
       "Single pet     0.028621  0.210895  0.273498  0.220666  0.266321\n",
       "Short group    0.024613  0.203938  0.254571  0.215893  0.300985\n",
       "Large group    0.021934  0.179960  0.255234  0.199402  0.343470"
      ]
     },
     "execution_count": 194,
     "metadata": {},
     "output_type": "execute_result"
    }
   ],
   "source": [
    "q_percentages = (qgruops.T/qgruops.sum(axis=1)).T \n",
    "q_percentages"
   ]
  },
  {
   "cell_type": "code",
   "execution_count": 205,
   "metadata": {},
   "outputs": [
    {
     "name": "stdout",
     "output_type": "stream",
     "text": [
      "\n",
      "0.028620838737570254 0.21089494163424125 0.27349762213575446 0.22066580198875918 0.2663207955036749 \n",
      "0.02461322081575246 0.2039381153305204 0.2545710267229255 0.2158931082981716 0.3009845288326301 \n",
      "0.02193419740777667 0.17996011964107678 0.25523429710867396 0.19940179461615154 0.34346959122632104 "
     ]
    }
   ],
   "source": [
    "for i in range(15):\n",
    "    if i % 5 == 0:\n",
    "        print()\n",
    "    print(q_percentages.values.flat[i], end=' ')\n",
    "    "
   ]
  },
  {
   "cell_type": "code",
   "execution_count": 227,
   "metadata": {},
   "outputs": [
    {
     "data": {
      "image/png": "[encoded data removed]",
      "text/plain": [
       "<Figure size 720x432 with 1 Axes>"
      ]
     },
     "metadata": {
      "needs_background": "light"
     },
     "output_type": "display_data"
    }
   ],
   "source": [
    "ax = qgruops.plot(kind='bar', figsize=(10,6))\n",
    "ax.set_title(\"Distribución de la velocidad de adopción por tamaño de grupo de mascota\")\n",
    "for ix, (_,p) in enumerate(sorted([(p.get_xy(), p) for p in ax.patches])):\n",
    "    width, height = p.get_width(), p.get_height()\n",
    "    x, y = p.get_xy() \n",
    "    ax.annotate('{:.0%}'.format(q_percentages.values.flat[ix]), (x, y + height + 0.01))"
   ]
  },
  {
   "cell_type": "markdown",
   "metadata": {},
   "source": [
    "Al parecer, el comportamiento de la velocidad de adopción se mantiene incluso para los anuncios\n",
    "<br>más de una mascota. Esto significa que la velocidad de adopción es independiente del numero de mascotas.\n"
   ]
  },
  {
   "cell_type": "markdown",
   "metadata": {},
   "source": [
    "### Fee"
   ]
  },
  {
   "cell_type": "markdown",
   "metadata": {},
   "source": [
    "### State"
   ]
  },
  {
   "cell_type": "markdown",
   "metadata": {},
   "source": [
    "### Description"
   ]
  },
  {
   "cell_type": "code",
   "execution_count": null,
   "metadata": {},
   "outputs": [],
   "source": []
  }
 ],
 "metadata": {
  "kernelspec": {
   "display_name": "Python 3",
   "language": "python",
   "name": "python3"
  },
  "language_info": {
   "codemirror_mode": {
    "name": "ipython",
    "version": 3
   },
   "file_extension": ".py",
   "mimetype": "text/x-python",
   "name": "python",
   "nbconvert_exporter": "python",
   "pygments_lexer": "ipython3",
   "version": "3.7.2"
  }
 },
 "nbformat": 4,
 "nbformat_minor": 2
}
